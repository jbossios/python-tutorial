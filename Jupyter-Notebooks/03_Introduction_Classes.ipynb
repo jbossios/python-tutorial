{
 "cells": [
  {
   "cell_type": "markdown",
   "id": "7815da4d",
   "metadata": {},
   "source": [
    "# <div align='center'>Introduction to Python: Classes</div>"
   ]
  },
  {
   "cell_type": "code",
   "execution_count": 1,
   "id": "14967562",
   "metadata": {},
   "outputs": [],
   "source": [
    "# Inheritance"
   ]
  },
  {
   "cell_type": "code",
   "execution_count": 2,
   "id": "df6f0942",
   "metadata": {},
   "outputs": [],
   "source": [
    "# Naming convention for method and instance names\n",
    "#Use the function naming rules:\n",
    "#Use one leading underscore only for non-public (private) methods and instance variables"
   ]
  },
  {
   "cell_type": "code",
   "execution_count": 3,
   "id": "8fd4dadb",
   "metadata": {},
   "outputs": [],
   "source": [
    "# public vs private"
   ]
  },
  {
   "cell_type": "code",
   "execution_count": 4,
   "id": "7b77c1da",
   "metadata": {},
   "outputs": [],
   "source": [
    "# Instances"
   ]
  },
  {
   "cell_type": "code",
   "execution_count": 5,
   "id": "3be26a7c",
   "metadata": {},
   "outputs": [],
   "source": [
    "# Methods and member functions"
   ]
  },
  {
   "cell_type": "code",
   "execution_count": 6,
   "id": "8e6b6455",
   "metadata": {},
   "outputs": [],
   "source": [
    "# Shared members?"
   ]
  },
  {
   "cell_type": "code",
   "execution_count": 7,
   "id": "1fcd7937",
   "metadata": {},
   "outputs": [],
   "source": [
    "class Position:\n",
    "    def __init__(self, x, y):\n",
    "        self.x = x\n",
    "        self.y = y"
   ]
  },
  {
   "cell_type": "code",
   "execution_count": 8,
   "id": "b66281e0",
   "metadata": {},
   "outputs": [
    {
     "name": "stdout",
     "output_type": "stream",
     "text": [
      "position.x = 10\n",
      "position.y = 23\n"
     ]
    }
   ],
   "source": [
    "position = Position(x = 10, y = 23)\n",
    "print(f'{position.x = }')\n",
    "print(f'{position.y = }')"
   ]
  },
  {
   "cell_type": "markdown",
   "id": "d74fe4e8",
   "metadata": {},
   "source": [
    "## Annotations / type hints"
   ]
  },
  {
   "cell_type": "code",
   "execution_count": 9,
   "id": "864145b5",
   "metadata": {},
   "outputs": [],
   "source": [
    "class Position:\n",
    "    def __init__(self, x: float, y: float):\n",
    "        self.x: float = x\n",
    "        self.y: float = y"
   ]
  },
  {
   "cell_type": "code",
   "execution_count": 10,
   "id": "345bb4de",
   "metadata": {},
   "outputs": [],
   "source": [
    "# Introduce dunder methods"
   ]
  },
  {
   "cell_type": "code",
   "execution_count": 11,
   "id": "43d77b59",
   "metadata": {},
   "outputs": [],
   "source": [
    "# isinstance"
   ]
  },
  {
   "cell_type": "markdown",
   "id": "7d9b0854",
   "metadata": {},
   "source": [
    "## ```__repr__``` (used to print class)"
   ]
  },
  {
   "cell_type": "code",
   "execution_count": 12,
   "id": "0889ec4a",
   "metadata": {},
   "outputs": [],
   "source": [
    "class Position:\n",
    "    def __init__(self, x: float, y: float):\n",
    "        self.x: float = x\n",
    "        self.y: float = y\n",
    "            \n",
    "    def __repr__(self):\n",
    "        return f\"{self.__class__.__name__}(x={self.x}, y={self.y})\""
   ]
  },
  {
   "cell_type": "markdown",
   "id": "14d42ed4",
   "metadata": {},
   "source": [
    "Let's compare what ```print()``` gives when defining or not ```__repr__```\n",
    "\n",
    "Example of an instance of ```Position``` w/o defining `__repr__```:"
   ]
  },
  {
   "cell_type": "code",
   "execution_count": 13,
   "id": "b8887a4d",
   "metadata": {},
   "outputs": [
    {
     "name": "stdout",
     "output_type": "stream",
     "text": [
      "<__main__.Position object at 0x7f5e44289cd0>\n"
     ]
    }
   ],
   "source": [
    "print(position)"
   ]
  },
  {
   "cell_type": "markdown",
   "id": "8284e147",
   "metadata": {},
   "source": [
    "Example of an instance of ```Position``` including a definition of `__repr__```:"
   ]
  },
  {
   "cell_type": "code",
   "execution_count": 14,
   "id": "a843c42c",
   "metadata": {},
   "outputs": [
    {
     "name": "stdout",
     "output_type": "stream",
     "text": [
      "Position(x=1, y=2)\n"
     ]
    }
   ],
   "source": [
    "position_1 = Position(1,2)\n",
    "print(position_1)"
   ]
  },
  {
   "cell_type": "markdown",
   "id": "ebea0004",
   "metadata": {},
   "source": [
    "## ```__eq__``` (used to address if two instances are equal instance_1 == instance_2)\n",
    "\n",
    " It should return either a boolean value if your class knows how to compare itself to other or NotImplemented if it doesn’t."
   ]
  },
  {
   "cell_type": "code",
   "execution_count": 15,
   "id": "6c9cb757",
   "metadata": {},
   "outputs": [],
   "source": [
    "class Position:\n",
    "    def __init__(self, x: float, y: float):\n",
    "        self.x: float = x\n",
    "        self.y: float = y\n",
    "            \n",
    "    def __repr__(self):\n",
    "        return f\"{self.__class__.__name__}(x={self.x}, y={self.y})\"\n",
    "            \n",
    "    def __eq__(self, other):\n",
    "        if isinstance(other,self.__class__):\n",
    "            return (self.x, self.y) == (other.x, other.y)\n",
    "        else:\n",
    "            return NotImplemented"
   ]
  },
  {
   "cell_type": "code",
   "execution_count": 16,
   "id": "e5f0f7d3",
   "metadata": {},
   "outputs": [
    {
     "name": "stdout",
     "output_type": "stream",
     "text": [
      "position_1 == position_2\n",
      "position_1 != position_2\n"
     ]
    }
   ],
   "source": [
    "position_1 = Position(1,2)\n",
    "position_2 = Position(2,3)\n",
    "position_3 = Position(1,2)\n",
    "\n",
    "if position_1 == position_3:\n",
    "    print('position_1 == position_2')\n",
    "if position_1 != position_2:\n",
    "    print('position_1 != position_2')"
   ]
  },
  {
   "cell_type": "markdown",
   "id": "18f32056",
   "metadata": {},
   "source": [
    "## ```__ne__``` (used to address if two instances are not equal instance_1 != instance_2)\n",
    "\n",
    "Python 3 is friendly enough to implement an obvious ```__ne__()``` for you, if you don’t make one yourself."
   ]
  },
  {
   "cell_type": "markdown",
   "id": "24122bb0",
   "metadata": {},
   "source": [
    "## ```__lt__```, ```__le__```, ```__gt__``` and ```__ge__```"
   ]
  },
  {
   "cell_type": "markdown",
   "id": "2b941139",
   "metadata": {},
   "source": [
    "## __hash__\n",
    "\n",
    "A hash is an unique \n",
    "\n",
    "Mutable objects are not hashable (they don't have a hash, __hash__ would return None)\n",
    "\n",
    "When comparing immutable objects, if they agree on value, they will have the same id and same hash\n",
    "\n",
    "An object hash is an integer number representing the value of the object and can be obtained using the hash() function if the object is hashable. To make a class hashable, it has to implement both the __hash__(self) method and the aforementioned __eq__(self, other) method. As with equality, the inherited object.__hash__ method works by identity only: barring the unlikely event of a hash collision, two instances of the same class will always have different hashes, no matter what data they carry.\n",
    "The hash of an object must never change during its lifetime.\n",
    "\n",
    " equal objects must have equal hashes\n",
    " \n",
    "    If a == b then hash(a) == hash(b)\n",
    "    If hash(a) == hash(b), then a might equal b\n",
    "    If hash(a) != hash(b), then a != b\n",
    "    \n",
    "Objects that implement logical equality (e.g. implement __eq__) must be immutable to be hashable\n",
    "\n",
    "__hash__ must never change. The hash of an object is never re-computed once it is inserted.\n",
    "Objects that implement logical equality (e.g. implement __eq__) must be immutable to be hashable. If an object has logical equality, updating that object would change its hash, violating rule 2.dict, list, set are all inherently mutable and therefore unhashable. str, bytes, frozenset, and tuple are immutable and therefore hashable."
   ]
  },
  {
   "cell_type": "code",
   "execution_count": 28,
   "id": "3891e866",
   "metadata": {},
   "outputs": [],
   "source": [
    "class Position:\n",
    "    def __init__(self, x: float, y: float):\n",
    "        # making x and y private (to ensure Position is immutable and hashable)\n",
    "        # This way, the following would not be possible Position.__x.\n",
    "        self.__x: float = x \n",
    "        self.__y: float = y \n",
    "\n",
    "    def x():\n",
    "        return self.__x\n",
    "    \n",
    "    def y():\n",
    "        return self.__y\n",
    "            \n",
    "    def __repr__(self):\n",
    "        return f\"{self.__class__.__name__}(x={self.__x}, y={self.__y})\"\n",
    "            \n",
    "    def __eq__(self, other):\n",
    "        if isinstance(other,self.__class__):\n",
    "            return (self.__x, self.__y) == (other.__x, other.__y)\n",
    "        else:\n",
    "            return NotImplemented\n",
    "    \n",
    "    def __hash__(self):\n",
    "        return hash((self.__class__, self.__x, self.__y))\n",
    "    \n",
    "# TODO: see why I still can set __x!!!"
   ]
  },
  {
   "cell_type": "code",
   "execution_count": 29,
   "id": "841fdbe8",
   "metadata": {},
   "outputs": [
    {
     "name": "stdout",
     "output_type": "stream",
     "text": [
      "position_1 == position_3 (i.e. position_1 and position_3 have the same content)\n",
      "position_1 != position_2 (i.e. position_1 and position_2 do not have the same content)\n",
      "hash(position_1) == hash(position_3) (i.e. position_1 and position_3 are identical)\n",
      "id(position_1) != id(position_3) (i.e. position_1 and position_3 are not the same object)\n"
     ]
    }
   ],
   "source": [
    "position_1 = Position(1,2)\n",
    "position_2 = Position(2,3)\n",
    "position_3 = Position(1,2)\n",
    "\n",
    "if position_1 == position_3:\n",
    "    print('position_1 == position_3 (i.e. position_1 and position_3 have the same content)')\n",
    "if position_1 != position_2:\n",
    "    print('position_1 != position_2 (i.e. position_1 and position_2 do not have the same content)')\n",
    "\n",
    "if hash(position_1) == hash(position_3):\n",
    "    print('hash(position_1) == hash(position_3) (i.e. position_1 and position_3 are identical)')\n",
    "else:\n",
    "    print('hash(position_1) != hash(position_3) (i.e. position_1 and position_3 are not identical)')\n",
    "\n",
    "if id(position_1) == id(position_3):\n",
    "    print('id(position_1) == id(position_3) (i.e. position_1 and position_3 are the same object)')\n",
    "else:\n",
    "    print('id(position_1) != id(position_3) (i.e. position_1 and position_3 are not the same object)')"
   ]
  },
  {
   "cell_type": "code",
   "execution_count": 30,
   "id": "4371e759",
   "metadata": {},
   "outputs": [
    {
     "name": "stdout",
     "output_type": "stream",
     "text": [
      "Position(x=1, y=2)\n"
     ]
    }
   ],
   "source": [
    "position_1.__y = 2\n",
    "print(position_1)"
   ]
  },
  {
   "cell_type": "markdown",
   "id": "94bfecb3",
   "metadata": {},
   "source": [
    "In the above example, ```position_1``` and ```position_3``` are identical (and hence equal) but are not the same object (they are two different instances of the same class with the same content)."
   ]
  },
  {
   "cell_type": "markdown",
   "id": "ca0d6b93",
   "metadata": {},
   "source": [
    "## property()"
   ]
  },
  {
   "cell_type": "code",
   "execution_count": 33,
   "id": "64444f36",
   "metadata": {},
   "outputs": [
    {
     "name": "stdout",
     "output_type": "stream",
     "text": [
      "User(name=Thomas, age=25)\n",
      "User(name=Thomas, age=26)\n",
      "User(name=Thomas, age=27)\n"
     ]
    }
   ],
   "source": [
    "class User:\n",
    "    def __init__(self, name: str, age: int):\n",
    "        self.name = name\n",
    "        self.age = age\n",
    "    \n",
    "    def update_name(self, name: str):\n",
    "        self.name = name\n",
    "    \n",
    "    def update_age(self, age: int):\n",
    "        self.age = age\n",
    "        \n",
    "    def __repr__(self):\n",
    "        return f\"{self.__class__.__name__}(name={self.name}, age={self.age})\"\n",
    "        \n",
    "User_1 = User('Thomas',25)\n",
    "print(User_1)\n",
    "User_1.age = 26\n",
    "print(User_1)\n",
    "User_1.update_age(27)\n",
    "print(User_1)"
   ]
  },
  {
   "cell_type": "markdown",
   "id": "193f404a",
   "metadata": {},
   "source": [
    "property()\n",
    "\n",
    "Let's say we added ```update_name()``` recently. We could update ```__init__``` to use it, but if there are codes that rely on ```User.__name```, they will stop working. The property() function can save you from having to update all old codes and maintain backwards compatibility"
   ]
  },
  {
   "cell_type": "code",
   "execution_count": 1,
   "id": "dec5510d",
   "metadata": {},
   "outputs": [
    {
     "ename": "RecursionError",
     "evalue": "maximum recursion depth exceeded",
     "output_type": "error",
     "traceback": [
      "\u001b[0;31m---------------------------------------------------------------------------\u001b[0m",
      "\u001b[0;31mRecursionError\u001b[0m                            Traceback (most recent call last)",
      "\u001b[0;32m/tmp/ipykernel_654960/496639073.py\u001b[0m in \u001b[0;36m<module>\u001b[0;34m\u001b[0m\n\u001b[1;32m     23\u001b[0m     \u001b[0mage\u001b[0m \u001b[0;34m=\u001b[0m \u001b[0mproperty\u001b[0m\u001b[0;34m(\u001b[0m\u001b[0mget_age\u001b[0m\u001b[0;34m,\u001b[0m \u001b[0mupdate_age\u001b[0m\u001b[0;34m)\u001b[0m\u001b[0;34m\u001b[0m\u001b[0;34m\u001b[0m\u001b[0m\n\u001b[1;32m     24\u001b[0m \u001b[0;34m\u001b[0m\u001b[0m\n\u001b[0;32m---> 25\u001b[0;31m \u001b[0mUser_1\u001b[0m \u001b[0;34m=\u001b[0m \u001b[0mUser\u001b[0m\u001b[0;34m(\u001b[0m\u001b[0;34m'Thomas'\u001b[0m\u001b[0;34m,\u001b[0m\u001b[0;36m25\u001b[0m\u001b[0;34m)\u001b[0m\u001b[0;34m\u001b[0m\u001b[0;34m\u001b[0m\u001b[0m\n\u001b[0m\u001b[1;32m     26\u001b[0m \u001b[0mprint\u001b[0m\u001b[0;34m(\u001b[0m\u001b[0mUser_1\u001b[0m\u001b[0;34m)\u001b[0m\u001b[0;34m\u001b[0m\u001b[0;34m\u001b[0m\u001b[0m\n\u001b[1;32m     27\u001b[0m \u001b[0mUser_1\u001b[0m\u001b[0;34m.\u001b[0m\u001b[0mage\u001b[0m \u001b[0;34m=\u001b[0m \u001b[0;36m26\u001b[0m\u001b[0;34m\u001b[0m\u001b[0;34m\u001b[0m\u001b[0m\n",
      "\u001b[0;32m/tmp/ipykernel_654960/496639073.py\u001b[0m in \u001b[0;36m__init__\u001b[0;34m(self, name, age)\u001b[0m\n\u001b[1;32m      1\u001b[0m \u001b[0;32mclass\u001b[0m \u001b[0mUser\u001b[0m\u001b[0;34m:\u001b[0m\u001b[0;34m\u001b[0m\u001b[0;34m\u001b[0m\u001b[0m\n\u001b[1;32m      2\u001b[0m     \u001b[0;32mdef\u001b[0m \u001b[0m__init__\u001b[0m\u001b[0;34m(\u001b[0m\u001b[0mself\u001b[0m\u001b[0;34m,\u001b[0m \u001b[0mname\u001b[0m\u001b[0;34m:\u001b[0m \u001b[0mstr\u001b[0m\u001b[0;34m,\u001b[0m \u001b[0mage\u001b[0m\u001b[0;34m:\u001b[0m \u001b[0mint\u001b[0m\u001b[0;34m)\u001b[0m\u001b[0;34m:\u001b[0m\u001b[0;34m\u001b[0m\u001b[0;34m\u001b[0m\u001b[0m\n\u001b[0;32m----> 3\u001b[0;31m         \u001b[0mself\u001b[0m\u001b[0;34m.\u001b[0m\u001b[0mname\u001b[0m \u001b[0;34m=\u001b[0m \u001b[0mname\u001b[0m\u001b[0;34m\u001b[0m\u001b[0;34m\u001b[0m\u001b[0m\n\u001b[0m\u001b[1;32m      4\u001b[0m         \u001b[0mself\u001b[0m\u001b[0;34m.\u001b[0m\u001b[0mage\u001b[0m \u001b[0;34m=\u001b[0m \u001b[0mage\u001b[0m\u001b[0;34m\u001b[0m\u001b[0;34m\u001b[0m\u001b[0m\n\u001b[1;32m      5\u001b[0m \u001b[0;34m\u001b[0m\u001b[0m\n",
      "\u001b[0;32m/tmp/ipykernel_654960/496639073.py\u001b[0m in \u001b[0;36mupdate_name\u001b[0;34m(self, name)\u001b[0m\n\u001b[1;32m      5\u001b[0m \u001b[0;34m\u001b[0m\u001b[0m\n\u001b[1;32m      6\u001b[0m     \u001b[0;32mdef\u001b[0m \u001b[0mupdate_name\u001b[0m\u001b[0;34m(\u001b[0m\u001b[0mself\u001b[0m\u001b[0;34m,\u001b[0m \u001b[0mname\u001b[0m\u001b[0;34m:\u001b[0m \u001b[0mstr\u001b[0m\u001b[0;34m)\u001b[0m\u001b[0;34m:\u001b[0m\u001b[0;34m\u001b[0m\u001b[0;34m\u001b[0m\u001b[0m\n\u001b[0;32m----> 7\u001b[0;31m         \u001b[0mself\u001b[0m\u001b[0;34m.\u001b[0m\u001b[0mname\u001b[0m \u001b[0;34m=\u001b[0m \u001b[0mname\u001b[0m\u001b[0;34m\u001b[0m\u001b[0;34m\u001b[0m\u001b[0m\n\u001b[0m\u001b[1;32m      8\u001b[0m \u001b[0;34m\u001b[0m\u001b[0m\n\u001b[1;32m      9\u001b[0m     \u001b[0;32mdef\u001b[0m \u001b[0mupdate_age\u001b[0m\u001b[0;34m(\u001b[0m\u001b[0mself\u001b[0m\u001b[0;34m,\u001b[0m \u001b[0mage\u001b[0m\u001b[0;34m:\u001b[0m \u001b[0mint\u001b[0m\u001b[0;34m)\u001b[0m\u001b[0;34m:\u001b[0m\u001b[0;34m\u001b[0m\u001b[0;34m\u001b[0m\u001b[0m\n",
      "... last 1 frames repeated, from the frame below ...\n",
      "\u001b[0;32m/tmp/ipykernel_654960/496639073.py\u001b[0m in \u001b[0;36mupdate_name\u001b[0;34m(self, name)\u001b[0m\n\u001b[1;32m      5\u001b[0m \u001b[0;34m\u001b[0m\u001b[0m\n\u001b[1;32m      6\u001b[0m     \u001b[0;32mdef\u001b[0m \u001b[0mupdate_name\u001b[0m\u001b[0;34m(\u001b[0m\u001b[0mself\u001b[0m\u001b[0;34m,\u001b[0m \u001b[0mname\u001b[0m\u001b[0;34m:\u001b[0m \u001b[0mstr\u001b[0m\u001b[0;34m)\u001b[0m\u001b[0;34m:\u001b[0m\u001b[0;34m\u001b[0m\u001b[0;34m\u001b[0m\u001b[0m\n\u001b[0;32m----> 7\u001b[0;31m         \u001b[0mself\u001b[0m\u001b[0;34m.\u001b[0m\u001b[0mname\u001b[0m \u001b[0;34m=\u001b[0m \u001b[0mname\u001b[0m\u001b[0;34m\u001b[0m\u001b[0;34m\u001b[0m\u001b[0m\n\u001b[0m\u001b[1;32m      8\u001b[0m \u001b[0;34m\u001b[0m\u001b[0m\n\u001b[1;32m      9\u001b[0m     \u001b[0;32mdef\u001b[0m \u001b[0mupdate_age\u001b[0m\u001b[0;34m(\u001b[0m\u001b[0mself\u001b[0m\u001b[0;34m,\u001b[0m \u001b[0mage\u001b[0m\u001b[0;34m:\u001b[0m \u001b[0mint\u001b[0m\u001b[0;34m)\u001b[0m\u001b[0;34m:\u001b[0m\u001b[0;34m\u001b[0m\u001b[0;34m\u001b[0m\u001b[0m\n",
      "\u001b[0;31mRecursionError\u001b[0m: maximum recursion depth exceeded"
     ]
    }
   ],
   "source": [
    "class User:\n",
    "    def __init__(self, name: str, age: int):\n",
    "        self.name = name\n",
    "        self.age = age\n",
    "    \n",
    "    def update_name(self, name: str):\n",
    "        self.name = name\n",
    "    \n",
    "    def update_age(self, age: int):\n",
    "        self.age = age\n",
    "        \n",
    "    def get_name(self):\n",
    "        return self.name\n",
    "        \n",
    "    def get_age(self):\n",
    "        return self.age\n",
    "        \n",
    "    def __repr__(self):\n",
    "        return f\"{self.__class__.__name__}(name={self.name}, age={self.age})\"\n",
    "    \n",
    "    # creating a property object\n",
    "    name = property(get_name, update_name)\n",
    "    age = property(get_age, update_age)\n",
    "        \n",
    "User_1 = User('Thomas',25)\n",
    "print(User_1)\n",
    "User_1.age = 26\n",
    "print(User_1)\n",
    "User_1.update_age(27)\n",
    "print(User_1)\n",
    "\n",
    "# CONTINUE: LEARN MORE ABOUT PROPERTY() AND HOW TO USE IT"
   ]
  },
  {
   "cell_type": "markdown",
   "id": "98c2909a",
   "metadata": {},
   "source": [
    "@property\n",
    "\n",
    "However, the bigger problem with the above update is that all the programs that implemented our previous class have to modify their code from obj.temperature to obj.get_temperature() and all expressions like obj.temperature = val to obj.set_temperature(val).\n",
    "\n",
    "This refactoring can cause problems while dealing with hundreds of thousands of lines of codes.\n",
    "\n",
    "All in all, our new update was not backwards compatible. This is where @property comes to rescue."
   ]
  },
  {
   "cell_type": "markdown",
   "id": "c3c84f27",
   "metadata": {},
   "source": [
    "## dataclass"
   ]
  },
  {
   "cell_type": "code",
   "execution_count": 4,
   "id": "dd3e91de",
   "metadata": {},
   "outputs": [],
   "source": [
    "from dataclasses import dataclass\n",
    "\n",
    "@dataclass\n",
    "class MyPosition: # Use CapWords convention [pep8 standard]\n",
    "    position: [int, int]\n",
    "        \n",
    "# this creates for you:\n",
    "__init__\n",
    "__repr__\n",
    "__eq__"
   ]
  },
  {
   "cell_type": "code",
   "execution_count": 5,
   "id": "dbe2bc68",
   "metadata": {},
   "outputs": [
    {
     "name": "stdout",
     "output_type": "stream",
     "text": [
      "my_position = MyPosition(position=(10, 23))\n"
     ]
    }
   ],
   "source": [
    "my_position = MyPosition(position=(10,23))\n",
    "print(f'{my_position = }')"
   ]
  },
  {
   "cell_type": "markdown",
   "id": "dcd4a83e",
   "metadata": {},
   "source": [
    "order=True adds:\n",
    "\n",
    "```\n",
    "__lt__\n",
    "__le__\n",
    "__gt__\n",
    "__ge__\n",
    "```\n",
    "\n",
    "```fronzen=True``` makes it immutable, hence hashable and adds ```__hash__``` for you (it also adds ```__setattr__```, which is necessari to make it immutable)\n",
    "\n",
    "It might worth making some classes frozen so they can use them as keys in dictionaries"
   ]
  },
  {
   "cell_type": "code",
   "execution_count": 10,
   "id": "25b80b51",
   "metadata": {},
   "outputs": [],
   "source": [
    "@dataclass(frozen=True, order=True)\n",
    "class BankTransfer:\n",
    "    id: int\n",
    "    amount: float\n",
    "    currency: str = 'USD' # default value is 'USD'"
   ]
  },
  {
   "cell_type": "code",
   "execution_count": 11,
   "id": "e06f52f6",
   "metadata": {},
   "outputs": [
    {
     "name": "stdout",
     "output_type": "stream",
     "text": [
      "BankTransfer(id=0, amount=100)\n",
      "(0, 100)\n",
      "{'id': 0, 'amount': 100}\n"
     ]
    }
   ],
   "source": [
    "from dataclasses import astuple, asdict\n",
    "transfer = BankTransfer(0,100)\n",
    "print(transfer)\n",
    "print(astuple(transfer))\n",
    "print(asdict(transfer))"
   ]
  },
  {
   "cell_type": "code",
   "execution_count": null,
   "id": "ac4210fe",
   "metadata": {},
   "outputs": [],
   "source": [
    "How to use mutable objects are methods?"
   ]
  },
  {
   "cell_type": "code",
   "execution_count": null,
   "id": "a3a71985",
   "metadata": {},
   "outputs": [],
   "source": [
    "Wrong way:"
   ]
  },
  {
   "cell_type": "code",
   "execution_count": 13,
   "id": "83c08d53",
   "metadata": {},
   "outputs": [
    {
     "name": "stdout",
     "output_type": "stream",
     "text": [
      "[1, 2]\n",
      "[1, 2]\n"
     ]
    }
   ],
   "source": [
    "class C:\n",
    "    x = []\n",
    "    def add(self, element):\n",
    "        self.x.append(element)\n",
    "\n",
    "o1 = C()\n",
    "o2 = C()\n",
    "o1.add(1)\n",
    "o2.add(2)\n",
    "print(o1.x)\n",
    "print(o2.x)\n",
    "\n",
    "# they both share the same list"
   ]
  },
  {
   "cell_type": "code",
   "execution_count": null,
   "id": "ec739ba1",
   "metadata": {},
   "outputs": [],
   "source": [
    "Correct way:    "
   ]
  },
  {
   "cell_type": "code",
   "execution_count": 17,
   "id": "7c2a3aae",
   "metadata": {},
   "outputs": [
    {
     "name": "stdout",
     "output_type": "stream",
     "text": [
      "[1]\n",
      "[2]\n"
     ]
    }
   ],
   "source": [
    "class D:\n",
    "    def __init__(self):\n",
    "      self.x = []\n",
    "    def add(self, element):\n",
    "        self.x.append(element)\n",
    "\n",
    "o1 = D()\n",
    "o2 = D()\n",
    "o1.add(1)\n",
    "o2.add(2)\n",
    "print(o1.x)\n",
    "print(o2.x)\n",
    "\n",
    "# they both share the same list"
   ]
  },
  {
   "cell_type": "code",
   "execution_count": null,
   "id": "494a344a",
   "metadata": {},
   "outputs": [],
   "source": [
    "from dataclasses import field\n",
    "\n",
    "@dataclass(frozen=True, order=True)\n",
    "class BankTransfer:\n",
    "    id: int\n",
    "    amount: float\n",
    "    currency: str = 'USD' # default value is 'USD'\n",
    "    x: list = field(default_factory=list)\n",
    "        \n",
    "the dataclass() decorator will raise a TypeError if it detects a default parameter of type list, dict, or set\n",
    "    \n",
    "Using default factory functions is a way to create new instances of mutable types as default values for fields:"
   ]
  },
  {
   "cell_type": "markdown",
   "id": "d567c214",
   "metadata": {},
   "source": [
    "# <div align='center'>Exercises</div>"
   ]
  },
  {
   "cell_type": "code",
   "execution_count": null,
   "id": "6c52e9c1",
   "metadata": {},
   "outputs": [],
   "source": []
  }
 ],
 "metadata": {
  "kernelspec": {
   "display_name": "Python 3 (ipykernel)",
   "language": "python",
   "name": "python3"
  },
  "language_info": {
   "codemirror_mode": {
    "name": "ipython",
    "version": 3
   },
   "file_extension": ".py",
   "mimetype": "text/x-python",
   "name": "python",
   "nbconvert_exporter": "python",
   "pygments_lexer": "ipython3",
   "version": "3.8.10"
  }
 },
 "nbformat": 4,
 "nbformat_minor": 5
}
