{
 "cells": [
  {
   "cell_type": "markdown",
   "id": "7815da4d",
   "metadata": {},
   "source": [
    "# <div align='center'>Introduction to Python for data analysis: Object-oriented programming</div>\n",
    "\n",
    "Object-oriented programming is a programming model/concept based on objects. Objects contain data in the form of attributes or properties and code in the form of methods (i.e. functions). From now on, I will use methods and functions interchangeably. Similarly, I will use variables and attributes interchangeably.\n",
    "\n",
    "There are varius object-oriented programming languages, but the most popular ones are class-based, meaning that objects are instances of classes, which also determine their types.\n",
    "\n",
    "Let's first define the following concepts:\n",
    "\n",
    "- **Class**: A class is a prototype of an object that defines a set of attributes that characterize any object of such a class. The attributes are data members (class variables and instance variables, see below) and methods (i.e. functions).\n",
    "\n",
    "- **Instance**: An instance is an individual object of a certain class. For example, an object ```my_position``` that belongs to a class ```Position``` is an instance of the class ```Position```.\n",
    "\n",
    "- **Class attribute**: A class attribute is a variable that is shared by all instances of a class. Class variables are defined within a class but outside any of the class' methods. \n",
    "\n",
    "- **Instance attribute**: An instance attribute is a variable that is defined inside a method and belongs only to the current instance of a class.\n",
    "\n",
    "\n",
    "\n",
    "# Contents\n",
    "\n",
    "1. <a href=\"#simplest\">Simplest example</a>\n",
    "2. <a href='#methods'>Methods</a>\n",
    "    1. <a href='#dunder'>Dunder methods</a>\n",
    "        1. <a href='#init'>The ```__init__``` method</a>\n",
    "        2. <a href='#repr'>The ```__repr__``` method</a>\n",
    "        3. <a href='#eq'>The ```__eq__``` and ```__ne__``` methods</a>\n",
    "        4. <a href='#lt'>The ```__lt__```, ```__le__```, ```__gt__``` and ```__ge__``` methods</a>\n",
    "3. <a href='#class_attributes'>Class attributes</a>\n",
    "4. <a href='#inheritance'>Inheritance</a>\n",
    "     1. <a href='#double-inheritance'>Double inheritance</a>\n",
    "     2. <a href='#mro'>Method Resolution Order (MRO)</a>\n",
    "5. <a href='#public-protected-private'>Public, protected and private attributes/methods</a>\n",
    "\n",
    "\n",
    "\n"
   ]
  },
  {
   "cell_type": "markdown",
   "id": "56e63ab7",
   "metadata": {},
   "source": [
    "## <div id='simplest'>1. The simplest example of a class</div>\n",
    "\n",
    "<u>Syntax:</u>\n",
    "\n",
    "```\n",
    "class ClassName:\n",
    "    <statement-1>\n",
    "    ...\n",
    "    <statement-N>\n",
    "```\n",
    "\n",
    "**Example:**\n",
    "\n",
    "Let's create a class to store my position on a given 2D plane through two attributes (```x``` and ```y```)."
   ]
  },
  {
   "cell_type": "code",
   "execution_count": 1,
   "id": "e2490814",
   "metadata": {},
   "outputs": [],
   "source": [
    "class Position:\n",
    "    \"\"\"My location in the living room's floor\"\"\"\n",
    "    x = 100\n",
    "    y = 20"
   ]
  },
  {
   "cell_type": "markdown",
   "id": "5f29a978",
   "metadata": {},
   "source": [
    "**Note**: Class names should start each word with a capital letter and each word should not be separated with underscores, this convention is known as CamelCase (or CapWords). All attributes and methods should follow the snake_case convention (the same used for functions and variables).\n",
    "\n",
    "**Note**: In the above example, ```x``` and ```y``` are class variables."
   ]
  },
  {
   "cell_type": "markdown",
   "id": "7f317913",
   "metadata": {},
   "source": [
    "**How can I access the value of an atribute?**\n",
    "\n",
    "```\n",
    "ClassName.attribute_name\n",
    "```\n",
    "\n",
    "Attributes can be read-only or writable. By default, all attributes are public (i.e can be writable), we will see how to define read-only attributes later. So, as long as attributes are writable, we can re-assign values to them in the following way:\n",
    "\n",
    "```\n",
    "ClassName.attribute_name = value\n",
    "```\n",
    "\n",
    "Let's create an instance of ```Position``` and get the values stored on class variables ```x``` and ```y```:"
   ]
  },
  {
   "cell_type": "code",
   "execution_count": 2,
   "id": "d33d4a9a",
   "metadata": {},
   "outputs": [
    {
     "name": "stdout",
     "output_type": "stream",
     "text": [
      "my_position.x = 100\n",
      "my_position.y = 20\n"
     ]
    }
   ],
   "source": [
    "my_position = Position()\n",
    "print(f'{my_position.x = }')\n",
    "print(f'{my_position.y = }')"
   ]
  },
  {
   "cell_type": "markdown",
   "id": "88c06bf1",
   "metadata": {},
   "source": [
    "**Note:** Similarly to functions, we can access the class' comment through ```Position.__doc__```"
   ]
  },
  {
   "cell_type": "code",
   "execution_count": 3,
   "id": "04872536",
   "metadata": {},
   "outputs": [
    {
     "name": "stdout",
     "output_type": "stream",
     "text": [
      "Position.__doc__ = \"My location in the living room's floor\"\n"
     ]
    }
   ],
   "source": [
    "print(f'{Position.__doc__ = }')"
   ]
  },
  {
   "cell_type": "markdown",
   "id": "690f26aa",
   "metadata": {},
   "source": [
    "We could also print the comment using the instance of the ```Position``` class:"
   ]
  },
  {
   "cell_type": "code",
   "execution_count": 4,
   "id": "693b4e1d",
   "metadata": {},
   "outputs": [
    {
     "name": "stdout",
     "output_type": "stream",
     "text": [
      "my_position.__doc__ = \"My location in the living room's floor\"\n"
     ]
    }
   ],
   "source": [
    "print(f'{my_position.__doc__ = }')"
   ]
  },
  {
   "cell_type": "markdown",
   "id": "2218dfe2",
   "metadata": {},
   "source": [
    "**Note:** You can check if an object is an instance of a given class with the built-in ```isinstance()``` function. \n",
    "\n",
    "<u>Syntax:</u>\n",
    "\n",
    "```\n",
    "isinstance(object, type)\n",
    "```\n",
    "\n",
    "This can be used for built-in types or custom classes.\n",
    "\n",
    "**Examples:**"
   ]
  },
  {
   "cell_type": "code",
   "execution_count": 5,
   "id": "f724511d",
   "metadata": {},
   "outputs": [
    {
     "name": "stdout",
     "output_type": "stream",
     "text": [
      "Is my_position an instance of Position? Answer: True\n",
      "Is my_int an instance of int? Answer: True\n",
      "Is my_int an instance of float? Answer: False\n",
      "Is my_float an instance of float? Answer: True\n"
     ]
    }
   ],
   "source": [
    "my_position = Position()\n",
    "my_int = 2\n",
    "my_float = 1.4\n",
    "print(f'Is my_position an instance of Position? Answer: {isinstance(my_position, Position)}')\n",
    "print(f'Is my_int an instance of int? Answer: {isinstance(my_int, int)}')\n",
    "print(f'Is my_int an instance of float? Answer: {isinstance(my_int, float)}')\n",
    "print(f'Is my_float an instance of float? Answer: {isinstance(my_float, float)}')"
   ]
  },
  {
   "cell_type": "markdown",
   "id": "9aca963b",
   "metadata": {},
   "source": [
    "## <div id='methods'>2. Methods</div>\n",
    "\n",
    "Class methods are functions. For example, let's create a ```Print``` class which has a single method named ```print()``` that prints a message into a given format."
   ]
  },
  {
   "cell_type": "code",
   "execution_count": 6,
   "id": "b5df9baa",
   "metadata": {},
   "outputs": [
    {
     "name": "stdout",
     "output_type": "stream",
     "text": [
      "My message is: \"Everything is gonna be alright\"\n"
     ]
    }
   ],
   "source": [
    "class Print:\n",
    "    def print(message):\n",
    "        print(f'My message is: \"{message}\"')\n",
    "\n",
    "Print.print('Everything is gonna be alright')"
   ]
  },
  {
   "cell_type": "markdown",
   "id": "040fb37d",
   "metadata": {},
   "source": [
    "### <div id='dunder'>2.A Dunder methods</div>\n",
    "\n",
    "Dunder methods are all methods having two prefix and suffix underscores in their name. Dunder comes from \"Double Under (Underscores)\". Let's have a look at the most used dunder methods."
   ]
  },
  {
   "cell_type": "markdown",
   "id": "1bf19050",
   "metadata": {},
   "source": [
    "#### <div id='init'>2.A.a The ```__init__``` method</div>\n",
    "\n",
    "The ```__init__``` method is used to define properties of an instance as the first thing is done when a class is initiated.\n",
    "\n",
    "**Example:** Let's create a class to store a position on a 2D plane. To create an instance of such a class, I will be needing to provide two arguments, the values for ```x``` and ```y```."
   ]
  },
  {
   "cell_type": "code",
   "execution_count": 7,
   "id": "1fcd7937",
   "metadata": {},
   "outputs": [],
   "source": [
    "class Position:\n",
    "    def __init__(self, x, y):\n",
    "        self.x = x\n",
    "        self.y = y"
   ]
  },
  {
   "cell_type": "code",
   "execution_count": 8,
   "id": "b66281e0",
   "metadata": {},
   "outputs": [
    {
     "name": "stdout",
     "output_type": "stream",
     "text": [
      "my_position.x = 10\n",
      "my_position.y = 23\n"
     ]
    }
   ],
   "source": [
    "my_position = Position(x = 10, y = 23)\n",
    "print(f'{my_position.x = }')\n",
    "print(f'{my_position.y = }')"
   ]
  },
  {
   "cell_type": "markdown",
   "id": "4516a22d",
   "metadata": {},
   "source": [
    "**Note:** In the example above, ```x``` and ```y``` are instance variables.\n",
    "\n",
    "**Note:** I could have initiated also in the two following ways and all are equivalent:\n",
    "\n",
    "```\n",
    "my_position = Position(10, 23)\n",
    "```\n",
    "\n",
    "```\n",
    "my_position = Position(y = 23, x = 10)\n",
    "```\n",
    "\n",
    "The order is important when ```x``` and ```y``` are not explicitly used.\n",
    "\n",
    "**Note:** All dunder methods need to have ```self``` as first argument, even if no other arguments are needed."
   ]
  },
  {
   "cell_type": "markdown",
   "id": "7d9b0854",
   "metadata": {},
   "source": [
    "#### <div id='repr'>2.A.b The ```__repr__``` method</div>\n",
    "\n",
    "This method is used to define what is printed when passing an instance of a class to the built-in ```print()``` function, i.e. a printable representation of the given object."
   ]
  },
  {
   "cell_type": "markdown",
   "id": "14d42ed4",
   "metadata": {},
   "source": [
    "Let's compare what ```print()``` gives when we define or not the ```__repr__``` method.\n",
    "\n",
    "Let's print ```my_position``` which is an instance of ```Position``` which has no definition of a ```__repr__``` method:"
   ]
  },
  {
   "cell_type": "code",
   "execution_count": 9,
   "id": "b8887a4d",
   "metadata": {},
   "outputs": [
    {
     "name": "stdout",
     "output_type": "stream",
     "text": [
      "<__main__.Position object at 0x7fecbc6db970>\n"
     ]
    }
   ],
   "source": [
    "print(my_position)"
   ]
  },
  {
   "cell_type": "markdown",
   "id": "8284e147",
   "metadata": {},
   "source": [
    "Let's redefine ```Position``` to include now a definition for the ```__repr``` method, create an instance of such a class and see what now is printed by the print() function:"
   ]
  },
  {
   "cell_type": "code",
   "execution_count": 10,
   "id": "0889ec4a",
   "metadata": {},
   "outputs": [],
   "source": [
    "class Position:\n",
    "    def __init__(self, x, y):\n",
    "        self.x = x\n",
    "        self.y = y\n",
    "            \n",
    "    def __repr__(self):\n",
    "        return f'{self.__class__.__name__}(x={self.x}, y={self.y})'"
   ]
  },
  {
   "cell_type": "code",
   "execution_count": 11,
   "id": "a843c42c",
   "metadata": {},
   "outputs": [
    {
     "name": "stdout",
     "output_type": "stream",
     "text": [
      "Position(x=10, y=23)\n"
     ]
    }
   ],
   "source": [
    "my_position = Position(x = 10, y = 23)\n",
    "print(my_position)"
   ]
  },
  {
   "cell_type": "markdown",
   "id": "ebea0004",
   "metadata": {},
   "source": [
    "#### <div id='eq'>2.A.c The ```__eq__``` and ```__ne__``` methods</div>\n",
    "\n",
    "The ```__eq__``` method is used to address if two instances are equal, i.e. ```if instance_1 == instance_2```. It should return either a boolean value if your class knows how to compare itself to other instance of a class or ```NotImplemented``` if it doesn’t.\n",
    "\n",
    "On the other hand, the ```__ne__``` method is used to address if two instances are not equal, i.e ```if instance_1 != instance_2```\n",
    "\n",
    "Python3 is friendly enough to implement an obvious ```__ne__()``` for you, if you don’t make one yourself.\n",
    "\n",
    "**Example:**"
   ]
  },
  {
   "cell_type": "code",
   "execution_count": 12,
   "id": "6c9cb757",
   "metadata": {},
   "outputs": [],
   "source": [
    "class Position:\n",
    "    def __init__(self, x, y):\n",
    "        self.x = x\n",
    "        self.y = y\n",
    "            \n",
    "    def __repr__(self):\n",
    "        return f\"{self.__class__.__name__}(x={self.x}, y={self.y})\"\n",
    "            \n",
    "    def __eq__(self, other):\n",
    "        if isinstance(other, self.__class__):\n",
    "            return (self.x, self.y) == (other.x, other.y)\n",
    "        else:\n",
    "            return NotImplemented"
   ]
  },
  {
   "cell_type": "code",
   "execution_count": 13,
   "id": "e5f0f7d3",
   "metadata": {},
   "outputs": [
    {
     "name": "stdout",
     "output_type": "stream",
     "text": [
      "position_1 == position_2\n",
      "position_1 != position_2\n"
     ]
    }
   ],
   "source": [
    "position_1 = Position(1,2)\n",
    "position_2 = Position(2,3)\n",
    "position_3 = Position(1,2)\n",
    "\n",
    "if position_1 == position_3:\n",
    "    print('position_1 == position_2')\n",
    "if position_1 != position_2:\n",
    "    print('position_1 != position_2')"
   ]
  },
  {
   "cell_type": "markdown",
   "id": "24122bb0",
   "metadata": {},
   "source": [
    "#### <div id='lt'>2.A.d The ```__lt__```, ```__le__```, ```__gt__``` and ```__ge__``` methods</div>\n",
    "\n",
    "These methods are used for making numerical comparisons between instances.\n",
    "\n",
    "| <div align='center'>Dunder method</div>  | <div align='center'>Description</div>  |\n",
    "|---|---|\n",
    "| <div align='center'>```__lt__```</div>  | <div align='center'>used for the 'less than' operator (<)</div>  |\n",
    "| <div align='center'>```__le__```</div>  | <div align='center'>used for the 'less than or equal ot' operator (<=)</div> |\n",
    "| <div align='center'>```__gt__```</div>  | <div align='center'>used for the 'greater than' operator (>)</div>  |\n",
    "| <div align='center'>```__ge__```</div>  | <div align='center'>used for the 'greater than or equal to' operator (>=)</div>  |\n",
    "\n",
    "\n",
    "**Example:**"
   ]
  },
  {
   "cell_type": "code",
   "execution_count": 14,
   "id": "ac1276ab",
   "metadata": {},
   "outputs": [
    {
     "name": "stdout",
     "output_type": "stream",
     "text": [
      "My house is smaller than my friend's house\n"
     ]
    }
   ],
   "source": [
    "class House: \n",
    "    def __init__(self, area, rent):\n",
    "        self.area = area\n",
    "        self.rent = rent\n",
    "        \n",
    "    def __lt__(self, other):\n",
    "        return self.area < other.area\n",
    "    \n",
    "    def __le__(self, other):\n",
    "        return self.area <= other.area\n",
    "    \n",
    "    def __gt__(self, other):\n",
    "        return self.area > other.area\n",
    "    \n",
    "    def __ge__(self, other):\n",
    "        return self.area >= other.area\n",
    "    \n",
    "my_house = House(70, 1200)\n",
    "my_friends_house = House(75, 1350)\n",
    "\n",
    "# Which house is bigger?\n",
    "if my_house > my_friends_house:\n",
    "    print(\"My house is bigger than my friend's house\")\n",
    "else:\n",
    "    print(\"My house is smaller than my friend's house\")"
   ]
  },
  {
   "cell_type": "markdown",
   "id": "02c0b444",
   "metadata": {},
   "source": [
    "## <div id='class_attributes'>3. Class attributes</div>\n",
    "\n",
    "One can not only make an attribute different for each instance of a class but also make an attribute that is an attribute of the class itself (and is the same for all instances of that class).\n",
    "\n",
    "Let's create a ```Pet``` class which is used to create instances of different pets which have different names, but we also want to keep track of the number of pets with a class attribute."
   ]
  },
  {
   "cell_type": "code",
   "execution_count": 15,
   "id": "41f314e0",
   "metadata": {},
   "outputs": [
    {
     "name": "stdout",
     "output_type": "stream",
     "text": [
      "my_pet_1.number_of_pets = 1\n",
      "my_pet_2.number_of_pets = 2\n"
     ]
    }
   ],
   "source": [
    "class Pet:\n",
    "    number_of_pets = 0\n",
    "    \n",
    "    def __init__(self, name):\n",
    "        self.name = name\n",
    "        Pet.number_of_pets += 1\n",
    "\n",
    "my_pet_1 = Pet(\"Pelusas\")\n",
    "print(f'{my_pet_1.number_of_pets = }')\n",
    "\n",
    "my_pet_2 = Pet(\"Snowball\")\n",
    "print(f'{my_pet_2.number_of_pets = }')"
   ]
  },
  {
   "cell_type": "markdown",
   "id": "0386be16",
   "metadata": {},
   "source": [
    "**Note:** We can also access ```number_of_pets``` from the class itself, besides an instance of the Pet class:"
   ]
  },
  {
   "cell_type": "code",
   "execution_count": 16,
   "id": "c43df88c",
   "metadata": {},
   "outputs": [
    {
     "name": "stdout",
     "output_type": "stream",
     "text": [
      "Pet.number_of_pets = 2\n"
     ]
    }
   ],
   "source": [
    "print(f'{Pet.number_of_pets = }')"
   ]
  },
  {
   "cell_type": "markdown",
   "id": "6ad4e770",
   "metadata": {},
   "source": [
    "## <div id='inheritance'>4. Inheritance</div>\n",
    "\n",
    "Let's say we have two classes which are similar and have some members (attributes/methods) which are the same. In that case, it is useful to create a base class and then make the two other classes inherit from the so-called base class. These two classes are know as derived classes.\n",
    "\n",
    "<u>Syntax:</u>\n",
    "\n",
    "```\n",
    "class ClassName(BaseClass):\n",
    "```\n",
    "\n",
    "\n",
    "**Example:** Let's create an ```Animal``` class to store the name and age of any animal. Then, let's create a ```Dog``` class that inherits from the ```Animal``` class. This effectively means that any instance of the ```Dog``` class will have also an associated name and age. In addition, dogs (i.e. instances of the ```Dog``` class) will also know ```tricks```."
   ]
  },
  {
   "cell_type": "code",
   "execution_count": 17,
   "id": "700c1291",
   "metadata": {},
   "outputs": [],
   "source": [
    "class Animal:\n",
    "    def __init__(self, name, age):\n",
    "        self.name = name\n",
    "        self.age = age\n",
    "\n",
    "class Dog(Animal):\n",
    "    def __init__(self, name, age, tricks):\n",
    "        super().__init__(name, age)  # initialize base class (this is equivalent to Animal.__init__(name, age))\n",
    "        self.tricks = tricks\n",
    "\n",
    "class Cat(Animal):\n",
    "    pass"
   ]
  },
  {
   "cell_type": "markdown",
   "id": "3114fa8a",
   "metadata": {},
   "source": [
    "Let's create two instances, one of the class ```Cat``` and one of the ```Dog``` class, and print their attributes:"
   ]
  },
  {
   "cell_type": "code",
   "execution_count": 18,
   "id": "9a3e7340",
   "metadata": {},
   "outputs": [
    {
     "name": "stdout",
     "output_type": "stream",
     "text": [
      "my_cat.name = 'Pelusas'\n",
      "my_cat.age  = 5\n",
      "my_dog.name = 'Felipe'\n",
      "my_dog.age  = 3\n",
      "my_dog.tricks  = ['Brings me the newspaper']\n"
     ]
    }
   ],
   "source": [
    "my_cat = Cat('Pelusas', 5)\n",
    "my_dog = Dog('Felipe', 3, ['Brings me the newspaper'])\n",
    "\n",
    "print(f'{my_cat.name = }')\n",
    "print(f'{my_cat.age  = }')\n",
    "print(f'{my_dog.name = }')\n",
    "print(f'{my_dog.age  = }')\n",
    "print(f'{my_dog.tricks  = }')"
   ]
  },
  {
   "cell_type": "markdown",
   "id": "4cab373c",
   "metadata": {},
   "source": [
    "**Note:*** I used the ```pass``` statement/keyword as a placeholder for future code, since ```pass``` is a null statement, i.e. a statement that will do nothing."
   ]
  },
  {
   "cell_type": "markdown",
   "id": "5949ae13",
   "metadata": {},
   "source": [
    "### <div id='double-inheritance'>4.A Double inheritance</div>\n",
    "\n",
    "A class can inherit from any number of base classes. For example, if one wish to create a class that inherits from two classes, the syntax would be:\n",
    "\n",
    "```\n",
    "class Derived(Base1, Base2):\n",
    "```\n",
    "\n",
    "**Note:** All attributes from the base classes are inherited by the derived ```Derived``` class."
   ]
  },
  {
   "cell_type": "markdown",
   "id": "cca3570f",
   "metadata": {},
   "source": [
    "### <div id='mro'>4.B. Method Resolution Order (MRO)</div>\n",
    "\n",
    "Method Resolution Order (MRO) is the order in which methods should be inherited in the presence of multiple inheritance. You can view the MRO by using the ```__mro__``` attribute.\n",
    "\n",
    "If there are multiple parents like Dog(NonMarineMammal, NonWingedMammal), methods of NonMarineMammal is invoked first because it appears first."
   ]
  },
  {
   "cell_type": "markdown",
   "id": "473ad290",
   "metadata": {},
   "source": [
    "## <div id='public-protected-private'>5. Public, protected and private attributes/methods</div>\n",
    "\n",
    "- **Public:** can always be accessed (i.e. can always use ```instance.attribute_name```).\n",
    "\n",
    "- **Protected:** can be accessed within the class and derived classes. Their names should start with a single underscore ```_```.\n",
    "\n",
    "- **Private:** can only be accesed within the class. Their names should start with a double underscore ```__```. In other words, any given attribute (or method) that is private can not be access through ```instance.attribute_name``` and can only be used by the same class.\n",
    "\n",
    "**Example:**\n",
    "\n",
    "Let's expand the above ```Pet``` class in such a way no one can do ```pet_instance.name``` but instead they would call ```get_name()```."
   ]
  },
  {
   "cell_type": "code",
   "execution_count": 19,
   "id": "b9f9b52a",
   "metadata": {},
   "outputs": [
    {
     "name": "stdout",
     "output_type": "stream",
     "text": [
      "my_pet.get_name() = 'Mike'\n"
     ]
    }
   ],
   "source": [
    "class Pet:\n",
    "    __number_of_pets = 0  # example of a private class attribute\n",
    "    \n",
    "    def __init__(self, name):\n",
    "        self.__name = name  # example of a private instance attribute\n",
    "        Pet.__number_of_pets += 1  # example of a private instance attibute\n",
    "        \n",
    "    def get_name(self):  # example of a public method\n",
    "        return self.__name\n",
    "\n",
    "my_pet = Pet('Mike')\n",
    "print(f'{my_pet.get_name() = }')"
   ]
  },
  {
   "cell_type": "markdown",
   "id": "d74fe4e8",
   "metadata": {},
   "source": [
    "## Annotations / type hints\n",
    "\n",
    "Let's once again create a simple ```Position``` class but now including type hints to the arguments in the ```__init__``` method and to the public instance attributes ```x``` and ```y```:"
   ]
  },
  {
   "cell_type": "code",
   "execution_count": 20,
   "id": "864145b5",
   "metadata": {},
   "outputs": [],
   "source": [
    "class Position:\n",
    "    def __init__(self, x: float, y: float):\n",
    "        self.x: float = x\n",
    "        self.y: float = y"
   ]
  },
  {
   "cell_type": "markdown",
   "id": "2b941139",
   "metadata": {},
   "source": [
    "## __hash__\n",
    "\n",
    "A hash is an unique \n",
    "\n",
    "Mutable objects are not hashable (they don't have a hash, __hash__ would return None)\n",
    "\n",
    "When comparing immutable objects, if they agree on value, they will have the same id and same hash\n",
    "\n",
    "An object hash is an integer number representing the value of the object and can be obtained using the hash() function if the object is hashable. To make a class hashable, it has to implement both the __hash__(self) method and the aforementioned __eq__(self, other) method. As with equality, the inherited object.__hash__ method works by identity only: barring the unlikely event of a hash collision, two instances of the same class will always have different hashes, no matter what data they carry.\n",
    "The hash of an object must never change during its lifetime.\n",
    "\n",
    " equal objects must have equal hashes\n",
    " \n",
    "    If a == b then hash(a) == hash(b)\n",
    "    If hash(a) == hash(b), then a might equal b\n",
    "    If hash(a) != hash(b), then a != b\n",
    "    \n",
    "Objects that implement logical equality (e.g. implement __eq__) must be immutable to be hashable\n",
    "\n",
    "__hash__ must never change. The hash of an object is never re-computed once it is inserted.\n",
    "Objects that implement logical equality (e.g. implement __eq__) must be immutable to be hashable. If an object has logical equality, updating that object would change its hash, violating rule 2.dict, list, set are all inherently mutable and therefore unhashable. str, bytes, frozenset, and tuple are immutable and therefore hashable."
   ]
  },
  {
   "cell_type": "code",
   "execution_count": 21,
   "id": "3891e866",
   "metadata": {},
   "outputs": [],
   "source": [
    "class Position:\n",
    "    def __init__(self, x: float, y: float):\n",
    "        # making x and y private (to ensure Position is immutable and hashable)\n",
    "        # This way, the following would not be possible Position.__x.\n",
    "        self.__x: float = x \n",
    "        self.__y: float = y \n",
    "\n",
    "    def x():\n",
    "        return self.__x\n",
    "    \n",
    "    def y():\n",
    "        return self.__y\n",
    "            \n",
    "    def __repr__(self):\n",
    "        return f\"{self.__class__.__name__}(x={self.__x}, y={self.__y})\"\n",
    "            \n",
    "    def __eq__(self, other):\n",
    "        if isinstance(other,self.__class__):\n",
    "            return (self.__x, self.__y) == (other.__x, other.__y)\n",
    "        else:\n",
    "            return NotImplemented\n",
    "    \n",
    "    def __hash__(self):\n",
    "        return hash((self.__class__, self.__x, self.__y))\n",
    "    \n",
    "# TODO: see why I still can set __x!!!"
   ]
  },
  {
   "cell_type": "code",
   "execution_count": 22,
   "id": "841fdbe8",
   "metadata": {},
   "outputs": [
    {
     "name": "stdout",
     "output_type": "stream",
     "text": [
      "position_1 == position_3 (i.e. position_1 and position_3 have the same content)\n",
      "position_1 != position_2 (i.e. position_1 and position_2 do not have the same content)\n",
      "hash(position_1) == hash(position_3) (i.e. position_1 and position_3 are identical)\n",
      "id(position_1) != id(position_3) (i.e. position_1 and position_3 are not the same object)\n"
     ]
    }
   ],
   "source": [
    "position_1 = Position(1,2)\n",
    "position_2 = Position(2,3)\n",
    "position_3 = Position(1,2)\n",
    "\n",
    "if position_1 == position_3:\n",
    "    print('position_1 == position_3 (i.e. position_1 and position_3 have the same content)')\n",
    "if position_1 != position_2:\n",
    "    print('position_1 != position_2 (i.e. position_1 and position_2 do not have the same content)')\n",
    "\n",
    "if hash(position_1) == hash(position_3):\n",
    "    print('hash(position_1) == hash(position_3) (i.e. position_1 and position_3 are identical)')\n",
    "else:\n",
    "    print('hash(position_1) != hash(position_3) (i.e. position_1 and position_3 are not identical)')\n",
    "\n",
    "if id(position_1) == id(position_3):\n",
    "    print('id(position_1) == id(position_3) (i.e. position_1 and position_3 are the same object)')\n",
    "else:\n",
    "    print('id(position_1) != id(position_3) (i.e. position_1 and position_3 are not the same object)')"
   ]
  },
  {
   "cell_type": "code",
   "execution_count": 23,
   "id": "4371e759",
   "metadata": {},
   "outputs": [
    {
     "name": "stdout",
     "output_type": "stream",
     "text": [
      "Position(x=1, y=2)\n"
     ]
    }
   ],
   "source": [
    "position_1.__y = 2\n",
    "print(position_1)"
   ]
  },
  {
   "cell_type": "markdown",
   "id": "94bfecb3",
   "metadata": {},
   "source": [
    "In the above example, ```position_1``` and ```position_3``` are identical (and hence equal) but are not the same object (they are two different instances of the same class with the same content)."
   ]
  },
  {
   "cell_type": "markdown",
   "id": "e594e02e",
   "metadata": {},
   "source": [
    "## Class methods"
   ]
  },
  {
   "cell_type": "code",
   "execution_count": 24,
   "id": "ca9c9ce6",
   "metadata": {},
   "outputs": [
    {
     "name": "stdout",
     "output_type": "stream",
     "text": [
      "1\n",
      "2\n",
      "2\n",
      "2\n"
     ]
    }
   ],
   "source": [
    "class Pet:\n",
    "    number_of_pets = 0\n",
    "    \n",
    "    def __init__(self, name):\n",
    "        self.name = name\n",
    "        Pet.add_pet()\n",
    "\n",
    "    @classmethod\n",
    "    def number_of_pets_(cls): # check naming convention\n",
    "        return cls.number_of_pets\n",
    "    \n",
    "    @classmethod\n",
    "    def add_pet(cls): # cls only access class attributes (number_of_pets and others if I have)\n",
    "        Pet.number_of_pets +=1\n",
    "\n",
    "my_pet_1 = Pet(\"Rex\")\n",
    "print(my_pet_1.number_of_pets)\n",
    "my_pet_2 = Pet(\"Chip\")\n",
    "print(Pet.number_of_pets)\n",
    "print(my_pet_1.number_of_pets)\n",
    "print(Pet.number_of_pets_())\n",
    "\n",
    "# I don't need an instance of the class to call it"
   ]
  },
  {
   "cell_type": "markdown",
   "id": "56ccc8db",
   "metadata": {},
   "source": [
    "## Static methods\n",
    "\n",
    "Collection of methods/functions\n",
    "\n",
    "I don't want an instance of this class to be able to use those functions."
   ]
  },
  {
   "cell_type": "code",
   "execution_count": 26,
   "id": "f0f5eba7",
   "metadata": {},
   "outputs": [
    {
     "name": "stdout",
     "output_type": "stream",
     "text": [
      "2\n"
     ]
    }
   ],
   "source": [
    "class MyCalculations():\n",
    "    @staticmethod\n",
    "    def sum_1(x):\n",
    "        return x + 1\n",
    "    @staticmethod\n",
    "    def divide(x, y):\n",
    "        return x / y\n",
    "print(MyCalculations.sum_1(1))"
   ]
  },
  {
   "cell_type": "markdown",
   "id": "d73fd45f",
   "metadata": {},
   "source": [
    "# @abstractmethod"
   ]
  },
  {
   "cell_type": "code",
   "execution_count": 27,
   "id": "d6d8be14",
   "metadata": {},
   "outputs": [],
   "source": [
    "# composition?"
   ]
  },
  {
   "cell_type": "markdown",
   "id": "ca0d6b93",
   "metadata": {},
   "source": [
    "## property()"
   ]
  },
  {
   "cell_type": "code",
   "execution_count": 28,
   "id": "64444f36",
   "metadata": {},
   "outputs": [
    {
     "name": "stdout",
     "output_type": "stream",
     "text": [
      "User(name=Thomas, age=25)\n",
      "User(name=Thomas, age=26)\n",
      "User(name=Thomas, age=27)\n"
     ]
    }
   ],
   "source": [
    "class User:\n",
    "    def __init__(self, name: str, age: int):\n",
    "        self.name = name\n",
    "        self.age = age\n",
    "    \n",
    "    def update_name(self, name: str):\n",
    "        self.name = name\n",
    "    \n",
    "    def update_age(self, age: int):\n",
    "        self.age = age\n",
    "        \n",
    "    def __repr__(self):\n",
    "        return f\"{self.__class__.__name__}(name={self.name}, age={self.age})\"\n",
    "        \n",
    "User_1 = User('Thomas',25)\n",
    "print(User_1)\n",
    "User_1.age = 26\n",
    "print(User_1)\n",
    "User_1.update_age(27)\n",
    "print(User_1)"
   ]
  },
  {
   "cell_type": "markdown",
   "id": "193f404a",
   "metadata": {},
   "source": [
    "property()\n",
    "\n",
    "Let's say we added ```update_name()``` recently. We could update ```__init__``` to use it, but if there are codes that rely on ```User.__name```, they will stop working. The property() function can save you from having to update all old codes and maintain backwards compatibility"
   ]
  },
  {
   "cell_type": "code",
   "execution_count": 29,
   "id": "dec5510d",
   "metadata": {},
   "outputs": [
    {
     "ename": "RecursionError",
     "evalue": "maximum recursion depth exceeded",
     "output_type": "error",
     "traceback": [
      "\u001b[0;31m---------------------------------------------------------------------------\u001b[0m",
      "\u001b[0;31mRecursionError\u001b[0m                            Traceback (most recent call last)",
      "\u001b[0;32m/tmp/ipykernel_452415/611462708.py\u001b[0m in \u001b[0;36m<module>\u001b[0;34m\u001b[0m\n\u001b[1;32m     23\u001b[0m     \u001b[0mage\u001b[0m \u001b[0;34m=\u001b[0m \u001b[0mproperty\u001b[0m\u001b[0;34m(\u001b[0m\u001b[0mget_age\u001b[0m\u001b[0;34m,\u001b[0m \u001b[0mupdate_age\u001b[0m\u001b[0;34m)\u001b[0m\u001b[0;34m\u001b[0m\u001b[0;34m\u001b[0m\u001b[0m\n\u001b[1;32m     24\u001b[0m \u001b[0;34m\u001b[0m\u001b[0m\n\u001b[0;32m---> 25\u001b[0;31m \u001b[0mUser_1\u001b[0m \u001b[0;34m=\u001b[0m \u001b[0mUser\u001b[0m\u001b[0;34m(\u001b[0m\u001b[0;34m'Thomas'\u001b[0m\u001b[0;34m,\u001b[0m\u001b[0;36m25\u001b[0m\u001b[0;34m)\u001b[0m\u001b[0;34m\u001b[0m\u001b[0;34m\u001b[0m\u001b[0m\n\u001b[0m\u001b[1;32m     26\u001b[0m \u001b[0mprint\u001b[0m\u001b[0;34m(\u001b[0m\u001b[0mUser_1\u001b[0m\u001b[0;34m)\u001b[0m\u001b[0;34m\u001b[0m\u001b[0;34m\u001b[0m\u001b[0m\n\u001b[1;32m     27\u001b[0m \u001b[0mUser_1\u001b[0m\u001b[0;34m.\u001b[0m\u001b[0mage\u001b[0m \u001b[0;34m=\u001b[0m \u001b[0;36m26\u001b[0m\u001b[0;34m\u001b[0m\u001b[0;34m\u001b[0m\u001b[0m\n",
      "\u001b[0;32m/tmp/ipykernel_452415/611462708.py\u001b[0m in \u001b[0;36m__init__\u001b[0;34m(self, name, age)\u001b[0m\n\u001b[1;32m      1\u001b[0m \u001b[0;32mclass\u001b[0m \u001b[0mUser\u001b[0m\u001b[0;34m:\u001b[0m\u001b[0;34m\u001b[0m\u001b[0;34m\u001b[0m\u001b[0m\n\u001b[1;32m      2\u001b[0m     \u001b[0;32mdef\u001b[0m \u001b[0m__init__\u001b[0m\u001b[0;34m(\u001b[0m\u001b[0mself\u001b[0m\u001b[0;34m,\u001b[0m \u001b[0mname\u001b[0m\u001b[0;34m:\u001b[0m \u001b[0mstr\u001b[0m\u001b[0;34m,\u001b[0m \u001b[0mage\u001b[0m\u001b[0;34m:\u001b[0m \u001b[0mint\u001b[0m\u001b[0;34m)\u001b[0m\u001b[0;34m:\u001b[0m\u001b[0;34m\u001b[0m\u001b[0;34m\u001b[0m\u001b[0m\n\u001b[0;32m----> 3\u001b[0;31m         \u001b[0mself\u001b[0m\u001b[0;34m.\u001b[0m\u001b[0mname\u001b[0m \u001b[0;34m=\u001b[0m \u001b[0mname\u001b[0m\u001b[0;34m\u001b[0m\u001b[0;34m\u001b[0m\u001b[0m\n\u001b[0m\u001b[1;32m      4\u001b[0m         \u001b[0mself\u001b[0m\u001b[0;34m.\u001b[0m\u001b[0mage\u001b[0m \u001b[0;34m=\u001b[0m \u001b[0mage\u001b[0m\u001b[0;34m\u001b[0m\u001b[0;34m\u001b[0m\u001b[0m\n\u001b[1;32m      5\u001b[0m \u001b[0;34m\u001b[0m\u001b[0m\n",
      "\u001b[0;32m/tmp/ipykernel_452415/611462708.py\u001b[0m in \u001b[0;36mupdate_name\u001b[0;34m(self, name)\u001b[0m\n\u001b[1;32m      5\u001b[0m \u001b[0;34m\u001b[0m\u001b[0m\n\u001b[1;32m      6\u001b[0m     \u001b[0;32mdef\u001b[0m \u001b[0mupdate_name\u001b[0m\u001b[0;34m(\u001b[0m\u001b[0mself\u001b[0m\u001b[0;34m,\u001b[0m \u001b[0mname\u001b[0m\u001b[0;34m:\u001b[0m \u001b[0mstr\u001b[0m\u001b[0;34m)\u001b[0m\u001b[0;34m:\u001b[0m\u001b[0;34m\u001b[0m\u001b[0;34m\u001b[0m\u001b[0m\n\u001b[0;32m----> 7\u001b[0;31m         \u001b[0mself\u001b[0m\u001b[0;34m.\u001b[0m\u001b[0mname\u001b[0m \u001b[0;34m=\u001b[0m \u001b[0mname\u001b[0m\u001b[0;34m\u001b[0m\u001b[0;34m\u001b[0m\u001b[0m\n\u001b[0m\u001b[1;32m      8\u001b[0m \u001b[0;34m\u001b[0m\u001b[0m\n\u001b[1;32m      9\u001b[0m     \u001b[0;32mdef\u001b[0m \u001b[0mupdate_age\u001b[0m\u001b[0;34m(\u001b[0m\u001b[0mself\u001b[0m\u001b[0;34m,\u001b[0m \u001b[0mage\u001b[0m\u001b[0;34m:\u001b[0m \u001b[0mint\u001b[0m\u001b[0;34m)\u001b[0m\u001b[0;34m:\u001b[0m\u001b[0;34m\u001b[0m\u001b[0;34m\u001b[0m\u001b[0m\n",
      "... last 1 frames repeated, from the frame below ...\n",
      "\u001b[0;32m/tmp/ipykernel_452415/611462708.py\u001b[0m in \u001b[0;36mupdate_name\u001b[0;34m(self, name)\u001b[0m\n\u001b[1;32m      5\u001b[0m \u001b[0;34m\u001b[0m\u001b[0m\n\u001b[1;32m      6\u001b[0m     \u001b[0;32mdef\u001b[0m \u001b[0mupdate_name\u001b[0m\u001b[0;34m(\u001b[0m\u001b[0mself\u001b[0m\u001b[0;34m,\u001b[0m \u001b[0mname\u001b[0m\u001b[0;34m:\u001b[0m \u001b[0mstr\u001b[0m\u001b[0;34m)\u001b[0m\u001b[0;34m:\u001b[0m\u001b[0;34m\u001b[0m\u001b[0;34m\u001b[0m\u001b[0m\n\u001b[0;32m----> 7\u001b[0;31m         \u001b[0mself\u001b[0m\u001b[0;34m.\u001b[0m\u001b[0mname\u001b[0m \u001b[0;34m=\u001b[0m \u001b[0mname\u001b[0m\u001b[0;34m\u001b[0m\u001b[0;34m\u001b[0m\u001b[0m\n\u001b[0m\u001b[1;32m      8\u001b[0m \u001b[0;34m\u001b[0m\u001b[0m\n\u001b[1;32m      9\u001b[0m     \u001b[0;32mdef\u001b[0m \u001b[0mupdate_age\u001b[0m\u001b[0;34m(\u001b[0m\u001b[0mself\u001b[0m\u001b[0;34m,\u001b[0m \u001b[0mage\u001b[0m\u001b[0;34m:\u001b[0m \u001b[0mint\u001b[0m\u001b[0;34m)\u001b[0m\u001b[0;34m:\u001b[0m\u001b[0;34m\u001b[0m\u001b[0;34m\u001b[0m\u001b[0m\n",
      "\u001b[0;31mRecursionError\u001b[0m: maximum recursion depth exceeded"
     ]
    }
   ],
   "source": [
    "class User:\n",
    "    def __init__(self, name: str, age: int):\n",
    "        self.name = name\n",
    "        self.age = age\n",
    "    \n",
    "    def update_name(self, name: str):\n",
    "        self.name = name\n",
    "    \n",
    "    def update_age(self, age: int):\n",
    "        self.age = age\n",
    "        \n",
    "    def get_name(self):\n",
    "        return self.name\n",
    "        \n",
    "    def get_age(self):\n",
    "        return self.age\n",
    "        \n",
    "    def __repr__(self):\n",
    "        return f\"{self.__class__.__name__}(name={self.name}, age={self.age})\"\n",
    "    \n",
    "    # creating a property object\n",
    "    name = property(get_name, update_name)\n",
    "    age = property(get_age, update_age)\n",
    "        \n",
    "User_1 = User('Thomas',25)\n",
    "print(User_1)\n",
    "User_1.age = 26\n",
    "print(User_1)\n",
    "User_1.update_age(27)\n",
    "print(User_1)\n",
    "\n",
    "# CONTINUE: LEARN MORE ABOUT PROPERTY() AND HOW TO USE IT"
   ]
  },
  {
   "cell_type": "markdown",
   "id": "98c2909a",
   "metadata": {},
   "source": [
    "@property\n",
    "\n",
    "However, the bigger problem with the above update is that all the programs that implemented our previous class have to modify their code from obj.temperature to obj.get_temperature() and all expressions like obj.temperature = val to obj.set_temperature(val).\n",
    "\n",
    "This refactoring can cause problems while dealing with hundreds of thousands of lines of codes.\n",
    "\n",
    "All in all, our new update was not backwards compatible. This is where @property comes to rescue."
   ]
  },
  {
   "cell_type": "markdown",
   "id": "c3c84f27",
   "metadata": {},
   "source": [
    "## dataclass"
   ]
  },
  {
   "cell_type": "code",
   "execution_count": 30,
   "id": "dd3e91de",
   "metadata": {},
   "outputs": [
    {
     "ename": "NameError",
     "evalue": "name '__init__' is not defined",
     "output_type": "error",
     "traceback": [
      "\u001b[0;31m---------------------------------------------------------------------------\u001b[0m",
      "\u001b[0;31mNameError\u001b[0m                                 Traceback (most recent call last)",
      "\u001b[0;32m/tmp/ipykernel_452415/3450575259.py\u001b[0m in \u001b[0;36m<module>\u001b[0;34m\u001b[0m\n\u001b[1;32m      6\u001b[0m \u001b[0;34m\u001b[0m\u001b[0m\n\u001b[1;32m      7\u001b[0m \u001b[0;31m# this creates for you:\u001b[0m\u001b[0;34m\u001b[0m\u001b[0;34m\u001b[0m\u001b[0;34m\u001b[0m\u001b[0m\n\u001b[0;32m----> 8\u001b[0;31m \u001b[0m__init__\u001b[0m\u001b[0;34m\u001b[0m\u001b[0;34m\u001b[0m\u001b[0m\n\u001b[0m\u001b[1;32m      9\u001b[0m \u001b[0m__repr__\u001b[0m\u001b[0;34m\u001b[0m\u001b[0;34m\u001b[0m\u001b[0m\n\u001b[1;32m     10\u001b[0m \u001b[0m__eq__\u001b[0m\u001b[0;34m\u001b[0m\u001b[0;34m\u001b[0m\u001b[0m\n",
      "\u001b[0;31mNameError\u001b[0m: name '__init__' is not defined"
     ]
    }
   ],
   "source": [
    "from dataclasses import dataclass\n",
    "\n",
    "@dataclass\n",
    "class MyPosition:\n",
    "    position: [int, int]\n",
    "        \n",
    "# this creates for you:\n",
    "__init__\n",
    "__repr__\n",
    "__eq__"
   ]
  },
  {
   "cell_type": "code",
   "execution_count": null,
   "id": "dbe2bc68",
   "metadata": {},
   "outputs": [],
   "source": [
    "my_position = MyPosition(position=(10,23))\n",
    "print(f'{my_position = }')"
   ]
  },
  {
   "cell_type": "markdown",
   "id": "dcd4a83e",
   "metadata": {},
   "source": [
    "order=True adds:\n",
    "\n",
    "```\n",
    "__lt__\n",
    "__le__\n",
    "__gt__\n",
    "__ge__\n",
    "```\n",
    "\n",
    "```fronzen=True``` makes it immutable, hence hashable and adds ```__hash__``` for you (it also adds ```__setattr__```, which is necessari to make it immutable)\n",
    "\n",
    "It might worth making some classes frozen so they can use them as keys in dictionaries"
   ]
  },
  {
   "cell_type": "code",
   "execution_count": null,
   "id": "25b80b51",
   "metadata": {},
   "outputs": [],
   "source": [
    "@dataclass(frozen=True, order=True)\n",
    "class BankTransfer:\n",
    "    id: int\n",
    "    amount: float\n",
    "    currency: str = 'USD' # default value is 'USD'"
   ]
  },
  {
   "cell_type": "code",
   "execution_count": null,
   "id": "e06f52f6",
   "metadata": {},
   "outputs": [],
   "source": [
    "from dataclasses import astuple, asdict\n",
    "transfer = BankTransfer(0,100)\n",
    "print(transfer)\n",
    "print(astuple(transfer))\n",
    "print(asdict(transfer))"
   ]
  },
  {
   "cell_type": "code",
   "execution_count": null,
   "id": "ac4210fe",
   "metadata": {},
   "outputs": [],
   "source": [
    "How to use mutable objects are methods?"
   ]
  },
  {
   "cell_type": "code",
   "execution_count": null,
   "id": "a3a71985",
   "metadata": {},
   "outputs": [],
   "source": [
    "Wrong way:"
   ]
  },
  {
   "cell_type": "code",
   "execution_count": null,
   "id": "83c08d53",
   "metadata": {},
   "outputs": [],
   "source": [
    "class C:\n",
    "    x = []\n",
    "    def add(self, element):\n",
    "        self.x.append(element)\n",
    "\n",
    "o1 = C()\n",
    "o2 = C()\n",
    "o1.add(1)\n",
    "o2.add(2)\n",
    "print(o1.x)\n",
    "print(o2.x)\n",
    "\n",
    "# they both share the same list"
   ]
  },
  {
   "cell_type": "code",
   "execution_count": null,
   "id": "ec739ba1",
   "metadata": {},
   "outputs": [],
   "source": [
    "Correct way:    "
   ]
  },
  {
   "cell_type": "code",
   "execution_count": null,
   "id": "7c2a3aae",
   "metadata": {},
   "outputs": [],
   "source": [
    "class D:\n",
    "    def __init__(self):\n",
    "      self.x = []\n",
    "    def add(self, element):\n",
    "        self.x.append(element)\n",
    "\n",
    "o1 = D()\n",
    "o2 = D()\n",
    "o1.add(1)\n",
    "o2.add(2)\n",
    "print(o1.x)\n",
    "print(o2.x)\n",
    "\n",
    "# they both share the same list"
   ]
  },
  {
   "cell_type": "code",
   "execution_count": null,
   "id": "494a344a",
   "metadata": {},
   "outputs": [],
   "source": [
    "from dataclasses import field\n",
    "\n",
    "@dataclass(frozen=True, order=True)\n",
    "class BankTransfer:\n",
    "    id: int\n",
    "    amount: float\n",
    "    currency: str = 'USD' # default value is 'USD'\n",
    "    x: list = field(default_factory=list)\n",
    "        \n",
    "the dataclass() decorator will raise a TypeError if it detects a default parameter of type list, dict, or set\n",
    "    \n",
    "Using default factory functions is a way to create new instances of mutable types as default values for fields:"
   ]
  },
  {
   "cell_type": "markdown",
   "id": "d567c214",
   "metadata": {},
   "source": [
    "# <div align='center'>Exercises</div>"
   ]
  },
  {
   "cell_type": "code",
   "execution_count": null,
   "id": "6c52e9c1",
   "metadata": {},
   "outputs": [],
   "source": []
  }
 ],
 "metadata": {
  "kernelspec": {
   "display_name": "Python 3 (ipykernel)",
   "language": "python",
   "name": "python3"
  },
  "language_info": {
   "codemirror_mode": {
    "name": "ipython",
    "version": 3
   },
   "file_extension": ".py",
   "mimetype": "text/x-python",
   "name": "python",
   "nbconvert_exporter": "python",
   "pygments_lexer": "ipython3",
   "version": "3.8.10"
  }
 },
 "nbformat": 4,
 "nbformat_minor": 5
}
