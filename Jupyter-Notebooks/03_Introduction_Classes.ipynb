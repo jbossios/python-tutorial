{
 "cells": [
  {
   "cell_type": "markdown",
   "id": "7815da4d",
   "metadata": {},
   "source": [
    "# <div align='center'>Introduction to Python for data analysis: Object-oriented programming</div>\n",
    "\n",
    "Object-oriented programming is a programming model/concept based on objects. Objects contain data in the form of attributes or properties and code in the form of methods (i.e. functions). From now on, I will use methods and functions interchangeably. Similarly, I will use variables and attributes interchangeably.\n",
    "\n",
    "There are varius object-oriented programming languages, but the most popular ones are class-based, meaning that objects are instances of classes, which also determine their types.\n",
    "\n",
    "Let's first define the following concepts:\n",
    "\n",
    "- **Class**: A class is a prototype of an object that defines a set of attributes that characterize any object of such a class. The attributes are data members (class variables and instance variables, see below) and methods (i.e. functions).\n",
    "\n",
    "- **Instance**: An instance is an individual object of a certain class. For example, an object ```my_position``` that belongs to a class ```Position``` is an instance of the class ```Position```.\n",
    "\n",
    "- **Class attribute**: A class attribute is a variable that is shared by all instances of a class. Class variables are defined within a class but outside any of the class' methods. \n",
    "\n",
    "- **Instance attribute**: An instance attribute is a variable that is defined inside a method and belongs only to the current instance of a class.\n",
    "\n",
    "\n",
    "\n",
    "# Contents\n",
    "\n",
    "This notebook is divided into two chapters. I recommend looking at the second chapter once you have looked at all the rest of the notebooks firsts, and come back to this notebook only if you wish to learn more about classes. Said that, if you feel like going through all at once, suit yourself! That also works! You can give a try to the exercises even if you only went through the first chapter, since none of the exercises requires anything from the second chapter.\n",
    "\n",
    "**First chapter**\n",
    "\n",
    "1. <a href=\"#simplest\">Simplest example</a>\n",
    "2. <a href='#methods'>Methods</a>\n",
    "    1. <a href='#dunder'>Dunder methods</a>\n",
    "        1. <a href='#init'>The ```__init__``` method</a>\n",
    "        2. <a href='#repr'>The ```__repr__``` method</a>\n",
    "        3. <a href='#eq'>The ```__eq__``` and ```__ne__``` methods</a>\n",
    "        4. <a href='#lt'>The ```__lt__```, ```__le__```, ```__gt__``` and ```__ge__``` methods</a>\n",
    "3. <a href='#class_attributes'>Class attributes</a>\n",
    "4. <a href='#inheritance'>Inheritance</a>\n",
    "     1. <a href='#double-inheritance'>Double inheritance</a>\n",
    "     2. <a href='#mro'>Method Resolution Order (MRO)</a>\n",
    "5. <a href='#public-protected-private'>Public, protected and private attributes/methods</a>\n",
    "6. <a href='#type_hints'>Annotations/type hints</a>\n",
    "\n",
    "**Second chapter**\n",
    "\n",
    "7. <a href='#hash'>Hash</a>\n",
    "8. <a href='#class_methods'>Class methods</a>\n",
    "9. <a href='#static_methods'>Static methods</a>\n",
    "10. <a href='#abstract_classes'>Abstract classes and methods</a>\n",
    "11. <a href='#dataclasses'>The dataclasses decorator</a>\n",
    "\n",
    "12. <a href='#exercises'>Exercises</a>\n",
    "    1. <a href='#solutions'>Solutions</a>\n",
    "\n",
    "\n",
    "# <div align='center'>First chapter</div>"
   ]
  },
  {
   "cell_type": "markdown",
   "id": "56e63ab7",
   "metadata": {},
   "source": [
    "## <div id='simplest'>1. The simplest example of a class</div>\n",
    "\n",
    "<u>Syntax:</u>\n",
    "\n",
    "```\n",
    "class ClassName:\n",
    "    <statement-1>\n",
    "    ...\n",
    "    <statement-N>\n",
    "```\n",
    "\n",
    "**Example:**\n",
    "\n",
    "Let's create a class to store my position on a given 2D plane through two attributes (```x``` and ```y```)."
   ]
  },
  {
   "cell_type": "code",
   "execution_count": 1,
   "id": "e2490814",
   "metadata": {},
   "outputs": [],
   "source": [
    "class Position:\n",
    "    \"\"\"My location in the living room's floor\"\"\"\n",
    "    x = 100\n",
    "    y = 20"
   ]
  },
  {
   "cell_type": "markdown",
   "id": "5f29a978",
   "metadata": {},
   "source": [
    "**Note**: Class names should start each word with a capital letter and each word should not be separated with underscores, this convention is known as CamelCase (or CapWords). All attributes and methods should follow the snake_case convention (the same used for functions and variables).\n",
    "\n",
    "**Note**: In the above example, ```x``` and ```y``` are class variables."
   ]
  },
  {
   "cell_type": "markdown",
   "id": "7f317913",
   "metadata": {},
   "source": [
    "**How can I access the value of an atribute?**\n",
    "\n",
    "```\n",
    "ClassName.attribute_name\n",
    "```\n",
    "\n",
    "Attributes can be read-only or writable. By default, all attributes are public (i.e can be writable), we will see how to define read-only attributes later. So, as long as attributes are writable, we can re-assign values to them in the following way:\n",
    "\n",
    "```\n",
    "ClassName.attribute_name = value\n",
    "```\n",
    "\n",
    "Let's create an instance of ```Position``` and get the values stored on class variables ```x``` and ```y```:"
   ]
  },
  {
   "cell_type": "code",
   "execution_count": 2,
   "id": "d33d4a9a",
   "metadata": {},
   "outputs": [
    {
     "name": "stdout",
     "output_type": "stream",
     "text": [
      "my_position.x = 100\n",
      "my_position.y = 20\n"
     ]
    }
   ],
   "source": [
    "my_position = Position()\n",
    "print(f'{my_position.x = }')\n",
    "print(f'{my_position.y = }')"
   ]
  },
  {
   "cell_type": "markdown",
   "id": "88c06bf1",
   "metadata": {},
   "source": [
    "**Note:** Similarly to functions, we can access the class' comment through ```Position.__doc__```"
   ]
  },
  {
   "cell_type": "code",
   "execution_count": 3,
   "id": "04872536",
   "metadata": {},
   "outputs": [
    {
     "name": "stdout",
     "output_type": "stream",
     "text": [
      "Position.__doc__ = \"My location in the living room's floor\"\n"
     ]
    }
   ],
   "source": [
    "print(f'{Position.__doc__ = }')"
   ]
  },
  {
   "cell_type": "markdown",
   "id": "690f26aa",
   "metadata": {},
   "source": [
    "We could also print the comment using the instance of the ```Position``` class:"
   ]
  },
  {
   "cell_type": "code",
   "execution_count": 4,
   "id": "693b4e1d",
   "metadata": {},
   "outputs": [
    {
     "name": "stdout",
     "output_type": "stream",
     "text": [
      "my_position.__doc__ = \"My location in the living room's floor\"\n"
     ]
    }
   ],
   "source": [
    "print(f'{my_position.__doc__ = }')"
   ]
  },
  {
   "cell_type": "markdown",
   "id": "2218dfe2",
   "metadata": {},
   "source": [
    "**Note:** You can check if an object is an instance of a given class with the built-in ```isinstance()``` function. \n",
    "\n",
    "<u>Syntax:</u>\n",
    "\n",
    "```\n",
    "isinstance(object, type)\n",
    "```\n",
    "\n",
    "This can be used for built-in types or custom classes.\n",
    "\n",
    "**Examples:**"
   ]
  },
  {
   "cell_type": "code",
   "execution_count": 5,
   "id": "f724511d",
   "metadata": {},
   "outputs": [
    {
     "name": "stdout",
     "output_type": "stream",
     "text": [
      "Is my_position an instance of Position? Answer: True\n",
      "Is my_int an instance of int? Answer: True\n",
      "Is my_int an instance of float? Answer: False\n",
      "Is my_float an instance of float? Answer: True\n"
     ]
    }
   ],
   "source": [
    "my_position = Position()\n",
    "my_int = 2\n",
    "my_float = 1.4\n",
    "print(f'Is my_position an instance of Position? Answer: {isinstance(my_position, Position)}')\n",
    "print(f'Is my_int an instance of int? Answer: {isinstance(my_int, int)}')\n",
    "print(f'Is my_int an instance of float? Answer: {isinstance(my_int, float)}')\n",
    "print(f'Is my_float an instance of float? Answer: {isinstance(my_float, float)}')"
   ]
  },
  {
   "cell_type": "markdown",
   "id": "9aca963b",
   "metadata": {},
   "source": [
    "## <div id='methods'>2. Methods</div>\n",
    "\n",
    "Methods are functions. For example, let's create a ```Print``` class which has a single method named ```print()``` that prints a message into a given format."
   ]
  },
  {
   "cell_type": "code",
   "execution_count": 6,
   "id": "b5df9baa",
   "metadata": {},
   "outputs": [
    {
     "name": "stdout",
     "output_type": "stream",
     "text": [
      "My message is: \"Everything is gonna be alright\"\n"
     ]
    }
   ],
   "source": [
    "class Print:\n",
    "\n",
    "    def print(message):\n",
    "        print(f'My message is: \"{message}\"')\n",
    "\n",
    "Print.print('Everything is gonna be alright')"
   ]
  },
  {
   "cell_type": "markdown",
   "id": "040fb37d",
   "metadata": {},
   "source": [
    "### <div id='dunder'>2.A Dunder methods</div>\n",
    "\n",
    "Dunder methods are all methods having two prefix and suffix underscores in their name. Dunder comes from \"Double Under (Underscores)\". Let's have a look at the most used dunder methods."
   ]
  },
  {
   "cell_type": "markdown",
   "id": "1bf19050",
   "metadata": {},
   "source": [
    "#### <div id='init'>2.A.a The ```__init__``` method</div>\n",
    "\n",
    "The ```__init__``` method is used to define properties of an instance as the first thing is done when a class is initiated.\n",
    "\n",
    "**Example:** Let's create a class to store a position on a 2D plane. To create an instance of such a class, I will be needing to provide two arguments, the values for ```x``` and ```y```."
   ]
  },
  {
   "cell_type": "code",
   "execution_count": 7,
   "id": "1fcd7937",
   "metadata": {},
   "outputs": [],
   "source": [
    "class Position:\n",
    "\n",
    "    def __init__(self, x, y):\n",
    "        self.x = x\n",
    "        self.y = y"
   ]
  },
  {
   "cell_type": "code",
   "execution_count": 8,
   "id": "b66281e0",
   "metadata": {},
   "outputs": [
    {
     "name": "stdout",
     "output_type": "stream",
     "text": [
      "my_position.x = 10\n",
      "my_position.y = 23\n"
     ]
    }
   ],
   "source": [
    "my_position = Position(x = 10, y = 23)\n",
    "print(f'{my_position.x = }')\n",
    "print(f'{my_position.y = }')"
   ]
  },
  {
   "cell_type": "markdown",
   "id": "4516a22d",
   "metadata": {},
   "source": [
    "**Note:** In the example above, ```x``` and ```y``` are instance variables.\n",
    "\n",
    "**Note:** I could have initiated also in the two following ways and all are equivalent:\n",
    "\n",
    "```\n",
    "my_position = Position(10, 23)\n",
    "```\n",
    "\n",
    "```\n",
    "my_position = Position(y = 23, x = 10)\n",
    "```\n",
    "\n",
    "The order is important when ```x``` and ```y``` are not explicitly used.\n",
    "\n",
    "**Note:** All dunder methods need to have ```self``` as first argument, even if no other arguments are needed.\n",
    "\n",
    "**Note:** ```__init__()``` is also known as an instance method. Instance methods have as first argument a self-reference to the instance."
   ]
  },
  {
   "cell_type": "markdown",
   "id": "7d9b0854",
   "metadata": {},
   "source": [
    "#### <div id='repr'>2.A.b The ```__repr__``` method</div>\n",
    "\n",
    "This method is used to define what is printed when passing an instance of a class to the built-in ```print()``` function, i.e. a printable representation of the given object."
   ]
  },
  {
   "cell_type": "markdown",
   "id": "14d42ed4",
   "metadata": {},
   "source": [
    "Let's compare what ```print()``` gives when we define or not the ```__repr__``` method.\n",
    "\n",
    "Let's print ```my_position``` which is an instance of ```Position``` which has no definition of a ```__repr__``` method:"
   ]
  },
  {
   "cell_type": "code",
   "execution_count": 9,
   "id": "b8887a4d",
   "metadata": {},
   "outputs": [
    {
     "name": "stdout",
     "output_type": "stream",
     "text": [
      "<__main__.Position object at 0x7fa3601a0160>\n"
     ]
    }
   ],
   "source": [
    "print(my_position)"
   ]
  },
  {
   "cell_type": "markdown",
   "id": "8284e147",
   "metadata": {},
   "source": [
    "Let's redefine ```Position``` to include now a definition for the ```__repr``` method, create an instance of such a class and see what now is printed by the print() function:"
   ]
  },
  {
   "cell_type": "code",
   "execution_count": 10,
   "id": "0889ec4a",
   "metadata": {},
   "outputs": [],
   "source": [
    "class Position:\n",
    "\n",
    "    def __init__(self, x, y):\n",
    "        self.x = x\n",
    "        self.y = y\n",
    "            \n",
    "    def __repr__(self):\n",
    "        return f'{self.__class__.__name__}(x={self.x}, y={self.y})'"
   ]
  },
  {
   "cell_type": "code",
   "execution_count": 11,
   "id": "a843c42c",
   "metadata": {},
   "outputs": [
    {
     "name": "stdout",
     "output_type": "stream",
     "text": [
      "Position(x=10, y=23)\n"
     ]
    }
   ],
   "source": [
    "my_position = Position(x = 10, y = 23)\n",
    "print(my_position)"
   ]
  },
  {
   "cell_type": "markdown",
   "id": "ebea0004",
   "metadata": {},
   "source": [
    "#### <div id='eq'>2.A.c The ```__eq__``` and ```__ne__``` methods</div>\n",
    "\n",
    "The ```__eq__``` method is used to address if two instances are equal, i.e. ```if instance_1 == instance_2```. It should return either a boolean value if your class knows how to compare itself to other instance of a class or ```NotImplemented``` if it doesn’t.\n",
    "\n",
    "On the other hand, the ```__ne__``` method is used to address if two instances are not equal, i.e ```if instance_1 != instance_2```\n",
    "\n",
    "Python3 is friendly enough to implement an obvious ```__ne__()``` for you, if you don’t make one yourself.\n",
    "\n",
    "**Example:**"
   ]
  },
  {
   "cell_type": "code",
   "execution_count": 12,
   "id": "6c9cb757",
   "metadata": {},
   "outputs": [],
   "source": [
    "class Position:\n",
    "\n",
    "    def __init__(self, x, y):\n",
    "        self.x = x\n",
    "        self.y = y\n",
    "            \n",
    "    def __repr__(self):\n",
    "        return f\"{self.__class__.__name__}(x={self.x}, y={self.y})\"\n",
    "            \n",
    "    def __eq__(self, other):\n",
    "        if isinstance(other, self.__class__):\n",
    "            return (self.x, self.y) == (other.x, other.y)\n",
    "        else:\n",
    "            return NotImplemented"
   ]
  },
  {
   "cell_type": "code",
   "execution_count": 13,
   "id": "e5f0f7d3",
   "metadata": {},
   "outputs": [
    {
     "name": "stdout",
     "output_type": "stream",
     "text": [
      "position_1 == position_2\n",
      "position_1 != position_2\n"
     ]
    }
   ],
   "source": [
    "position_1 = Position(1,2)\n",
    "position_2 = Position(2,3)\n",
    "position_3 = Position(1,2)\n",
    "\n",
    "if position_1 == position_3:\n",
    "    print('position_1 == position_2')\n",
    "if position_1 != position_2:\n",
    "    print('position_1 != position_2')"
   ]
  },
  {
   "cell_type": "markdown",
   "id": "24122bb0",
   "metadata": {},
   "source": [
    "#### <div id='lt'>2.A.d The ```__lt__```, ```__le__```, ```__gt__``` and ```__ge__``` methods</div>\n",
    "\n",
    "These methods are used for making numerical comparisons between instances.\n",
    "\n",
    "| <div align='center'>Dunder method</div>  | <div align='center'>Description</div>  |\n",
    "|---|---|\n",
    "| <div align='center'>```__lt__```</div>  | <div align='center'>used for the 'less than' operator (<)</div>  |\n",
    "| <div align='center'>```__le__```</div>  | <div align='center'>used for the 'less than or equal ot' operator (<=)</div> |\n",
    "| <div align='center'>```__gt__```</div>  | <div align='center'>used for the 'greater than' operator (>)</div>  |\n",
    "| <div align='center'>```__ge__```</div>  | <div align='center'>used for the 'greater than or equal to' operator (>=)</div>  |\n",
    "\n",
    "\n",
    "**Example:**"
   ]
  },
  {
   "cell_type": "code",
   "execution_count": 14,
   "id": "ac1276ab",
   "metadata": {},
   "outputs": [
    {
     "name": "stdout",
     "output_type": "stream",
     "text": [
      "My house is smaller than my friend's house\n"
     ]
    }
   ],
   "source": [
    "class House:\n",
    "\n",
    "    def __init__(self, area, rent):\n",
    "        self.area = area\n",
    "        self.rent = rent\n",
    "        \n",
    "    def __lt__(self, other):\n",
    "        return self.area < other.area\n",
    "    \n",
    "    def __le__(self, other):\n",
    "        return self.area <= other.area\n",
    "    \n",
    "    def __gt__(self, other):\n",
    "        return self.area > other.area\n",
    "    \n",
    "    def __ge__(self, other):\n",
    "        return self.area >= other.area\n",
    "    \n",
    "my_house = House(70, 1200)\n",
    "my_friends_house = House(75, 1350)\n",
    "\n",
    "# Which house is bigger?\n",
    "if my_house > my_friends_house:\n",
    "    print(\"My house is bigger than my friend's house\")\n",
    "else:\n",
    "    print(\"My house is smaller than my friend's house\")"
   ]
  },
  {
   "cell_type": "markdown",
   "id": "02c0b444",
   "metadata": {},
   "source": [
    "## <div id='class_attributes'>3. Class attributes</div>\n",
    "\n",
    "One can not only make an attribute different for each instance of a class but also make an attribute that is an attribute of the class itself (and is the same for all instances of that class).\n",
    "\n",
    "Let's create a ```Pet``` class which is used to create instances of different pets which have different names, but we also want to keep track of the number of pets with a class attribute."
   ]
  },
  {
   "cell_type": "code",
   "execution_count": 15,
   "id": "41f314e0",
   "metadata": {},
   "outputs": [
    {
     "name": "stdout",
     "output_type": "stream",
     "text": [
      "my_pet_1.number_of_pets = 1\n",
      "my_pet_2.number_of_pets = 2\n"
     ]
    }
   ],
   "source": [
    "class Pet:\n",
    "    number_of_pets = 0\n",
    "    \n",
    "    def __init__(self, name):\n",
    "        self.name = name\n",
    "        Pet.number_of_pets += 1\n",
    "\n",
    "my_pet_1 = Pet(\"Pelusas\")\n",
    "print(f'{my_pet_1.number_of_pets = }')\n",
    "\n",
    "my_pet_2 = Pet(\"Snowball\")\n",
    "print(f'{my_pet_2.number_of_pets = }')"
   ]
  },
  {
   "cell_type": "markdown",
   "id": "0386be16",
   "metadata": {},
   "source": [
    "**Note:** We can also access ```number_of_pets``` from the class itself, besides an instance of the Pet class:"
   ]
  },
  {
   "cell_type": "code",
   "execution_count": 16,
   "id": "c43df88c",
   "metadata": {},
   "outputs": [
    {
     "name": "stdout",
     "output_type": "stream",
     "text": [
      "Pet.number_of_pets = 2\n"
     ]
    }
   ],
   "source": [
    "print(f'{Pet.number_of_pets = }')"
   ]
  },
  {
   "cell_type": "markdown",
   "id": "6ad4e770",
   "metadata": {},
   "source": [
    "## <div id='inheritance'>4. Inheritance</div>\n",
    "\n",
    "Let's say we have two classes which are similar and have some members (attributes/methods) which are the same. In that case, it is useful to create a base class and then make the two other classes inherit from the so-called base class. These two classes are know as derived classes.\n",
    "\n",
    "<u>Syntax:</u>\n",
    "\n",
    "```\n",
    "class ClassName(BaseClass):\n",
    "```\n",
    "\n",
    "\n",
    "**Example:** Let's create an ```Animal``` class to store the name and age of any animal. Then, let's create a ```Dog``` class that inherits from the ```Animal``` class. This effectively means that any instance of the ```Dog``` class will have also an associated name and age. In addition, dogs (i.e. instances of the ```Dog``` class) will also know ```tricks```."
   ]
  },
  {
   "cell_type": "code",
   "execution_count": 17,
   "id": "700c1291",
   "metadata": {},
   "outputs": [],
   "source": [
    "class Animal:\n",
    "\n",
    "    def __init__(self, name, age):\n",
    "        self.name = name\n",
    "        self.age = age\n",
    "\n",
    "class Dog(Animal):\n",
    "\n",
    "    def __init__(self, name, age, tricks):\n",
    "        super().__init__(name, age)  # initialize base class (this is equivalent to Animal.__init__(name, age))\n",
    "        self.tricks = tricks\n",
    "\n",
    "class Cat(Animal):\n",
    "    pass"
   ]
  },
  {
   "cell_type": "markdown",
   "id": "3ce83c35",
   "metadata": {},
   "source": [
    "Note: A derived class does not need to define a new __init__ dunder method if there is no need to change the __init__ method from the base class."
   ]
  },
  {
   "cell_type": "markdown",
   "id": "3114fa8a",
   "metadata": {},
   "source": [
    "Let's create two instances, one of the class ```Cat``` and one of the ```Dog``` class, and print their attributes:"
   ]
  },
  {
   "cell_type": "code",
   "execution_count": 18,
   "id": "9a3e7340",
   "metadata": {},
   "outputs": [
    {
     "name": "stdout",
     "output_type": "stream",
     "text": [
      "my_cat.name = 'Pelusas'\n",
      "my_cat.age  = 5\n",
      "my_dog.name = 'Felipe'\n",
      "my_dog.age  = 3\n",
      "my_dog.tricks  = ['Brings me the newspaper']\n"
     ]
    }
   ],
   "source": [
    "my_cat = Cat('Pelusas', 5)\n",
    "my_dog = Dog('Felipe', 3, ['Brings me the newspaper'])\n",
    "\n",
    "print(f'{my_cat.name = }')\n",
    "print(f'{my_cat.age  = }')\n",
    "print(f'{my_dog.name = }')\n",
    "print(f'{my_dog.age  = }')\n",
    "print(f'{my_dog.tricks  = }')"
   ]
  },
  {
   "cell_type": "markdown",
   "id": "4cab373c",
   "metadata": {},
   "source": [
    "**Note:*** I used the ```pass``` statement/keyword as a placeholder for future code, since ```pass``` is a null statement, i.e. a statement that will do nothing."
   ]
  },
  {
   "cell_type": "markdown",
   "id": "5949ae13",
   "metadata": {},
   "source": [
    "### <div id='double-inheritance'>4.A Double inheritance</div>\n",
    "\n",
    "A class can inherit from any number of base classes. For example, if one wish to create a class that inherits from two classes, the syntax would be:\n",
    "\n",
    "```\n",
    "class Derived(Base1, Base2):\n",
    "```\n",
    "\n",
    "**Note:** All attributes from the base classes are inherited by the derived ```Derived``` class."
   ]
  },
  {
   "cell_type": "markdown",
   "id": "cca3570f",
   "metadata": {},
   "source": [
    "### <div id='mro'>4.B. Method Resolution Order (MRO)</div>\n",
    "\n",
    "Method Resolution Order (MRO) is the order in which methods should be inherited in the presence of multiple inheritance. You can view the MRO by using the ```__mro__``` attribute.\n",
    "\n",
    "If there are multiple parents like Dog(NonMarineMammal, NonWingedMammal), methods of NonMarineMammal is invoked first because it appears first."
   ]
  },
  {
   "cell_type": "markdown",
   "id": "473ad290",
   "metadata": {},
   "source": [
    "## <div id='public-protected-private'>5. Public, protected and private attributes/methods</div>\n",
    "\n",
    "- **Public:** can always be accessed (i.e. can always use ```instance.attribute_name```).\n",
    "\n",
    "- **Protected:** can be accessed within the class and derived classes. Their names should start with a single underscore ```_```.\n",
    "\n",
    "- **Private:** can only be accesed within the class. Their names should start with a double underscore ```__```. In other words, any given attribute (or method) that is private can not be access through ```instance.attribute_name``` and can only be used by the same class.\n",
    "\n",
    "**Example:**\n",
    "\n",
    "Let's expand the above ```Pet``` class in such a way no one can do ```pet_instance.name``` but instead they would call ```get_name()```."
   ]
  },
  {
   "cell_type": "code",
   "execution_count": 19,
   "id": "b9f9b52a",
   "metadata": {},
   "outputs": [
    {
     "name": "stdout",
     "output_type": "stream",
     "text": [
      "my_pet.get_name() = 'Mike'\n"
     ]
    }
   ],
   "source": [
    "class Pet:\n",
    "    __number_of_pets = 0  # example of a private class attribute\n",
    "    \n",
    "    def __init__(self, name):\n",
    "        self.__name = name  # example of a private instance attribute\n",
    "        Pet.__number_of_pets += 1  # example of a private instance attibute\n",
    "        \n",
    "    def set_name(self, name):  # example of a public method\n",
    "        self.__name = name\n",
    "    \n",
    "    def get_name(self):  # another example of a public method\n",
    "        return self.__name\n",
    "\n",
    "my_pet = Pet('Mike')\n",
    "print(f'{my_pet.get_name() = }')"
   ]
  },
  {
   "cell_type": "markdown",
   "id": "4550eab7",
   "metadata": {},
   "source": [
    "What happens if I try to change the ```__name``` attribute of ```my_pet``` with ```.__name``` instead of using ```.set_name()```?"
   ]
  },
  {
   "cell_type": "code",
   "execution_count": 20,
   "id": "2c1ff2dd",
   "metadata": {},
   "outputs": [
    {
     "name": "stdout",
     "output_type": "stream",
     "text": [
      "my_pet.get_name() = 'Mike'\n",
      "my_pet.get_name() = 'Matt'\n"
     ]
    }
   ],
   "source": [
    "my_pet.__name = 'Matt'\n",
    "print(f'{my_pet.get_name() = }')\n",
    "my_pet.set_name('Matt')\n",
    "print(f'{my_pet.get_name() = }')"
   ]
  },
  {
   "cell_type": "markdown",
   "id": "d0ad0b4f",
   "metadata": {},
   "source": [
    "Do you see what happened? Since ```__name``` is a private attribute, it didn't change when I tried to set it directly, it only worked when I used a public method called ```set_name()```."
   ]
  },
  {
   "cell_type": "markdown",
   "id": "d74fe4e8",
   "metadata": {},
   "source": [
    "## <div id='type_hints'>6. Annotations / type hints</div>\n",
    "\n",
    "Let's once again create a simple ```Position``` class but now including type hints to the arguments in the ```__init__``` method and to the public instance attributes ```x``` and ```y```:"
   ]
  },
  {
   "cell_type": "code",
   "execution_count": 21,
   "id": "864145b5",
   "metadata": {},
   "outputs": [],
   "source": [
    "class Position:\n",
    "\n",
    "    def __init__(self, x: float, y: float):\n",
    "        self.x: float = x\n",
    "        self.y: float = y"
   ]
  },
  {
   "cell_type": "markdown",
   "id": "c1994da8",
   "metadata": {},
   "source": [
    "Let's wrap up this chapter with an example. Let's say I want create a class to colect numbers into a list and I want to keep track of several numbers on different lists. Let's take a look at the following class:"
   ]
  },
  {
   "cell_type": "code",
   "execution_count": 22,
   "id": "83c08d53",
   "metadata": {},
   "outputs": [],
   "source": [
    "class BadExample:\n",
    "    x = []\n",
    "\n",
    "    def add(self, element):\n",
    "        self.x.append(element)"
   ]
  },
  {
   "cell_type": "markdown",
   "id": "d15b8e03",
   "metadata": {},
   "source": [
    "Can you tell what will happen with the attribute ```x``` if I create several instances of ```BadExample``` and put numbers on each instance?"
   ]
  },
  {
   "cell_type": "code",
   "execution_count": 23,
   "id": "8c79a6b4",
   "metadata": {},
   "outputs": [
    {
     "name": "stdout",
     "output_type": "stream",
     "text": [
      "be1.x = [1, 2]\n",
      "be2.x = [1, 2]\n"
     ]
    }
   ],
   "source": [
    "be1 = BadExample()\n",
    "be2 = BadExample()\n",
    "be1.add(1)\n",
    "be2.add(2)\n",
    "print(f'{be1.x = }')\n",
    "print(f'{be2.x = }')"
   ]
  },
  {
   "cell_type": "markdown",
   "id": "1f678d3e",
   "metadata": {},
   "source": [
    "As you can see above, both instances share the same list! If one would like to have a separate list for each instance, one would have to create ```x``` as an instance attribute, and not as a class attribute."
   ]
  },
  {
   "cell_type": "code",
   "execution_count": 24,
   "id": "7c2a3aae",
   "metadata": {},
   "outputs": [
    {
     "name": "stdout",
     "output_type": "stream",
     "text": [
      "ge1.x = [1]\n",
      "ge2.x = [2]\n"
     ]
    }
   ],
   "source": [
    "class GoodExample:\n",
    "\n",
    "    def __init__(self):\n",
    "        self.x = []\n",
    "    \n",
    "    def add(self, element):\n",
    "        self.x.append(element)\n",
    "\n",
    "ge1 = GoodExample()\n",
    "ge2 = GoodExample()\n",
    "ge1.add(1)\n",
    "ge2.add(2)\n",
    "print(f'{ge1.x = }')\n",
    "print(f'{ge2.x = }')"
   ]
  },
  {
   "cell_type": "markdown",
   "id": "6ffba6a2",
   "metadata": {},
   "source": [
    "As expected, they both now have several lists."
   ]
  },
  {
   "cell_type": "markdown",
   "id": "1ca5286a",
   "metadata": {},
   "source": [
    "# <div align='center'>Second chapter</div>"
   ]
  },
  {
   "cell_type": "markdown",
   "id": "2b941139",
   "metadata": {},
   "source": [
    "## <div id='hash'>7. Hash</div>\n",
    "\n",
    "A _hash_ is an integer number representing an object. Mutable objects are not hashable, i.e. they don't have a hash, so only immutable objects have a hash. Hasheable objects must have implemented the ```__eq__(self, other)``` and ```__hash__(self)``` methods. An object's hash can be retrieved using the ```hash()``` function. The hash of an object must never change during its lifetime, satisfied by construction since only available for immutable objects. ```dict```, ```list```, ```set``` are all mutable and therefore unhashable. ```str``` and ```tuple``` are immutable and hence hashable.\n",
    "\n",
    "If two objects are equal, then they have the same hash. If they have the same hash, they might be equal, although if hash values don't agree, they definitely are not equal."
   ]
  },
  {
   "cell_type": "code",
   "execution_count": 25,
   "id": "3891e866",
   "metadata": {},
   "outputs": [],
   "source": [
    "class Position:\n",
    "\n",
    "    def __init__(self, x: float, y: float):\n",
    "        # To ensure Position is immutable and hashable,\n",
    "        # will make x and y private and no set methods are implemented\n",
    "        self.__x: float = x \n",
    "        self.__y: float = y \n",
    "\n",
    "    def x():\n",
    "        return self.__x\n",
    "    \n",
    "    def y():\n",
    "        return self.__y\n",
    "            \n",
    "    def __repr__(self):\n",
    "        return f\"{self.__class__.__name__}(x={self.__x}, y={self.__y})\"\n",
    "            \n",
    "    def __eq__(self, other):\n",
    "        if isinstance(other,self.__class__):\n",
    "            return (self.__x, self.__y) == (other.__x, other.__y)\n",
    "        else:\n",
    "            return NotImplemented\n",
    "    \n",
    "    def __hash__(self):\n",
    "        return hash((self.__class__, self.__x, self.__y))"
   ]
  },
  {
   "cell_type": "markdown",
   "id": "6bcad5ec",
   "metadata": {},
   "source": [
    "Let's play a bit with the above ```Position``` class:"
   ]
  },
  {
   "cell_type": "code",
   "execution_count": 26,
   "id": "841fdbe8",
   "metadata": {},
   "outputs": [
    {
     "name": "stdout",
     "output_type": "stream",
     "text": [
      "position_1 == position_3 (i.e. position_1 and position_3 have the same content)\n",
      "position_1 != position_2 (i.e. position_1 and position_2 do not have the same content)\n",
      "hash(position_1) == hash(position_3) (i.e. position_1 and position_3 are identical)\n",
      "id(position_1) != id(position_3) (i.e. position_1 and position_3 are not the same object)\n"
     ]
    }
   ],
   "source": [
    "position_1 = Position(1,2)\n",
    "position_2 = Position(2,3)\n",
    "position_3 = Position(1,2)\n",
    "\n",
    "if position_1 == position_3:\n",
    "    print('position_1 == position_3 (i.e. position_1 and position_3 have the same content)')\n",
    "if position_1 != position_2:\n",
    "    print('position_1 != position_2 (i.e. position_1 and position_2 do not have the same content)')\n",
    "\n",
    "if hash(position_1) == hash(position_3):\n",
    "    print('hash(position_1) == hash(position_3) (i.e. position_1 and position_3 are identical)')\n",
    "else:\n",
    "    print('hash(position_1) != hash(position_3) (i.e. position_1 and position_3 are not identical)')\n",
    "\n",
    "if id(position_1) == id(position_3):\n",
    "    print('id(position_1) == id(position_3) (i.e. position_1 and position_3 are the same object)')\n",
    "else:\n",
    "    print('id(position_1) != id(position_3) (i.e. position_1 and position_3 are not the same object)')"
   ]
  },
  {
   "cell_type": "markdown",
   "id": "94bfecb3",
   "metadata": {},
   "source": [
    "In the above example, ```position_1``` and ```position_3``` are identical (and hence equal) and have the same hash value, but are not the same object (they are two different instances of the same class with the same content)."
   ]
  },
  {
   "cell_type": "markdown",
   "id": "e594e02e",
   "metadata": {},
   "source": [
    "## <div id='class_methods'>8. Class methods</div>\n",
    "\n",
    "Class methods are functions which can be used without needed to create an instance of such a class. Let's take a look at the following class where two class methods are defined."
   ]
  },
  {
   "cell_type": "code",
   "execution_count": 27,
   "id": "ca9c9ce6",
   "metadata": {},
   "outputs": [],
   "source": [
    "class Pet:\n",
    "    number_of_pets = 0\n",
    "    \n",
    "    def __init__(self, name):\n",
    "        self.name = name\n",
    "        Pet.add_pet()\n",
    "\n",
    "    @classmethod\n",
    "    def get_number_of_pets(cls):  # cls only access class attributes (in this case only number_of_pets)\n",
    "        return cls.number_of_pets\n",
    "    \n",
    "    @classmethod\n",
    "    def add_pet(cls):  # cls only access class attributes (in this case only number_of_pets)\n",
    "        cls.number_of_pets +=1"
   ]
  },
  {
   "cell_type": "markdown",
   "id": "d9da79eb",
   "metadata": {},
   "source": [
    "Let's create an instance of the ```Pet``` class and retrieve value of the ```number_of_pets``` attribute."
   ]
  },
  {
   "cell_type": "code",
   "execution_count": 28,
   "id": "fed8bf7a",
   "metadata": {},
   "outputs": [
    {
     "name": "stdout",
     "output_type": "stream",
     "text": [
      "my_pet_1.number_of_pets = 1\n"
     ]
    }
   ],
   "source": [
    "my_pet_1 = Pet(\"Rex\")\n",
    "print(f'{my_pet_1.number_of_pets = }')"
   ]
  },
  {
   "cell_type": "markdown",
   "id": "55efc29a",
   "metadata": {},
   "source": [
    "Let's now create another instance and check again the number of pets but now using the class method:"
   ]
  },
  {
   "cell_type": "code",
   "execution_count": 29,
   "id": "e9e1995d",
   "metadata": {},
   "outputs": [
    {
     "name": "stdout",
     "output_type": "stream",
     "text": [
      "Pet.get_number_of_pets() = 2\n"
     ]
    }
   ],
   "source": [
    "my_pet_2 = Pet(\"Chip\")\n",
    "print(f'{Pet.get_number_of_pets() = }')"
   ]
  },
  {
   "cell_type": "markdown",
   "id": "5f5ff4e4",
   "metadata": {},
   "source": [
    "**Note:** Each class method should be decorated with ```@classmethod```. The first argument to a class method is the class object instead of the self-reference to the instance."
   ]
  },
  {
   "cell_type": "markdown",
   "id": "56ccc8db",
   "metadata": {},
   "source": [
    "## <div id='static_methods'>9. Static methods</div>\n",
    "\n",
    "As with class methods, static methods are bound to a class and do not need an class instance to be created. The difference with class methods is that static methods know nothing about the class since it is not passed an argument to the method.\n",
    "\n",
    "Let's create class to compute some calculations using static methods."
   ]
  },
  {
   "cell_type": "code",
   "execution_count": 30,
   "id": "f0f5eba7",
   "metadata": {},
   "outputs": [
    {
     "name": "stdout",
     "output_type": "stream",
     "text": [
      "MyCalculations.sum_1(1) = 2\n",
      "MyCalculations.divide(3, 2) = 1.5\n"
     ]
    }
   ],
   "source": [
    "class MyCalculations():\n",
    "    \n",
    "    @staticmethod\n",
    "    def sum_1(x):\n",
    "        return x + 1\n",
    "    \n",
    "    @staticmethod\n",
    "    def divide(x, y):\n",
    "        return x / y\n",
    "\n",
    "print(f'{MyCalculations.sum_1(1) = }')\n",
    "print(f'{MyCalculations.divide(3, 2) = }')"
   ]
  },
  {
   "cell_type": "markdown",
   "id": "d73fd45f",
   "metadata": {},
   "source": [
    "## <div id='abstract_classes'>10. Abstract classes and methods</div>\n",
    "\n",
    "An abstract class can be thought as a template for other classes. It allows you to create abstract methods, these are methods which has a declaration but the actual implementation is done on a derived class. Abstract classes are helpful for providing interfaces, where each derived class would have different implementations.\n",
    "\n",
    "In order to implement an abstract class, we need to import ```ABC``` (Abstract Base Classes) and ```abstractmethod``` from the abc module. Abstract classes must inherit from ```ABC``` and abstract methods should use the ```@abstractmethod``` decorator."
   ]
  },
  {
   "cell_type": "code",
   "execution_count": 31,
   "id": "4a333173",
   "metadata": {},
   "outputs": [],
   "source": [
    "from abc import ABC, abstractmethod\n",
    "\n",
    "users = []\n",
    "employes = []\n",
    "\n",
    "class User(ABC):\n",
    "    \n",
    "    def __init__(self, name: str):\n",
    "        self.name = name\n",
    "    \n",
    "    @abstractmethod\n",
    "    def register_user(self):\n",
    "        pass\n",
    "    \n",
    "class Client(User):\n",
    "    \n",
    "    def register_user(self):\n",
    "        users.append(self.name)\n",
    "        print(f'Client ({self.name}) was registered')\n",
    "        \n",
    "class Employed(User):\n",
    "    \n",
    "    def register_user(self):\n",
    "        employes.append(self.name)\n",
    "        print(f'Employed ({self.name}) was registered')"
   ]
  },
  {
   "cell_type": "code",
   "execution_count": 32,
   "id": "60d9307e",
   "metadata": {},
   "outputs": [
    {
     "name": "stdout",
     "output_type": "stream",
     "text": [
      "Client (Mathias) was registered\n",
      "Client (Michael) was registered\n",
      "Employed (Katherine) was registered\n",
      "users = ['Mathias', 'Michael']\n",
      "employes = ['Katherine']\n"
     ]
    }
   ],
   "source": [
    "client_1 = Client('Mathias')\n",
    "client_1.register_user()\n",
    "client_2 = Client('Michael')\n",
    "client_2.register_user()\n",
    "employed_2 = Employed('Katherine')\n",
    "employed_2.register_user()\n",
    "print(f'{users = }')\n",
    "print(f'{employes = }')"
   ]
  },
  {
   "cell_type": "markdown",
   "id": "c3c84f27",
   "metadata": {},
   "source": [
    "## <div id='dataclasses'>11. The dataclasses decorator</div>\n",
    "\n",
    "The dataclasses decorator allows you to simplify the creation of classes. By default, the dataclass decorator creates the ```__init__```, ```__repr__``` and ```__eq__``` methods for you. Let's have a look at an example:"
   ]
  },
  {
   "cell_type": "code",
   "execution_count": 33,
   "id": "dd3e91de",
   "metadata": {},
   "outputs": [],
   "source": [
    "from dataclasses import dataclass\n",
    "\n",
    "@dataclass\n",
    "class MyPosition:\n",
    "    position: (int, int)"
   ]
  },
  {
   "cell_type": "markdown",
   "id": "43c8f525",
   "metadata": {},
   "source": [
    "Let's now create two instances of ```MyPosition```, print and compare them."
   ]
  },
  {
   "cell_type": "code",
   "execution_count": 34,
   "id": "dbe2bc68",
   "metadata": {},
   "outputs": [
    {
     "name": "stdout",
     "output_type": "stream",
     "text": [
      "my_position = MyPosition(position=(10, 23))\n",
      "my_position_later = MyPosition(position=(11, 23))\n",
      "my_position_later != my_position\n"
     ]
    }
   ],
   "source": [
    "my_position = MyPosition(position=(10,23))\n",
    "print(f'{my_position = }')\n",
    "\n",
    "my_position_later = MyPosition(position=(11,23))\n",
    "print(f'{my_position_later = }')\n",
    "\n",
    "if my_position_later != my_position:\n",
    "    print('my_position_later != my_position')"
   ]
  },
  {
   "cell_type": "markdown",
   "id": "6e25a14a",
   "metadata": {},
   "source": [
    "**Note:** Python creates the ```__ne__``` method for you, as long there is available the ```__eq__``` method"
   ]
  },
  {
   "cell_type": "markdown",
   "id": "8b348289",
   "metadata": {},
   "source": [
    "What about if we also need the ```__lt__```, ```__le__```, ```__gt__``` and ```__ge__``` methods? Don't worry, you just need to pass ```order=True``` to the dataclass decorator. Let's take a look at an example:"
   ]
  },
  {
   "cell_type": "code",
   "execution_count": 35,
   "id": "3723ca02",
   "metadata": {},
   "outputs": [],
   "source": [
    "@dataclass(order=True)\n",
    "class BankTransfer:\n",
    "    id: int\n",
    "    amount: float\n",
    "    currency: str = 'USD'  # default value is 'USD'"
   ]
  },
  {
   "cell_type": "markdown",
   "id": "b3de05e2",
   "metadata": {},
   "source": [
    "Let's now create an instance:"
   ]
  },
  {
   "cell_type": "code",
   "execution_count": 36,
   "id": "ad2c71aa",
   "metadata": {},
   "outputs": [],
   "source": [
    "transfer_1 = BankTransfer(0, 100)"
   ]
  },
  {
   "cell_type": "markdown",
   "id": "1792dbf6",
   "metadata": {},
   "source": [
    "Let's now print such an instance"
   ]
  },
  {
   "cell_type": "code",
   "execution_count": 37,
   "id": "f52f27df",
   "metadata": {},
   "outputs": [
    {
     "name": "stdout",
     "output_type": "stream",
     "text": [
      "BankTransfer(id=0, amount=100, currency='USD')\n"
     ]
    }
   ],
   "source": [
    "print(transfer_1)"
   ]
  },
  {
   "cell_type": "markdown",
   "id": "f3d9425b",
   "metadata": {},
   "source": [
    "Let's now create another transfer and compare it with the first one:"
   ]
  },
  {
   "cell_type": "code",
   "execution_count": 38,
   "id": "af02cd10",
   "metadata": {},
   "outputs": [
    {
     "name": "stdout",
     "output_type": "stream",
     "text": [
      "transfer_2 > transfer_1\n"
     ]
    }
   ],
   "source": [
    "transfer_2 = BankTransfer(id = 0, amount = 200)\n",
    "\n",
    "if transfer_2 > transfer_1:\n",
    "    print('transfer_2 > transfer_1')"
   ]
  },
  {
   "cell_type": "markdown",
   "id": "a2cbf5fa",
   "metadata": {},
   "source": [
    "**Note:** We can also transform such an instance to a tuple or a dict:"
   ]
  },
  {
   "cell_type": "code",
   "execution_count": 39,
   "id": "1e7cba93",
   "metadata": {},
   "outputs": [
    {
     "name": "stdout",
     "output_type": "stream",
     "text": [
      "(0, 100, 'USD')\n",
      "{'id': 0, 'amount': 100, 'currency': 'USD'}\n"
     ]
    }
   ],
   "source": [
    "from dataclasses import astuple, asdict\n",
    "print(astuple(transfer_1))\n",
    "print(asdict(transfer_1))"
   ]
  },
  {
   "cell_type": "markdown",
   "id": "f42904db",
   "metadata": {},
   "source": [
    "What about if we want to make a class immutable? If that's so, you can pass ```frozen=True``` to the dataclass decorator. \n",
    "\n",
    "Let's have a look at an example:"
   ]
  },
  {
   "cell_type": "code",
   "execution_count": 40,
   "id": "25b80b51",
   "metadata": {},
   "outputs": [],
   "source": [
    "@dataclass(frozen = True, order = True)\n",
    "class BankTransfer:\n",
    "    id: int\n",
    "    amount: float\n",
    "    currency: str = 'USD'  # default value is 'USD'"
   ]
  },
  {
   "cell_type": "code",
   "execution_count": 41,
   "id": "e06f52f6",
   "metadata": {},
   "outputs": [],
   "source": [
    "transfer = BankTransfer(0,100)"
   ]
  },
  {
   "cell_type": "markdown",
   "id": "43f8de60",
   "metadata": {},
   "source": [
    "If we try, for example, to set the id attribute with ```transfer.id = 120```, we would get the following error:\n",
    "\n",
    "```\n",
    "FrozenInstanceError: cannot assign to field 'id'\n",
    "```"
   ]
  },
  {
   "cell_type": "markdown",
   "id": "d567c214",
   "metadata": {},
   "source": [
    "# <div id='exercises' align='center'>12. Exercises</div>"
   ]
  },
  {
   "cell_type": "markdown",
   "id": "036df568",
   "metadata": {},
   "source": [
    "## Exercise 1\n",
    "\n",
    "Add an instance method to the following class to compute the Euclidean distance* between two positions in the 2D plane:\n",
    "\n",
    "```\n",
    "class Position():\n",
    "\n",
    "    def __init__(self, x: int, y: int):\n",
    "        self.x = x\n",
    "        self.y = y\n",
    "```\n",
    "\n",
    "* The Euclidean distance between two points $(x_1, y_1)$ and $(x_2, y_2)$ in the 2D plane is calculated as $\\sqrt{(x_1 - x_2)^2 + (y_1 - y_2)^2}$.\n",
    "\n",
    "Note: In order to compute the square root of a number, you need to import the ```math``` module and use its ```sqrt()``` function. Example:\n",
    "\n",
    "```\n",
    "import math\n",
    "sqrt_4 = math.sqrt(4)\n",
    "```"
   ]
  },
  {
   "cell_type": "markdown",
   "id": "0e3387ee",
   "metadata": {},
   "source": [
    "## Exercise 2\n",
    "\n",
    "Create a ```Dalmatian``` class, that inherits from the ```Dog``` class below, which has an attribute to save the number of spots such an Dalmatian has. Implement as well the ```__repr__``` method for such a class.\n",
    "\n",
    "```\n",
    "class Animal:\n",
    "\n",
    "    def __init__(self, name, age):\n",
    "        self.name = name\n",
    "        self.age = age\n",
    "\n",
    "class Dog(Animal):\n",
    "\n",
    "    def __init__(self, name, age, tricks):\n",
    "        super().__init__(name, age)\n",
    "        self.tricks = tricks\n",
    "```\n"
   ]
  },
  {
   "cell_type": "markdown",
   "id": "79b52a99",
   "metadata": {},
   "source": [
    "## <div id='solutions' align='center'>12.A. Solutions</div>"
   ]
  },
  {
   "cell_type": "markdown",
   "id": "0caba554",
   "metadata": {},
   "source": [
    "### Answer exercise 1"
   ]
  },
  {
   "cell_type": "code",
   "execution_count": 42,
   "id": "bdc86550",
   "metadata": {},
   "outputs": [
    {
     "name": "stdout",
     "output_type": "stream",
     "text": [
      "distance = 3.1622776601683795\n"
     ]
    }
   ],
   "source": [
    "import math\n",
    "\n",
    "class Position():\n",
    "\n",
    "    def __init__(self, x: int, y: int):\n",
    "        self.x = x\n",
    "        self.y = y\n",
    "        \n",
    "    def distance(self, other_pos):\n",
    "        x_diff = self.x - other_pos.x\n",
    "        y_diff = self.y - other_pos.y\n",
    "        return math.sqrt(x_diff*x_diff + y_diff*y_diff)\n",
    "\n",
    "position1 = Position(10, 12)\n",
    "position2 = Position(11, 9)\n",
    "distance = position1.distance(position2)\n",
    "print(f'{distance = }')"
   ]
  },
  {
   "cell_type": "markdown",
   "id": "24650a47",
   "metadata": {},
   "source": [
    "### Answer exercise 2"
   ]
  },
  {
   "cell_type": "code",
   "execution_count": 43,
   "id": "23836525",
   "metadata": {},
   "outputs": [
    {
     "name": "stdout",
     "output_type": "stream",
     "text": [
      "my_dalmatian_dog = Dalmatian(name=Matt, age=3, tricks=['Fetch', 'Spin'], n_spots=23)\n"
     ]
    }
   ],
   "source": [
    "class Animal:\n",
    "\n",
    "    def __init__(self, name, age):\n",
    "        self.name = name\n",
    "        self.age = age\n",
    "\n",
    "class Dog(Animal):\n",
    "\n",
    "    def __init__(self, name, age, tricks):\n",
    "        super().__init__(name, age)\n",
    "        self.tricks = tricks\n",
    "\n",
    "class Dalmatian(Dog):\n",
    "    \n",
    "    def __init__(self, name, age, tricks, n_spots):\n",
    "        super().__init__(name, age, tricks)\n",
    "        self.n_spots = n_spots\n",
    "        \n",
    "    def __repr__(self):\n",
    "        return f\"{self.__class__.__name__}(name={self.name}, age={self.age}, tricks={self.tricks}, n_spots={self.n_spots})\"\n",
    "\n",
    "my_dalmatian_dog = Dalmatian('Matt', 3, ['Fetch', 'Spin'], 23)\n",
    "print(f'{my_dalmatian_dog = }')"
   ]
  }
 ],
 "metadata": {
  "kernelspec": {
   "display_name": "Python 3 (ipykernel)",
   "language": "python",
   "name": "python3"
  },
  "language_info": {
   "codemirror_mode": {
    "name": "ipython",
    "version": 3
   },
   "file_extension": ".py",
   "mimetype": "text/x-python",
   "name": "python",
   "nbconvert_exporter": "python",
   "pygments_lexer": "ipython3",
   "version": "3.8.10"
  }
 },
 "nbformat": 4,
 "nbformat_minor": 5
}
