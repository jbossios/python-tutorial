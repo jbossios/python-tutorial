{
 "cells": [
  {
   "cell_type": "markdown",
   "id": "fa4d9650",
   "metadata": {},
   "source": [
    "# <div align='center'>Introduction to Python for data analysis: Helpful tips and modules</div>\n",
    "\n",
    "\n",
    "# Contents\n",
    "\n",
    "1. <a href=\"#logging\">Logging</a>\n",
    "2. <a href='#pretty-printing'>Pretty-printing</a>\n",
    "3. <a href='#os-sys'>The os and sys modules</a>\n",
    "4. <a href='#typing'>The typing module</a>\n",
    "5. <a href='#datetime'>The datetime module</a>\n",
    "6. <a href='#defaultdict'>Defaultdict from the collections module</a>\n",
    "7. <a href='#time'>The time module and how to know how much time a process takes</a>\n",
    "8. <a href='#random'>The random module and how to generate random numbers</a>\n",
    "9. <a href='#matplotlib'>The matplotlib module and how to make plots/figures/graphs</a>\n",
    "10. <a href='#catch-errors'>How to catch errors?</a>\n",
    "11. <a href='#open-file'>How to open a file?</a>\n",
    "12. <a href='#write-file'>How to write a file?</a>\n",
    "13. <a href='#assert'>The assert statement</a>\n",
    "14. <a href='#performance'>Helpful modules to evaluate/improve performance</a>\n",
    "    1. <a href='#cprofile'>Profiling and how to know where your code is slower with the cProfile module</a>\n",
    "    2. <a href='#tracemalloc'>Track memory usage with the tracemalloc module</a>\n",
    "    3. <a href='#parallel'>Parallel processing in Python with Pool.map()</a>\n",
    "15. <a href='#exercises'>Exercises</a>"
   ]
  },
  {
   "cell_type": "markdown",
   "id": "30fa3b44",
   "metadata": {},
   "source": [
    "## <div id='logging'>1. Logging</div>\n",
    "\n",
    "```logging``` is a must-use module to improve how you are printing messages. Typically, one needs to diferentiate different kind of messages, those for debugging, those that are meant to be as warnings, those that are errors, and those that are only meant to inform about something. We can do all that easily, while controlling the level of messages we want to show, with the ```logging``` module.\n",
    "\n",
    "**Example:**"
   ]
  },
  {
   "cell_type": "code",
   "execution_count": 1,
   "id": "2a29ba2a",
   "metadata": {},
   "outputs": [
    {
     "name": "stderr",
     "output_type": "stream",
     "text": [
      "INFO: This is an example of a message meant to inform about something\n"
     ]
    }
   ],
   "source": [
    "import logging\n",
    "\n",
    "logging.basicConfig(level = 'INFO', format = '%(levelname)s: %(message)s')\n",
    "log = logging.getLogger()\n",
    "\n",
    "log.info('This is an example of a message meant to inform about something')\n"
   ]
  },
  {
   "cell_type": "markdown",
   "id": "e127fcbd",
   "metadata": {},
   "source": [
    "**Most-used levels are:**\n",
    "\n",
    "| Level | Numeric value   |\n",
    "|---|---|\n",
    "| CRITICAL | 50 |\n",
    "| ERROR    | 40 |\n",
    "| WARNING  | 30 |\n",
    "| INFO     | 20 |\n",
    "| DEBUG    | 10 |\n",
    "\n",
    "Let's see with an example which messages are shown by each level:"
   ]
  },
  {
   "cell_type": "code",
   "execution_count": 2,
   "id": "851d72da",
   "metadata": {},
   "outputs": [
    {
     "name": "stderr",
     "output_type": "stream",
     "text": [
      "CRITICAL: Messages for level = 50:\n",
      "CRITICAL: Messages for level = 40:\n",
      "ERROR: This is an example of an info message\n",
      "CRITICAL: Messages for level = 30:\n",
      "ERROR: This is an example of an info message\n",
      "WARNING: This is an example of an warning message\n",
      "CRITICAL: Messages for level = 20:\n",
      "ERROR: This is an example of an info message\n",
      "WARNING: This is an example of an warning message\n",
      "INFO: This is an example of an info message\n",
      "CRITICAL: Messages for level = 10:\n",
      "ERROR: This is an example of an info message\n",
      "DEBUG: This is an example of a debug message that is shown only if the level is DEBUG\n",
      "WARNING: This is an example of an warning message\n",
      "INFO: This is an example of an info message\n"
     ]
    }
   ],
   "source": [
    "levels = [logging.CRITICAL, logging.ERROR, logging.WARNING, logging.INFO, logging.DEBUG]\n",
    "\n",
    "for level in levels:\n",
    "    log.setLevel(level)\n",
    "    log.critical(f'Messages for level = {level}:')\n",
    "    log.error('This is an example of an info message')\n",
    "    log.debug('This is an example of a debug message that is shown only if the level is DEBUG')\n",
    "    log.warning('This is an example of an warning message')\n",
    "    log.info('This is an example of an info message')"
   ]
  },
  {
   "cell_type": "markdown",
   "id": "80c0ddd2",
   "metadata": {},
   "source": [
    "As you can see, only messages with a value higher or equal to the level set are shown."
   ]
  },
  {
   "cell_type": "markdown",
   "id": "58d7f15b",
   "metadata": {},
   "source": [
    "## <div id='pretty-printing'>2. Pretty-printing</div>\n",
    "\n",
    "\n",
    "The ```pprint()``` function from the ```pprint``` module helps to print more nicely complex data structures, making the output better formatted and much more readable.\n",
    "\n",
    "<u>Example with standard ```print()```:</u>"
   ]
  },
  {
   "cell_type": "code",
   "execution_count": 3,
   "id": "4d307785",
   "metadata": {},
   "outputs": [
    {
     "name": "stdout",
     "output_type": "stream",
     "text": [
      "{0: {'Name': 'Matthias', 'Age': 23, 'Country': 'US'}, 1: {'Name': 'John', 'Age': 45, 'Country': 'US'}, 2: {'Name': 'Lukas', 'Age': 33, 'Country': 'Germany'}, 3: {'Name': 'George', 'Age': 54, 'Country': 'US'}, 4: {'Name': 'Jonathan', 'Age': 32, 'Country': 'Argentina'}, 5: {'Name': 'David', 'Age': 38, 'Country': 'Spain'}}\n"
     ]
    }
   ],
   "source": [
    "Names     = ['Matthias','John','Lukas','George','Jonathan','David']\n",
    "Ages      = [23,45,33,54,32,38]\n",
    "Countries = ['US','US','Germany','US','Argentina','Spain']\n",
    "\n",
    "Users     = {ID : {'Name': name,'Age':Ages[ID],'Country':Countries[ID]} for ID,name in enumerate(Names)}\n",
    "print(Users)"
   ]
  },
  {
   "cell_type": "markdown",
   "id": "06e53507",
   "metadata": {},
   "source": [
    "<u>Example with ```pprint()```:</u>"
   ]
  },
  {
   "cell_type": "code",
   "execution_count": 4,
   "id": "02101d9b",
   "metadata": {},
   "outputs": [
    {
     "name": "stdout",
     "output_type": "stream",
     "text": [
      "{0: {'Name': 'Matthias', 'Age': 23, 'Country': 'US'},\n",
      " 1: {'Name': 'John', 'Age': 45, 'Country': 'US'},\n",
      " 2: {'Name': 'Lukas', 'Age': 33, 'Country': 'Germany'},\n",
      " 3: {'Name': 'George', 'Age': 54, 'Country': 'US'},\n",
      " 4: {'Name': 'Jonathan', 'Age': 32, 'Country': 'Argentina'},\n",
      " 5: {'Name': 'David', 'Age': 38, 'Country': 'Spain'}}\n"
     ]
    }
   ],
   "source": [
    "from pprint import pprint\n",
    "pprint(Users,sort_dicts=False)"
   ]
  },
  {
   "cell_type": "markdown",
   "id": "a428944d",
   "metadata": {},
   "source": [
    "## <div id='os-sys'>3. The ```os``` and ```sys``` modules</div>"
   ]
  },
  {
   "cell_type": "markdown",
   "id": "8c1dbc5f",
   "metadata": {},
   "source": [
    "### Some helpful functions from the ```sys``` module"
   ]
  },
  {
   "cell_type": "markdown",
   "id": "eea8568e",
   "metadata": {},
   "source": [
    "The ```sys``` module provides various functions and variables that are used to manipulate different parts of the Python runtime environment and is part of the Python's standard library.\n",
    "\n",
    "First, let's import the ```sys``` module\n",
    "\n",
    "```\n",
    "import sys\n",
    "```\n",
    "\n",
    "<u>Some useful functions:</u>\n",
    "\n",
    "* Use ```sys.exit([arg])``` to exit the program. The optional argument ```arg`` can be of any type, if it is an integer, zero is considered successful termination, any non-zero value is considered abnormal termination.\n",
    "\n",
    "* Use ```sys.getsizeof(object)``` to get the size of ```object``` in bytes. The object can be of any type.\n",
    "\n",
    "For more information about the above functions or other functions from the ```sys``` module, please look at https://docs.python.org/3/library/sys.html"
   ]
  },
  {
   "cell_type": "markdown",
   "id": "2d859653",
   "metadata": {},
   "source": [
    "### Some helpful functions from the ```os``` module\n",
    "\n",
    "The ```os``` module in Python provides functions for interacting with the operating system and is part of the Python's standard library.\n",
    "\n",
    "First, let's import the ```os``` module\n",
    "\n",
    "```\n",
    "import os\n",
    "```\n",
    "\n",
    "<u>Some useful functions:</u>\n",
    "\n",
    "* Use ```os.listdir()``` to list directories/files on a directory.\n",
    "\n",
    "* Use ```os.path.exists()``` to check if a given path/directory exists\n",
    "\n",
    "* Use ```os.makedirs()``` to create directories. If one wants to create ```'path/folder'``` and path doesn't exists, ```makedirs()``` will create both (path and folder within)\n",
    "\n",
    "* Use ```os.system``` to execute a command (a string) in a subshell\n",
    "\n",
    "For more information about the above functions or other functions from the ```os``` module, please look at\n",
    "https://docs.python.org/3/library/os.html"
   ]
  },
  {
   "cell_type": "markdown",
   "id": "13ed4aed",
   "metadata": {},
   "source": [
    "## <div id='typing'>4. The ```typing``` module</div>\n",
    "\n",
    "### ```Optional``` and ```NoReturn``` for type hints\n",
    "\n",
    "```Optional[str]``` signals that a variable can be ```None``` or of type ```str``` (```str``` can be replaced by any other type)."
   ]
  },
  {
   "cell_type": "code",
   "execution_count": 5,
   "id": "b456f98a",
   "metadata": {},
   "outputs": [
    {
     "name": "stdout",
     "output_type": "stream",
     "text": [
      "Example message\n"
     ]
    }
   ],
   "source": [
    "from typing import Optional, NoReturn\n",
    "\n",
    "def print_message(var: Optional[str]) -> NoReturn:\n",
    "    if var:\n",
    "        print(var)\n",
    "            \n",
    "string_1 = None\n",
    "print_message(string_1)\n",
    "\n",
    "string_2 = ''\n",
    "print_message(string_2)\n",
    "\n",
    "string_3 = 'Example message'\n",
    "print_message(string_3)"
   ]
  },
  {
   "cell_type": "markdown",
   "id": "2d775034",
   "metadata": {},
   "source": [
    "### Type aliases\n",
    "\n",
    "It is possible to make a new type which is an alias of another type, this could be used to simplify the syntax and help the reader.\n",
    "\n",
    "**Example:**"
   ]
  },
  {
   "cell_type": "code",
   "execution_count": 6,
   "id": "72ed5874",
   "metadata": {},
   "outputs": [
    {
     "name": "stdout",
     "output_type": "stream",
     "text": [
      "10\n"
     ]
    }
   ],
   "source": [
    "from typing import List\n",
    "\n",
    "Vector = List[int]\n",
    "def my_function(vec: Vector) -> int:\n",
    "    return sum(vec)\n",
    "\n",
    "# Return sum of [1,2,3,4]\n",
    "print(my_function([1,2,3,4]))"
   ]
  },
  {
   "cell_type": "markdown",
   "id": "1d0289bd",
   "metadata": {},
   "source": [
    "**Note:** I used ```List``` instead of ```list```, this works similarly for other types (```dict->Dict```, etc)"
   ]
  },
  {
   "cell_type": "markdown",
   "id": "5af8d596",
   "metadata": {},
   "source": [
    "**Note 2:** Since Python 3.9+, you can avoid the import and just use ```list[int]``` (similarly for other types)"
   ]
  },
  {
   "cell_type": "markdown",
   "id": "3fd8a61a",
   "metadata": {},
   "source": [
    "### ```Union``` for type hints\n",
    "\n",
    "```Union[type_1,type_2]``` can be used to signal that a variable can be of type ```type_1``` or of the type ```type_2```.\n",
    "\n",
    "**Note:** Since Python 3.10, one can achieve the same with ```type_1 | type_2```"
   ]
  },
  {
   "cell_type": "code",
   "execution_count": 7,
   "id": "955699e9",
   "metadata": {},
   "outputs": [
    {
     "name": "stdout",
     "output_type": "stream",
     "text": [
      "4.0\n",
      "3\n"
     ]
    }
   ],
   "source": [
    "from typing import Union\n",
    "\n",
    "Vector = List[Union[int,float]]\n",
    "def sum_numbers(vec: Vector) -> Union[int,float]:\n",
    "    return sum(vec)\n",
    "\n",
    "print(sum_numbers([1.3,2.7]))\n",
    "print(sum_numbers([1,2]))"
   ]
  },
  {
   "cell_type": "markdown",
   "id": "a0d6840a",
   "metadata": {},
   "source": [
    "### ```NewType``` for type hints\n",
    "\n",
    "```NewType``` can be used to create a new type.\n",
    "\n",
    "**Example:**"
   ]
  },
  {
   "cell_type": "code",
   "execution_count": 8,
   "id": "937d4c99",
   "metadata": {},
   "outputs": [
    {
     "name": "stdout",
     "output_type": "stream",
     "text": [
      "UserID = 0\n",
      "UserID = 1\n",
      "UserID = 2\n",
      "UserID = 3\n",
      "UserID = 4\n",
      "UserID = 5\n",
      "UserID = 6\n",
      "UserID = 7\n",
      "UserID = 8\n",
      "UserID = 9\n"
     ]
    }
   ],
   "source": [
    "from typing import NewType\n",
    "\n",
    "UserID = NewType('UserID',int)\n",
    "\n",
    "# Create 10 users\n",
    "Users = [UserID(n) for n in range(10)]\n",
    "\n",
    "# print all user ids\n",
    "for id in Users:\n",
    "    print(f'UserID = {id}')"
   ]
  },
  {
   "cell_type": "markdown",
   "id": "82c1d6dc",
   "metadata": {},
   "source": [
    "## <div id='datetime'>5. Get current date and time with the ```datetime``` module</div>"
   ]
  },
  {
   "cell_type": "code",
   "execution_count": 9,
   "id": "6d42822b",
   "metadata": {},
   "outputs": [
    {
     "name": "stdout",
     "output_type": "stream",
     "text": [
      "Current date and time : \n",
      "2022-01-23 10:21:08\n"
     ]
    }
   ],
   "source": [
    "from datetime import datetime\n",
    "now = datetime.now()\n",
    "print (\"Current date and time : \")\n",
    "print (now.strftime(\"%Y-%m-%d %H:%M:%S\"))"
   ]
  },
  {
   "cell_type": "markdown",
   "id": "e8d02fc6",
   "metadata": {},
   "source": [
    "Let's print the date on different formats"
   ]
  },
  {
   "cell_type": "code",
   "execution_count": 10,
   "id": "520e43bd",
   "metadata": {},
   "outputs": [
    {
     "name": "stdout",
     "output_type": "stream",
     "text": [
      "Today: 23/01/2022\n",
      "Today: January 23, 2022\n",
      "Today: 01/23/22\n",
      "Today: Jan-23-2022\n"
     ]
    }
   ],
   "source": [
    "# dd/mm/YY\n",
    "dd_mm_yy = now.strftime(\"%d/%m/%Y\")\n",
    "print(f'Today: {dd_mm_yy}')\n",
    "\n",
    "# Textual month day,year\n",
    "m_d_y = now.strftime(\"%B %d, %Y\")\n",
    "print(f'Today: {m_d_y}')\n",
    "\n",
    "# mm/dd/yy\n",
    "mm_dd_yy = now.strftime(\"%m/%d/%y\")\n",
    "print(f'Today: {mm_dd_yy}')\n",
    "\n",
    "# Month abbreviation-day-year\n",
    "a_m_d_y = now.strftime(\"%b-%d-%Y\")\n",
    "print(f'Today: {a_m_d_y}')"
   ]
  },
  {
   "cell_type": "markdown",
   "id": "41c51fdd",
   "metadata": {},
   "source": [
    "**Note:** Alternatively, if you only need the date, you could replace ```now``` by ```today``` and put the following two lines before using ```today```:\n",
    "\n",
    "```\n",
    "from datetime import date\n",
    "today = date.today()\n",
    "```"
   ]
  },
  {
   "cell_type": "markdown",
   "id": "7d776359",
   "metadata": {},
   "source": [
    "Let's print only the time now:"
   ]
  },
  {
   "cell_type": "code",
   "execution_count": 11,
   "id": "1f80ae7f",
   "metadata": {},
   "outputs": [
    {
     "name": "stdout",
     "output_type": "stream",
     "text": [
      "current_time = '10:21:08'\n"
     ]
    }
   ],
   "source": [
    "current_time = now.strftime(\"%H:%M:%S\")\n",
    "print(f'{current_time = }')"
   ]
  },
  {
   "cell_type": "markdown",
   "id": "ad19bda8",
   "metadata": {},
   "source": [
    "## <div id='defaultdict'>6. Defaultdict from the collections module</div>\n",
    "\n",
    "Defaultdict is a container present in the module ```collections```.\n",
    "\n",
    "Defaultdict is a sub-class of the dictionary class that returns a dictionary-like object.\n",
    "\n",
    "The functionality of both dictionaries and defualtdict are almost exactly the same except for the fact that ```defualtdict``` never raises a ```KeyError```. It provides a default value for keys that doesn't exist.\n",
    "\n",
    "<u>Syntax:</u>\n",
    "```\n",
    "defaultdict(default_factory)\n",
    "```\n",
    "\n",
    "where ```default_factory``` is a function returning the default value for non-existing keys. If this argument is absent, the dictionray raises a KeyError.\n",
    "\n",
    "**Example:**"
   ]
  },
  {
   "cell_type": "code",
   "execution_count": 12,
   "id": "92ec5bb8",
   "metadata": {},
   "outputs": [
    {
     "name": "stdout",
     "output_type": "stream",
     "text": [
      "my_defaultdict[\"a\"] = 1\n",
      "my_defaultdict[\"b\"] = 2\n",
      "my_defaultdict[\"c\"] = 'Not available'\n"
     ]
    }
   ],
   "source": [
    "from collections import defaultdict\n",
    " \n",
    "def default_value():\n",
    "    return \"Not available\"\n",
    "     \n",
    "my_defaultdict = defaultdict(default_value)\n",
    "my_defaultdict[\"a\"] = 1\n",
    "my_defaultdict[\"b\"] = 2\n",
    " \n",
    "print(f'{my_defaultdict[\"a\"] = }')\n",
    "print(f'{my_defaultdict[\"b\"] = }')\n",
    "print(f'{my_defaultdict[\"c\"] = }')"
   ]
  },
  {
   "cell_type": "markdown",
   "id": "d60cc927",
   "metadata": {},
   "source": [
    "## <div id='time'>7. How to know how much time is spent on something?</div>\n",
    "\n",
    "Let's say I want to know how much is spent on looping over 10000 numbers:"
   ]
  },
  {
   "cell_type": "code",
   "execution_count": 13,
   "id": "e90bffa2",
   "metadata": {},
   "outputs": [
    {
     "name": "stdout",
     "output_type": "stream",
     "text": [
      "Time spent looping over 10000 numbers = 0.00031242892146110535 seconds\n"
     ]
    }
   ],
   "source": [
    "import time\n",
    "\n",
    "start = time.perf_counter()\n",
    "for i in range(10000):\n",
    "    pass\n",
    "end = time.perf_counter()\n",
    "print('Time spent looping over 10000 numbers = {} seconds'.format(end-start))"
   ]
  },
  {
   "cell_type": "markdown",
   "id": "694af170",
   "metadata": {},
   "source": [
    "Let's use this now to show that using list comprehension is faster than doing a 'traditional' loop."
   ]
  },
  {
   "cell_type": "code",
   "execution_count": 14,
   "id": "8b1f61ed",
   "metadata": {},
   "outputs": [
    {
     "name": "stdout",
     "output_type": "stream",
     "text": [
      "Time w/o comprehension = 9.422469884157181e-05\n",
      "Time w/ comprehension = 7.019797340035439e-05\n"
     ]
    }
   ],
   "source": [
    "def f(x: int) -> int:\n",
    "    return x*x\n",
    "\n",
    "# make a loop and append value to list\n",
    "start_1 = time.perf_counter()\n",
    "list_1 = []\n",
    "for i in range(100):\n",
    "    list_1.append(f(i))\n",
    "end_1 = time.perf_counter()\n",
    "\n",
    "# use now comprehension\n",
    "start_2 = time.perf_counter()\n",
    "list_2 = [f(i) for i in range(100)]\n",
    "end_2 = time.perf_counter()\n",
    "\n",
    "print('Time w/o comprehension = {}'.format(end_1-start_1))\n",
    "print('Time w/ comprehension = {}'.format(end_2-start_2))"
   ]
  },
  {
   "cell_type": "markdown",
   "id": "6c3e9da4",
   "metadata": {},
   "source": [
    "Let's now show that using ```enumerate(list_2)``` is faster than doing ```range(len(list_2))```"
   ]
  },
  {
   "cell_type": "code",
   "execution_count": 15,
   "id": "427e1900",
   "metadata": {},
   "outputs": [
    {
     "name": "stdout",
     "output_type": "stream",
     "text": [
      "Time with range(len()) = 5.99161721765995e-05\n",
      "Time with enumerate() = 4.179496318101883e-05\n"
     ]
    }
   ],
   "source": [
    "# using range(len())\n",
    "start_1 = time.perf_counter()\n",
    "for i in range(len(list_2)):\n",
    "    pass\n",
    "end_1 = time.perf_counter()\n",
    "\n",
    "# using enumerate()\n",
    "start_2 = time.perf_counter()\n",
    "for i in enumerate(list_2):\n",
    "    pass\n",
    "end_2 = time.perf_counter()\n",
    "\n",
    "print(f'Time with range(len()) = {end_1-start_1}')\n",
    "print(f'Time with enumerate() = {end_2-start_2}')"
   ]
  },
  {
   "cell_type": "markdown",
   "id": "b31b98d9",
   "metadata": {},
   "source": [
    "Finally, let's show the fastest way to create a list containing ```n``` equal lists"
   ]
  },
  {
   "cell_type": "code",
   "execution_count": 16,
   "id": "c7fc17de",
   "metadata": {},
   "outputs": [
    {
     "name": "stdout",
     "output_type": "stream",
     "text": [
      "Time for creating list_1 = 6.673019379377365e-05\n",
      "Time for creating list_2 = 3.795092925429344e-05\n"
     ]
    }
   ],
   "source": [
    "base_list = [1, 2, 3, 4]\n",
    "n = 100\n",
    "\n",
    "# slower\n",
    "start_1 = time.perf_counter()\n",
    "list_1 = [base_list for i in range(n)]\n",
    "end_1 = time.perf_counter()\n",
    "\n",
    "# faster\n",
    "start_2 = time.perf_counter()\n",
    "list_2 = [base_list] * n\n",
    "end_2 = time.perf_counter()\n",
    "\n",
    "print(f'Time for creating list_1 = {end_1-start_1}')\n",
    "print(f'Time for creating list_2 = {end_2-start_2}')"
   ]
  },
  {
   "cell_type": "markdown",
   "id": "e47459e6",
   "metadata": {},
   "source": [
    "## <div id='random'>8. How to generate random numbers?</div>\n",
    "\n",
    "As an example, let's generate a (pseudo-)randomly-generated integer number in the [0,1000] range:"
   ]
  },
  {
   "cell_type": "code",
   "execution_count": 17,
   "id": "e20e11e6",
   "metadata": {},
   "outputs": [
    {
     "name": "stdout",
     "output_type": "stream",
     "text": [
      "random_number = 455\n",
      "new_random_number = 436\n"
     ]
    }
   ],
   "source": [
    "from random import randrange\n",
    "\n",
    "random_number = randrange(1000)\n",
    "print(f'{random_number = }')\n",
    "\n",
    "new_random_number = randrange(1000)\n",
    "print(f'{new_random_number = }')"
   ]
  },
  {
   "cell_type": "markdown",
   "id": "d90e7e4e",
   "metadata": {},
   "source": [
    "Let's generate now float numbers between 0 and 1:"
   ]
  },
  {
   "cell_type": "code",
   "execution_count": 18,
   "id": "1cd9f18a",
   "metadata": {},
   "outputs": [
    {
     "name": "stdout",
     "output_type": "stream",
     "text": [
      "random_float_number = 0.3599669598066524\n",
      "new_random_float_number = 0.4926879605462071\n"
     ]
    }
   ],
   "source": [
    "from random import random\n",
    "random_float_number = random()\n",
    "new_random_float_number = random()\n",
    "print(f'{random_float_number = }')\n",
    "print(f'{new_random_float_number = }')"
   ]
  },
  {
   "cell_type": "markdown",
   "id": "eee5ff82",
   "metadata": {},
   "source": [
    "## <div id='matplotlib'>9. How to make plots/figures/graphs with matplotlib?</div>\n",
    "\n",
    "### How to make histograms?\n",
    "\n",
    "Let's generate numbers in the [0,10] range and make a histogram, if the number of generated numbers is sufficiently high, the distribution should be flat."
   ]
  },
  {
   "cell_type": "code",
   "execution_count": 19,
   "id": "3153cde8",
   "metadata": {
    "scrolled": true
   },
   "outputs": [
    {
     "name": "stderr",
     "output_type": "stream",
     "text": [
      "DEBUG: matplotlib data path: /home/jbossios/.local/lib/python3.8/site-packages/matplotlib/mpl-data\n",
      "DEBUG: CONFIGDIR=/home/jbossios/.config/matplotlib\n",
      "DEBUG: matplotlib version 3.4.2\n",
      "DEBUG: interactive is False\n",
      "DEBUG: platform is linux\n",
      "DEBUG: loaded modules: ['sys', 'builtins', '_frozen_importlib', '_imp', '_warnings', '_io', 'marshal', 'posix', '_frozen_importlib_external', '_thread', '_weakref', 'time', 'zipimport', '_codecs', 'codecs', 'encodings.aliases', 'encodings', 'encodings.utf_8', '_signal', '__main__', 'encodings.latin_1', '_abc', 'abc', 'io', '_stat', 'stat', '_collections_abc', 'genericpath', 'posixpath', 'os.path', 'os', '_sitebuiltins', '_locale', '_bootlocale', 'types', 'importlib._bootstrap', 'importlib._bootstrap_external', 'warnings', 'importlib', 'importlib.machinery', 'importlib.abc', '_operator', 'operator', 'keyword', '_heapq', 'heapq', 'itertools', 'reprlib', '_collections', 'collections', '_functools', 'functools', 'contextlib', 'importlib.util', 'google', 'google.cloud', 'google.logging', 'mpl_toolkits', 'apport_python_hook', 'sitecustomize', 'site', '_weakrefset', 'weakref', 'pkgutil', 'runpy', 'enum', '_sre', 'sre_constants', 'sre_parse', 'sre_compile', 'copyreg', 're', 'ipykernel._version', '_json', 'json.scanner', 'json.decoder', 'json.encoder', 'json', 'errno', 'signal', 'threading', '_posixsubprocess', 'select', 'collections.abc', 'math', 'selectors', 'subprocess', 'typing.io', 'typing.re', 'typing', 'jupyter_client._version', '_ast', 'ast', '_opcode', 'opcode', 'dis', 'token', 'tokenize', 'linecache', 'inspect', 'traitlets.utils', 'traitlets.utils.getargspec', 'traitlets.utils.importstring', 'traitlets.utils.sentinel', 'traitlets.utils.bunch', 'traitlets.utils.descriptions', 'traitlets.traitlets', 'copy', 'traitlets.utils.decorators', 'traitlets._version', 'traitlets', 'concurrent', 'traceback', '_string', 'string', 'atexit', 'logging', 'concurrent.futures._base', 'concurrent.futures', '_socket', 'socket', '_ssl', '_struct', 'struct', 'binascii', 'base64', 'ssl', 'asyncio.constants', 'asyncio.format_helpers', 'asyncio.base_futures', 'asyncio.log', 'asyncio.coroutines', '_contextvars', 'contextvars', 'asyncio.exceptions', 'asyncio.base_tasks', '_asyncio', 'asyncio.events', 'asyncio.futures', 'asyncio.protocols', 'asyncio.transports', 'asyncio.sslproto', 'asyncio.locks', 'asyncio.tasks', 'asyncio.staggered', 'asyncio.trsock', 'asyncio.base_events', 'asyncio.runners', 'asyncio.queues', 'asyncio.streams', 'asyncio.subprocess', 'asyncio.base_subprocess', 'asyncio.selector_events', 'asyncio.unix_events', 'asyncio', '_queue', 'queue', 'platform', '_ctypes', 'ctypes._endian', 'ctypes', 'zmq.backend.select', 'cython_runtime', 'zmq.backend.cython.constants', '_cython_0_29_24', 'zmq.backend.cython.error', 'zmq.error', 'zmq.backend.cython.message', 'zmq.backend.cython.context', '_bisect', 'bisect', '_sha512', '_random', 'random', '_compat_pickle', '_pickle', 'pickle', 'zmq.backend.cython.socket', 'zmq.backend.cython.utils', 'zmq.backend.cython._poll', 'zmq.backend.cython._version', 'zmq.backend.cython._device', 'zmq.backend.cython._proxy_steerable', 'zmq.backend.cython', 'zmq.backend', 'zmq.utils', 'zmq.utils.constant_names', 'zmq.sugar.constants', 'zmq.sugar.attrsettr', 'zmq.sugar.poll', 'zmq.utils.jsonapi', 'zmq.utils.strtypes', 'zmq.sugar.socket', 'zmq.sugar.context', 'zmq.sugar.frame', 'zmq.sugar.tracker', 'zmq.sugar.version', 'zmq.sugar.stopwatch', 'zmq.sugar', 'zmq', 'zmq._future', 'zmq.asyncio', 'jupyter_client.channelsabc', '_hashlib', '_blake2', '_sha3', 'hashlib', 'hmac', 'pprint', '_datetime', 'datetime', 'locale', 'gettext', 'argparse', 'traitlets.config.loader', 'textwrap', 'traitlets.utils.text', 'traitlets.config.configurable', 'traitlets.config.application', 'traitlets.config', 'traitlets.log', '__future__', 'tornado', 'logging.handlers', 'html.entities', 'html', 'urllib', 'urllib.parse', 'array', 'zlib', 'tornado.speedups', 'tornado.util', 'tornado.escape', 'colorama.ansi', 'colorama.win32', 'colorama.winterm', 'colorama.ansitowin32', 'colorama.initialise', 'colorama', '_curses', 'curses', 'tornado.log', 'numbers', 'tornado.concurrent', 'tornado.ioloop', 'tornado.platform', 'tornado.gen', 'tornado.platform.asyncio', 'zmq.eventloop.ioloop', 'zmq.eventloop', 'zmq.eventloop.zmqstream', 'jupyter_client.adapter', 'dateutil._version', 'dateutil', 'calendar', 'six', '_decimal', 'decimal', 'dateutil._common', 'dateutil.relativedelta', 'six.moves', 'dateutil.tz._common', 'dateutil.tz._factories', 'dateutil.tz.tz', 'dateutil.tz', 'dateutil.parser._parser', 'dateutil.parser.isoparser', 'dateutil.parser', '_strptime', 'jupyter_client.jsonutil', 'jupyter_client.session', 'jupyter_client.channels', 'termios', 'getpass', 'jupyter_client.clientabc', 'fnmatch', 'glob', '_compression', '_bz2', 'bz2', '_lzma', 'lzma', 'pwd', 'grp', 'shutil', 'tempfile', 'jupyter_core.version', 'jupyter_core', 'ntpath', 'pathlib', 'jupyter_core.paths', 'jupyter_client.localinterfaces', 'jupyter_client.utils', 'jupyter_client.connect', 'jupyter_client.client', 'jupyter_client.asynchronous.client', 'jupyter_client.asynchronous', 'jupyter_client.blocking.client', 'jupyter_client.blocking', 'jupyter_client.launcher', '_uuid', 'uuid', 'jupyter_client.managerabc', 'zipfile', 'configparser', 'entrypoints', 'jupyter_client.provisioning.provisioner_base', 'jupyter_client.provisioning.factory', 'jupyter_client.provisioning.local_provisioner', 'jupyter_client.provisioning', 'jupyter_client.kernelspec', 'jupyter_client.manager', 'jupyter_client.multikernelmanager', 'jupyter_client', 'ipykernel.connect', 'ipykernel', 'IPython.core', 'IPython.core.getipython', 'IPython.core.release', 'sysconfig', '_sysconfigdata__x86_64-linux-gnu', 'pydoc', 'bdb', 'IPython.utils', 'IPython.utils.ipstruct', 'IPython.utils.coloransi', 'pygments', 'IPython.utils.colorable', 'IPython.utils.PyColorize', 'IPython.utils.encoding', 'IPython.utils.py3compat', 'IPython.core.excolors', 'IPython.testing', 'IPython.testing.skipdoctest', 'cmd', 'codeop', 'code', 'pdb', 'IPython.core.debugger', 'IPython.core.display_trap', 'pexpect.exceptions', 'pexpect.utils', 'pexpect.expect', 'tty', 'pty', 'fcntl', 'resource', 'ptyprocess.util', 'ptyprocess.ptyprocess', 'ptyprocess', 'pexpect.spawnbase', 'pexpect.pty_spawn', 'pexpect.run', 'pexpect', 'shlex', 'IPython.utils._process_common', 'IPython.utils._process_posix', 'IPython.utils.process', 'IPython.utils.decorators', 'IPython.utils.path', 'IPython.utils.data', 'IPython.utils.terminal', 'IPython.core.ultratb', 'IPython.utils._sysinfo', 'IPython.utils.sysinfo', 'IPython.core.crashhandler', 'IPython.utils.importstring', 'IPython.paths', 'IPython.core.profiledir', 'IPython.core.application', 'IPython.terminal', 'IPython.core.compilerop', 'IPython.core.error', 'IPython.utils.text', 'IPython.core.magic_arguments', 'getopt', 'mimetypes', 'IPython.core.display', 'IPython.core.page', 'IPython.lib.security', 'IPython.lib', 'IPython.lib.pretty', 'IPython.utils.openpy', 'IPython.utils.dir2', 'IPython.utils.wildcard', 'pygments.lexers._mapping', 'pygments.modeline', 'pygments.plugin', 'pygments.util', 'pygments.lexers', 'pygments.filter', 'pygments.token', 'pygments.filters', 'pygments.regexopt', 'pygments.lexer', 'pygments.unistring', 'pygments.lexers.python', 'pygments.formatters._mapping', 'pygments.formatters', 'pygments.styles', 'pygments.formatter', 'pygments.formatters.html', 'IPython.core.oinspect', 'IPython.core.inputtransformer2', 'decorator', 'IPython.core.magic', 'pickleshare', 'IPython.core.autocall', 'IPython.core.macro', 'IPython.core.splitinput', 'IPython.core.prefilter', 'IPython.core.alias', 'IPython.core.builtin_trap', 'backcall.backcall', 'backcall', 'IPython.core.events', 'IPython.core.displayhook', 'IPython.core.displaypub', 'IPython.core.extensions', 'IPython.utils.sentinel', 'IPython.core.formatters', '_sqlite3', 'sqlite3.dbapi2', 'sqlite3', 'IPython.core.history', 'IPython.core.logger', 'IPython.core.payload', 'IPython.core.usage', 'IPython.lib.display', 'IPython.display', 'IPython.utils.capture', 'IPython.utils.io', 'IPython.core.hooks', 'IPython.utils.strdispatch', 'IPython.utils.syspathcontext', 'IPython.utils.tempdir', 'IPython.utils.contexts', 'IPython.core.async_helpers', 'IPython.core.interactiveshell', 'prompt_toolkit.application.current', 'prompt_toolkit.eventloop.utils', 'prompt_toolkit.eventloop.async_generator', 'wcwidth.table_wide', 'wcwidth.table_zero', 'wcwidth.unicode_versions', 'wcwidth.wcwidth', 'wcwidth', 'prompt_toolkit.utils', 'prompt_toolkit.eventloop.inputhook', 'prompt_toolkit.eventloop', 'prompt_toolkit.application.run_in_terminal', 'prompt_toolkit.selection', 'prompt_toolkit.clipboard.base', 'prompt_toolkit.clipboard.in_memory', 'prompt_toolkit.clipboard', 'prompt_toolkit.cache', 'prompt_toolkit.enums', 'prompt_toolkit.filters.base', 'prompt_toolkit.filters.app', 'prompt_toolkit.filters.cli', 'prompt_toolkit.filters.utils', 'prompt_toolkit.filters', 'prompt_toolkit.document', 'prompt_toolkit.auto_suggest', 'prompt_toolkit.data_structures', 'prompt_toolkit.styles.base', 'prompt_toolkit.styles.named_colors', 'prompt_toolkit.styles.style', 'prompt_toolkit.styles.defaults', 'prompt_toolkit.styles.pygments', 'colorsys', 'prompt_toolkit.styles.style_transformation', 'prompt_toolkit.styles', 'prompt_toolkit.output.color_depth', 'prompt_toolkit.output.base', 'prompt_toolkit.output.defaults', 'prompt_toolkit.output', 'prompt_toolkit.output.vt100', 'prompt_toolkit.mouse_events', 'prompt_toolkit.formatted_text.base', 'prompt_toolkit.formatted_text.ansi', 'xml', 'xml.dom.domreg', 'xml.dom', 'xml.dom.minicompat', 'xml.dom.NodeFilter', 'xml.dom.xmlbuilder', 'xml.dom.minidom', 'prompt_toolkit.formatted_text.html', 'prompt_toolkit.formatted_text.pygments', 'prompt_toolkit.formatted_text.utils', 'prompt_toolkit.formatted_text', 'prompt_toolkit.completion.base', 'prompt_toolkit.completion.deduplicate', 'prompt_toolkit.completion.filesystem', 'prompt_toolkit.completion.word_completer', 'prompt_toolkit.completion.fuzzy_completer', 'prompt_toolkit.completion.nested', 'prompt_toolkit.completion', 'prompt_toolkit.history', 'prompt_toolkit.keys', 'prompt_toolkit.key_binding.key_bindings', 'prompt_toolkit.key_binding.key_processor', 'prompt_toolkit.key_binding', 'prompt_toolkit.key_binding.vi_state', 'prompt_toolkit.search', 'prompt_toolkit.validation', 'prompt_toolkit.buffer', 'prompt_toolkit.input.base', 'prompt_toolkit.input.defaults', 'prompt_toolkit.input', 'prompt_toolkit.input.typeahead', 'prompt_toolkit.key_binding.bindings', 'prompt_toolkit.key_binding.bindings.scroll', 'prompt_toolkit.key_binding.bindings.page_navigation', 'prompt_toolkit.lexers.base', 'prompt_toolkit.lexers.pygments', 'prompt_toolkit.lexers', 'prompt_toolkit.layout.utils', 'prompt_toolkit.layout.processors', 'prompt_toolkit.layout.controls', 'prompt_toolkit.layout.dimension', 'prompt_toolkit.layout.margins', 'prompt_toolkit.layout.mouse_handlers', 'prompt_toolkit.layout.screen', 'prompt_toolkit.layout.containers', 'prompt_toolkit.layout.layout', 'prompt_toolkit.layout.menus', 'prompt_toolkit.layout.scrollable_pane', 'prompt_toolkit.layout', 'prompt_toolkit.key_binding.bindings.completion', 'prompt_toolkit.key_binding.bindings.named_commands', 'prompt_toolkit.key_binding.bindings.basic', 'prompt_toolkit.key_binding.bindings.cpr', 'prompt_toolkit.key_binding.bindings.emacs', 'prompt_toolkit.key_binding.bindings.mouse', 'prompt_toolkit.input.ansi_escape_sequences', 'prompt_toolkit.input.vt100_parser', 'prompt_toolkit.key_binding.digraphs', 'prompt_toolkit.key_binding.bindings.vi', 'prompt_toolkit.key_binding.defaults', 'prompt_toolkit.key_binding.emacs_state', 'prompt_toolkit.layout.dummy', 'prompt_toolkit.renderer', 'prompt_toolkit.application.application', 'prompt_toolkit.application.dummy', 'prompt_toolkit.application', 'prompt_toolkit.key_binding.bindings.focus', 'prompt_toolkit.widgets.toolbars', 'prompt_toolkit.widgets.base', 'prompt_toolkit.widgets.dialogs', 'prompt_toolkit.widgets.menus', 'prompt_toolkit.widgets', 'prompt_toolkit.shortcuts.dialogs', 'prompt_toolkit.shortcuts.progress_bar.formatters', 'prompt_toolkit.shortcuts.progress_bar.base', 'prompt_toolkit.shortcuts.progress_bar', 'prompt_toolkit.key_binding.bindings.auto_suggest', 'prompt_toolkit.key_binding.bindings.open_in_editor', 'prompt_toolkit.shortcuts.prompt', 'prompt_toolkit.shortcuts.utils', 'prompt_toolkit.shortcuts', 'prompt_toolkit', 'prompt_toolkit.patch_stdout', 'pygments.style', 'unicodedata', 'IPython.core.latex_symbols', 'IPython.utils.generics', 'parso.utils', 'parso.tree', 'parso.python', 'parso.python.token', 'parso.python.tokenize', 'parso.pgen2.grammar_parser', 'parso.pgen2.generator', 'parso.pgen2', 'parso.parser', 'parso._compatibility', 'difflib', 'parso.python.prefix', 'parso.python.tree', 'parso.python.parser', 'parso.python.diff', 'gc', 'parso.cache', 'parso.normalizer', 'parso.python.errors', 'parso.python.pep8', 'parso.file_io', 'parso.grammar', 'parso', 'jedi._compatibility', 'jedi.parser_utils', 'jedi.debug', 'jedi.settings', 'jedi.cache', 'jedi.file_io', 'jedi.inference.cache', 'jedi.inference.helpers', 'jedi.inference.utils', 'jedi.inference.base_value', 'jedi.inference.sys_path', 'jedi.inference.recursion', 'jedi.inference.flow_analysis', 'jedi.common', 'jedi.inference.lazy_value', 'jedi.inference.docstrings', 'jedi.plugins', 'jedi.inference.names', 'jedi.inference.filters', 'jedi.inference.compiled.getattr_static', 'jedi.inference.compiled.access', 'jedi.inference.signature', 'jedi.inference.context', 'jedi.inference.compiled.value', 'jedi.inference.compiled', 'jedi.inference.analysis', 'jedi.inference.gradual', 'jedi.inference.value.module', 'jedi.inference.value.dynamic_arrays', 'jedi.inference.value.iterable', 'jedi.inference.arguments', 'jedi.inference.parser_cache', 'jedi.inference.gradual.generics', 'jedi.inference.value.function', 'jedi.inference.value.klass', 'jedi.inference.value.instance', 'jedi.inference.value', 'jedi.inference.gradual.base', 'jedi.inference.gradual.type_var', 'jedi.inference.gradual.typing', 'jedi.inference.gradual.stub_value', 'jedi.inference.gradual.typeshed', 'jedi.inference.compiled.subprocess.functions', 'jedi.api.exceptions', 'jedi.inference.compiled.subprocess', 'jedi.inference.imports', 'jedi.inference.param', 'jedi.inference.gradual.annotation', 'jedi.inference.value.decorator', 'jedi.inference.syntax_tree', 'jedi.inference', 'jedi.inference.gradual.conversion', 'jedi.inference.compiled.mixed', 'pydoc_data', 'pydoc_data.topics', 'jedi.api.keywords', 'jedi.api.completion_cache', 'jedi.api.helpers', 'jedi.api.classes', 'jedi.api.interpreter', 'jedi.api.strings', 'jedi.api.file_name', 'jedi.api.completion', 'filecmp', 'jedi.api.environment', 'jedi.inference.references', 'jedi.api.project', 'jedi.api.errors', 'jedi.api.refactoring', 'jedi.api.refactoring.extract', 'jedi.inference.gradual.utils', 'jedi.api', 'jedi.plugins.stdlib', 'jedi.plugins.flask', 'jedi.plugins.pytest', 'jedi.plugins.django', 'jedi.plugins.registry', 'jedi', 'IPython.core.completer', 'IPython.terminal.ptutils', 'IPython.terminal.shortcuts', 'IPython.terminal.debugger', 'IPython.lib.clipboard', 'IPython.terminal.magics', 'IPython.terminal.pt_inputhooks', 'IPython.terminal.prompts', 'IPython.terminal.interactiveshell', 'IPython.core.magics.auto', 'IPython.core.magics.basic', 'email', 'http', 'email.errors', 'email.quoprimime', 'email.base64mime', 'quopri', 'email.encoders', 'email.charset', 'email.header', 'email._parseaddr', 'email.utils', 'email._policybase', 'email.feedparser', 'email.parser', 'uu', 'email._encoded_words', 'email.iterators', 'email.message', 'http.client', 'urllib.response', 'urllib.error', 'urllib.request', 'IPython.core.magics.code', 'IPython.core.magics.config', 'IPython.core.magics.display', 'timeit', '_lsprof', 'profile', 'cProfile', 'pstats', 'IPython.utils.module_paths', 'IPython.utils.timing', 'IPython.core.magics.execution', 'IPython.core.magics.extension', 'IPython.core.magics.history', 'IPython.core.magics.logging', 'IPython.core.magics.namespace', 'IPython.core.magics.osm', 'IPython.core.magics.packaging', 'IPython.core.pylabtools', 'IPython.core.magics.pylab', 'IPython.lib.backgroundjobs', 'IPython.core.magics.script', 'IPython.core.magics', 'IPython.core.shellapp', 'IPython.extensions', 'IPython.extensions.storemagic', 'IPython.terminal.ipapp', 'IPython.terminal.embed', 'IPython.utils.frame', 'IPython', 'imp', 'ipykernel.iostream', 'ipykernel.control', 'ipykernel.heartbeat', 'IPython.utils.tokenutil', 'tornado.locks', 'tornado.queues', 'ipykernel.jsonutil', 'ipykernel.kernelbase', 'ipykernel.comm.comm', 'ipykernel.comm.manager', 'ipykernel.comm', 'IPython.core.payloadpage', 'ipykernel.displayhook', 'ipykernel.zmqshell', 'distutils', 'distutils.version', 'ipykernel.eventloops', 'ipykernel.compiler', 'debugpy._version', 'debugpy.common', 'debugpy.common.json', 'debugpy.common.fmt', 'debugpy.common.compat', 'debugpy', 'debugpy._vendored._util', 'debugpy._vendored', '_pydevd_bundle', 'encodings.ascii', 'stringprep', 'encodings.idna', '_pydevd_bundle.pydevd_vm_type', '_pydev_imps', 'xmlrpc', 'xml.parsers', 'pyexpat.errors', 'pyexpat.model', 'pyexpat', 'xml.parsers.expat.model', 'xml.parsers.expat.errors', 'xml.parsers.expat', 'gzip', 'xmlrpc.client', 'socketserver', 'http.server', 'xmlrpc.server', '_pydev_imps._pydev_saved_modules', '_pydevd_bundle.pydevd_constants', '_pydev_bundle', '_pydev_runfiles', '_pydevd_frame_eval', 'pydev_ipython', 'pydevd_concurrency_analyser', 'plistlib', 'pkg_resources.extern', 'pkg_resources._vendor', 'pkg_resources.extern.six', 'pkg_resources._vendor.six', 'pkg_resources.extern.six.moves', 'pkg_resources._vendor.six.moves', 'pkg_resources.py31compat', 'pkg_resources.extern.appdirs', 'pkg_resources._vendor.packaging.__about__', 'pkg_resources.extern.packaging', 'pkg_resources.extern.packaging._structures', 'pkg_resources.extern.packaging.version', 'pkg_resources.extern.packaging._compat', 'pkg_resources.extern.packaging.specifiers', 'pkg_resources.extern.pyparsing', 'pkg_resources.extern.six.moves.urllib', 'pkg_resources.extern.packaging.markers', 'pkg_resources.extern.packaging.requirements', 'pkg_resources.py2_warn', 'pkg_resources', 'pydevd_plugins', '_pydev_bundle.pydev_log', '_pydev_bundle._pydev_filesystem_encoding', '_pydevd_bundle.pydevd_comm_constants', 'pydevd_file_utils', '_pydev_imps._pydev_execfile', '_pydevd_bundle.pydevd_exec2', '_pydev_bundle.pydev_imports', '_pydev_bundle.pydev_is_thread_alive', '_pydev_bundle.pydev_override', 'pydevd_plugins.extensions', '_pydevd_bundle.pydevd_extension_utils', '_pydevd_bundle.pydevd_frame_utils', '_pydevd_bundle.pydevd_filtering', '_pydevd_bundle.pydevd_io', '_pydevd_bundle.pydevd_utils', '_pydev_bundle._pydev_tipper_common', '_pydev_bundle._pydev_imports_tipper', '_pydev_bundle._pydev_calltip_util', '_pydevd_bundle.pydevd_safe_repr', '_pydevd_bundle.pydevd_resolver', '_pydevd_bundle.pydevd_extension_api', '_pydevd_bundle.pydevd_xml', '_pydevd_bundle.pydevd_dont_trace', '_pydevd_frame_eval.vendored', '_pydevd_frame_eval.vendored.bytecode.flags', '_pydevd_frame_eval.vendored.bytecode.instr', '_pydevd_frame_eval.vendored.bytecode.bytecode', '_pydevd_frame_eval.vendored.bytecode.concrete', '_pydevd_frame_eval.vendored.bytecode.cfg', '_pydevd_frame_eval.vendored.bytecode', '_pydevd_bundle.pydevd_bytecode_utils', '_pydevd_bundle.pydevd_cython', '_pydevd_bundle.pydevd_cython_wrapper', '_pydevd_bundle.pydevd_additional_thread_info', '_pydevd_bundle.pydevd_thread_lifecycle', '_pydevd_bundle.pydevd_save_locals', '_pydevd_bundle.pydevd_defaults', '_pydev_bundle.pydev_monkey', 'pydevd_tracing', '_pydevd_bundle.pydevd_daemon_thread', '_pydevd_bundle.pydevd_timeout', '_pydevd_bundle.pydevd_vars', '_pydev_bundle.pydev_console_utils', '_pydevd_bundle.pydevd_import_class', '_pydevd_bundle.pydevd_breakpoints', '_pydevd_bundle.pydevd_custom_frames', '_pydevd_bundle.pydevd_dont_trace_files', '_pydevd_bundle.pydevd_net_command', '_pydev_bundle.pydev_umd', 'pydevconsole', '_pydev_bundle._pydev_completer', '_pydevd_bundle.pydevd_net_command_factory_xml', '_pydevd_bundle.pydevd_frame', '_pydevd_bundle.pydevd_additional_thread_info_regular', '_pydevd_bundle.pydevd_trace_dispatch', '_pydevd_frame_eval.pydevd_frame_eval_main', '_pydevd_bundle.pydevd_source_mapping', 'pydevd_concurrency_analyser.pydevd_thread_wrappers', 'pydevd_concurrency_analyser.pydevd_concurrency_logger', '_pydevd_bundle._debug_adapter', '_pydevd_bundle._debug_adapter.pydevd_schema_log', '_pydevd_bundle._debug_adapter.pydevd_base_schema', '_pydevd_bundle._debug_adapter.pydevd_schema', '_pydevd_bundle.pydevd_reload', '_pydev_bundle.fsnotify', '_pydevd_bundle.pydevd_console', '_pydevd_bundle.pydevd_comm', '_pydevd_bundle.pydevd_net_command_factory_json', '_pydevd_bundle.pydevd_collect_bytecode_info', '_pydevd_bundle.pydevd_api', '_pydevd_bundle.pydevd_json_debug_options', '_pydevd_bundle.pydevd_process_net_command_json', '_pydevd_bundle.pydevd_traceproperty', '_pydevd_bundle.pydevd_process_net_command', '_pydevd_bundle.pydevd_suspended_frames', '_pydevd_bundle.pydevd_trace_api', 'pydevd_plugins.django_debug', 'pydevd_plugins.jinja2_debug', '_pydevd_bundle.pydevd_plugin_utils', 'pydevd_plugins.extensions.types', 'pydevd_plugins.extensions.types.pydevd_helpers', 'pydevd_plugins.extensions.types.pydevd_plugin_numpy_types', 'pydevd_plugins.extensions.types.pydevd_plugins_django_form_str', 'pydevd', 'debugpy._vendored.force_pydevd', 'debugpy.server', 'debugpy.adapter', 'debugpy.common.timestamp', 'debugpy.common.util', 'debugpy.common.log', 'debugpy.common.sockets', 'debugpy.server.api', 'ipykernel.debugger', 'ipykernel.ipkernel', 'ipykernel.parentpoller', 'ipykernel.kernelapp', 'netifaces', 'faulthandler', 'IPython.core.completerlib', 'storemagic', 'matplotlib', 'matplotlib._api.deprecation', 'matplotlib._api', 'numpy._globals', 'numpy.__config__', 'numpy.version', 'numpy._distributor_init', 'numpy.core._multiarray_umath', 'numpy.compat._inspect', 'numpy.compat.py3k', 'numpy.compat', 'numpy.core.overrides', 'numpy.core.multiarray', 'numpy.core.umath', 'numpy.core._string_helpers', 'numpy.core._dtype', 'numpy.core._type_aliases', 'numpy.core.numerictypes', 'numpy.core._asarray', 'numpy.core._exceptions', 'numpy.core._methods', 'numpy.core.fromnumeric', 'numpy.core.shape_base', 'numpy.core._ufunc_config', 'numpy.core.arrayprint', 'numpy.core.numeric', 'numpy.core.defchararray', 'numpy.core.records', 'numpy.core.memmap', 'numpy.core.function_base', 'numpy.core.machar', 'numpy.core.getlimits', 'numpy.core.einsumfunc', 'numpy.core._multiarray_tests', 'numpy.core._add_newdocs', 'numpy.core._dtype_ctypes', 'numpy.core._internal', 'numpy._pytesttester', 'numpy.core', 'numpy.lib.mixins', 'numpy.lib.ufunclike', 'numpy.lib.type_check', 'numpy.lib.scimath', 'numpy.lib.twodim_base', 'numpy.linalg.lapack_lite', 'numpy.linalg._umath_linalg', 'numpy.linalg.linalg', 'numpy.linalg', 'numpy.matrixlib.defmatrix', 'numpy.matrixlib', 'numpy.lib.histograms', 'numpy.lib.function_base', 'numpy.lib.stride_tricks', 'numpy.lib.index_tricks', 'numpy.lib.nanfunctions', 'numpy.lib.shape_base', 'numpy.lib.polynomial', 'numpy.lib.utils', 'numpy.lib.arraysetops', 'numpy.lib.format', 'numpy.lib._datasource', 'numpy.lib._iotools', 'numpy.lib.npyio', 'numpy.lib.financial', 'numpy.lib.arrayterator', 'numpy.lib.arraypad', 'numpy.lib._version', 'numpy.lib', 'numpy.fft._pocketfft_internal', 'numpy.fft._pocketfft', 'numpy.fft.helper', 'numpy.fft', 'numpy.polynomial.polyutils', 'numpy.polynomial._polybase', 'numpy.polynomial.polynomial', 'numpy.polynomial.chebyshev', 'numpy.polynomial.legendre', 'numpy.polynomial.hermite', 'numpy.polynomial.hermite_e', 'numpy.polynomial.laguerre', 'numpy.polynomial', '_cython_0_29_21', 'numpy.random._common', 'secrets', 'numpy.random.bit_generator', 'numpy.random._bounded_integers', 'numpy.random._mt19937', 'numpy.random.mtrand', 'numpy.random._philox', 'numpy.random._pcg64', 'numpy.random._sfc64', 'numpy.random._generator', 'numpy.random._pickle', 'numpy.random', 'numpy.ctypeslib', 'numpy.ma.core', 'numpy.ma.extras', 'numpy.ma', 'numpy', 'matplotlib._c_internal_utils', 'matplotlib.cbook', 'matplotlib.docstring', 'PIL._version', 'PIL', 'PIL.ImageMode', 'PIL.TiffTags', 'PIL._binary', 'PIL._util', 'PIL._imaging', 'cffi.lock', 'cffi.error', 'cffi.model', 'cffi.api', 'cffi', 'PIL.Image', 'matplotlib._animation_data', 'matplotlib.animation', 'PIL.ImageFile', 'PIL.GimpGradientFile', 'PIL.GimpPaletteFile', 'PIL.ImageColor', 'PIL.PaletteFile', 'PIL.ImagePalette', 'PIL.PngImagePlugin', 'matplotlib._path', 'matplotlib.bezier', 'matplotlib.path', 'matplotlib.transforms', 'matplotlib.ticker', 'matplotlib.scale', 'matplotlib._color_data', 'matplotlib.colors', 'pyparsing', 'matplotlib.fontconfig_pattern', 'matplotlib._enums', 'cycler', 'matplotlib.rcsetup', 'matplotlib._version', 'matplotlib.ft2font', 'kiwisolver', 'dateutil.rrule', 'matplotlib.units', 'matplotlib.dates']\n"
     ]
    },
    {
     "name": "stderr",
     "output_type": "stream",
     "text": [
      "DEBUG: CACHEDIR=/home/jbossios/.cache/matplotlib\n",
      "DEBUG: Using fontManager instance from /home/jbossios/.cache/matplotlib/fontlist-v330.json\n",
      "DEBUG: Loaded backend module://matplotlib_inline.backend_inline version unknown.\n",
      "DEBUG: Loaded backend module://matplotlib_inline.backend_inline version unknown.\n",
      "DEBUG: findfont: Matching sans\\-serif:style=normal:variant=normal:weight=normal:stretch=normal:size=10.0.\n",
      "DEBUG: findfont: score(<Font 'STIXGeneral' (STIXGeneral.ttf) normal normal 400 normal>) = 10.05\n",
      "DEBUG: findfont: score(<Font 'DejaVu Serif' (DejaVuSerif-Bold.ttf) normal normal 700 normal>) = 10.335\n",
      "DEBUG: findfont: score(<Font 'DejaVu Sans' (DejaVuSans-Oblique.ttf) oblique normal 400 normal>) = 1.05\n",
      "DEBUG: findfont: score(<Font 'STIXNonUnicode' (STIXNonUniBol.ttf) normal normal 700 normal>) = 10.335\n",
      "DEBUG: findfont: score(<Font 'DejaVu Sans Mono' (DejaVuSansMono-BoldOblique.ttf) oblique normal 700 normal>) = 11.335\n",
      "DEBUG: findfont: score(<Font 'cmb10' (cmb10.ttf) normal normal 400 normal>) = 10.05\n",
      "DEBUG: findfont: score(<Font 'STIXSizeTwoSym' (STIXSizTwoSymReg.ttf) normal normal 400 normal>) = 10.05\n",
      "DEBUG: findfont: score(<Font 'STIXSizeOneSym' (STIXSizOneSymBol.ttf) normal normal 700 normal>) = 10.335\n",
      "DEBUG: findfont: score(<Font 'STIXNonUnicode' (STIXNonUni.ttf) normal normal 400 normal>) = 10.05\n",
      "DEBUG: findfont: score(<Font 'DejaVu Sans' (DejaVuSans-Bold.ttf) normal normal 700 normal>) = 0.33499999999999996\n",
      "DEBUG: findfont: score(<Font 'cmsy10' (cmsy10.ttf) normal normal 400 normal>) = 10.05\n",
      "DEBUG: findfont: score(<Font 'STIXGeneral' (STIXGeneralBolIta.ttf) italic normal 700 normal>) = 11.335\n",
      "DEBUG: findfont: score(<Font 'STIXNonUnicode' (STIXNonUniIta.ttf) italic normal 400 normal>) = 11.05\n",
      "DEBUG: findfont: score(<Font 'STIXSizeTwoSym' (STIXSizTwoSymBol.ttf) normal normal 700 normal>) = 10.335\n",
      "DEBUG: findfont: score(<Font 'DejaVu Serif' (DejaVuSerif-BoldItalic.ttf) italic normal 700 normal>) = 11.335\n",
      "DEBUG: findfont: score(<Font 'cmr10' (cmr10.ttf) normal normal 400 normal>) = 10.05\n",
      "DEBUG: findfont: score(<Font 'DejaVu Sans Display' (DejaVuSansDisplay.ttf) normal normal 400 normal>) = 10.05\n",
      "DEBUG: findfont: score(<Font 'DejaVu Sans Mono' (DejaVuSansMono-Bold.ttf) normal normal 700 normal>) = 10.335\n",
      "DEBUG: findfont: score(<Font 'cmex10' (cmex10.ttf) normal normal 400 normal>) = 10.05\n",
      "DEBUG: findfont: score(<Font 'DejaVu Sans Mono' (DejaVuSansMono.ttf) normal normal 400 normal>) = 10.05\n",
      "DEBUG: findfont: score(<Font 'STIXSizeFiveSym' (STIXSizFiveSymReg.ttf) normal normal 400 normal>) = 10.05\n",
      "DEBUG: findfont: score(<Font 'DejaVu Serif Display' (DejaVuSerifDisplay.ttf) normal normal 400 normal>) = 10.05\n",
      "DEBUG: findfont: score(<Font 'cmmi10' (cmmi10.ttf) normal normal 400 normal>) = 10.05\n",
      "DEBUG: findfont: score(<Font 'STIXSizeFourSym' (STIXSizFourSymReg.ttf) normal normal 400 normal>) = 10.05\n",
      "DEBUG: findfont: score(<Font 'cmss10' (cmss10.ttf) normal normal 400 normal>) = 10.05\n",
      "DEBUG: findfont: score(<Font 'DejaVu Sans Mono' (DejaVuSansMono-Oblique.ttf) oblique normal 400 normal>) = 11.05\n",
      "DEBUG: findfont: score(<Font 'STIXSizeOneSym' (STIXSizOneSymReg.ttf) normal normal 400 normal>) = 10.05\n",
      "DEBUG: findfont: score(<Font 'STIXSizeThreeSym' (STIXSizThreeSymBol.ttf) normal normal 700 normal>) = 10.335\n",
      "DEBUG: findfont: score(<Font 'DejaVu Sans' (DejaVuSans-BoldOblique.ttf) oblique normal 700 normal>) = 1.335\n",
      "DEBUG: findfont: score(<Font 'DejaVu Serif' (DejaVuSerif-Italic.ttf) italic normal 400 normal>) = 11.05\n",
      "DEBUG: findfont: score(<Font 'STIXGeneral' (STIXGeneralBol.ttf) normal normal 700 normal>) = 10.335\n",
      "DEBUG: findfont: score(<Font 'STIXGeneral' (STIXGeneralItalic.ttf) italic normal 400 normal>) = 11.05\n",
      "DEBUG: findfont: score(<Font 'DejaVu Serif' (DejaVuSerif.ttf) normal normal 400 normal>) = 10.05\n",
      "DEBUG: findfont: score(<Font 'STIXSizeFourSym' (STIXSizFourSymBol.ttf) normal normal 700 normal>) = 10.335\n",
      "DEBUG: findfont: score(<Font 'cmtt10' (cmtt10.ttf) normal normal 400 normal>) = 10.05\n",
      "DEBUG: findfont: score(<Font 'DejaVu Sans' (DejaVuSans.ttf) normal normal 400 normal>) = 0.05\n",
      "DEBUG: findfont: score(<Font 'STIXSizeThreeSym' (STIXSizThreeSymReg.ttf) normal normal 400 normal>) = 10.05\n",
      "DEBUG: findfont: score(<Font 'STIXNonUnicode' (STIXNonUniBolIta.ttf) italic normal 700 normal>) = 11.335\n",
      "DEBUG: findfont: score(<Font 'Ubuntu' (Ubuntu-M.ttf) normal normal 500 normal>) = 10.145\n",
      "DEBUG: findfont: score(<Font 'KacstOffice' (KacstOffice.ttf) normal normal 500 normal>) = 10.145\n",
      "DEBUG: findfont: score(<Font 'Liberation Serif' (LiberationSerif-Bold.ttf) normal normal 700 normal>) = 10.335\n",
      "DEBUG: findfont: score(<Font 'Tlwg Typo' (TlwgTypo-BoldOblique.ttf) oblique normal 700 normal>) = 11.335\n",
      "DEBUG: findfont: score(<Font 'Rasa' (Rasa-Regular.ttf) normal normal 400 normal>) = 10.05\n",
      "DEBUG: findfont: score(<Font 'Liberation Mono' (LiberationMono-BoldItalic.ttf) italic normal 700 normal>) = 11.335\n",
      "DEBUG: findfont: score(<Font 'Padauk Book' (PadaukBook-Bold.ttf) normal normal 700 normal>) = 10.335\n",
      "DEBUG: findfont: score(<Font 'Lohit Odia' (Lohit-Odia.ttf) normal normal 400 normal>) = 10.05\n",
      "DEBUG: findfont: score(<Font 'KacstBook' (KacstBook.ttf) normal normal 500 normal>) = 10.145\n",
      "DEBUG: findfont: score(<Font 'Waree' (Waree-BoldOblique.ttf) oblique normal 700 normal>) = 11.335\n",
      "DEBUG: findfont: score(<Font 'Nimbus Sans Narrow' (NimbusSansNarrow-Oblique.otf) oblique normal 400 condensed>) = 11.25\n",
      "DEBUG: findfont: score(<Font 'Loma' (Loma.ttf) normal normal 400 normal>) = 10.05\n",
      "DEBUG: findfont: score(<Font 'Dyuthi' (Dyuthi-Regular.ttf) normal normal 400 normal>) = 10.05\n",
      "DEBUG: findfont: score(<Font 'Liberation Sans' (LiberationSans-Italic.ttf) italic normal 400 normal>) = 11.05\n",
      "DEBUG: findfont: score(<Font 'Ubuntu' (Ubuntu-B.ttf) normal normal 700 normal>) = 10.335\n",
      "DEBUG: findfont: score(<Font 'Yrsa' (Yrsa-Bold.ttf) normal normal 700 normal>) = 10.335\n",
      "DEBUG: findfont: score(<Font 'ori1Uni' (utkal.ttf) normal normal 500 normal>) = 10.145\n",
      "DEBUG: findfont: score(<Font 'DejaVu Sans Mono' (DejaVuSansMono-Bold.ttf) normal normal 700 normal>) = 10.335\n",
      "DEBUG: findfont: score(<Font 'Karumbi' (Karumbi-Regular.ttf) normal normal 400 normal>) = 10.05\n",
      "DEBUG: findfont: score(<Font 'Times New Roman' (Times_New_Roman_Bold_Italic.ttf) italic normal 700 normal>) = 11.335\n",
      "DEBUG: findfont: score(<Font 'URW Bookman' (URWBookman-LightItalic.otf) italic normal 300 normal>) = 11.145\n",
      "DEBUG: findfont: score(<Font 'Verdana' (verdanaz.ttf) italic normal 700 normal>) = 4.971363636363637\n",
      "DEBUG: findfont: score(<Font 'Waree' (Waree-Bold.ttf) normal normal 700 normal>) = 10.335\n",
      "DEBUG: findfont: score(<Font 'Nimbus Roman' (NimbusRoman-Italic.otf) italic normal 400 normal>) = 11.05\n",
      "DEBUG: findfont: score(<Font 'Impact' (impact.ttf) normal normal 400 normal>) = 10.05\n",
      "DEBUG: findfont: score(<Font 'Manjari' (Manjari-Thin.otf) normal normal 100 normal>) = 10.335\n",
      "DEBUG: findfont: score(<Font 'Loma' (Loma-Oblique.ttf) oblique normal 400 normal>) = 11.05\n",
      "DEBUG: findfont: score(<Font 'Mukti Narrow' (MuktiNarrowBold.ttf) normal normal 700 normal>) = 10.335\n",
      "DEBUG: findfont: score(<Font 'FreeMono' (FreeMono.ttf) normal normal 400 normal>) = 10.05\n",
      "DEBUG: findfont: score(<Font 'Nimbus Mono PS' (NimbusMonoPS-Bold.otf) normal normal 700 normal>) = 10.335\n",
      "DEBUG: findfont: score(<Font 'Kinnari' (Kinnari-Bold.ttf) normal normal 700 normal>) = 10.335\n",
      "DEBUG: findfont: score(<Font 'Rachana' (Rachana-Regular.ttf) normal normal 400 normal>) = 10.05\n",
      "DEBUG: findfont: score(<Font 'Jamrul' (JamrulNormal.ttf) normal normal 500 normal>) = 10.145\n",
      "DEBUG: findfont: score(<Font 'Nimbus Sans Narrow' (NimbusSansNarrow-BoldOblique.otf) oblique normal 700 condensed>) = 11.535\n",
      "DEBUG: findfont: score(<Font 'Pagul' (Pagul.ttf) normal normal 400 normal>) = 10.05\n",
      "DEBUG: findfont: score(<Font 'Loma' (Loma-BoldOblique.ttf) oblique normal 700 normal>) = 11.335\n",
      "DEBUG: findfont: score(<Font 'Arial' (arial.ttf) normal normal 400 normal>) = 6.413636363636363\n",
      "DEBUG: findfont: score(<Font 'Liberation Serif' (LiberationSerif-Italic.ttf) italic normal 400 normal>) = 11.05\n",
      "DEBUG: findfont: score(<Font 'Sawasdee' (Sawasdee-Bold.ttf) normal normal 700 normal>) = 10.335\n",
      "DEBUG: findfont: score(<Font 'Laksaman' (Laksaman-BoldItalic.ttf) italic normal 700 normal>) = 11.335\n"
     ]
    },
    {
     "name": "stderr",
     "output_type": "stream",
     "text": [
      "DEBUG: findfont: score(<Font 'Liberation Mono' (LiberationMono-Italic.ttf) italic normal 400 normal>) = 11.05\n",
      "DEBUG: findfont: score(<Font 'Chandas' (chandas1-2.ttf) normal normal 400 normal>) = 10.05\n",
      "DEBUG: findfont: score(<Font 'Verdana' (Verdana.ttf) normal normal 400 normal>) = 3.6863636363636365\n",
      "DEBUG: findfont: score(<Font 'Times New Roman' (Times_New_Roman_Bold.ttf) normal normal 700 normal>) = 10.335\n",
      "DEBUG: findfont: score(<Font 'Tlwg Mono' (TlwgMono-BoldOblique.ttf) oblique normal 700 normal>) = 11.335\n",
      "DEBUG: findfont: score(<Font 'Arial' (ariali.ttf) italic normal 400 normal>) = 7.413636363636363\n",
      "DEBUG: findfont: score(<Font 'Liberation Sans' (LiberationSans-BoldItalic.ttf) italic normal 700 normal>) = 11.335\n",
      "DEBUG: findfont: score(<Font 'Lohit Devanagari' (Lohit-Devanagari.ttf) normal normal 400 normal>) = 10.05\n",
      "DEBUG: findfont: score(<Font 'Liberation Mono' (LiberationMono-Bold.ttf) normal normal 700 normal>) = 10.335\n",
      "DEBUG: findfont: score(<Font 'Samyak Malayalam' (Samyak-Malayalam.ttf) normal normal 400 normal>) = 10.05\n",
      "DEBUG: findfont: score(<Font 'Garuda' (Garuda.ttf) normal normal 400 normal>) = 10.05\n",
      "DEBUG: findfont: score(<Font 'Gubbi' (Gubbi.ttf) normal normal 400 normal>) = 10.05\n",
      "DEBUG: findfont: score(<Font 'FreeSans' (FreeSansBoldOblique.ttf) oblique normal 600 normal>) = 11.24\n",
      "DEBUG: findfont: score(<Font 'Liberation Serif' (LiberationSerif-Regular.ttf) normal normal 400 normal>) = 10.05\n",
      "DEBUG: findfont: score(<Font 'Verdana' (verdanab.ttf) normal normal 700 normal>) = 3.9713636363636367\n",
      "DEBUG: findfont: score(<Font 'Saab' (Saab.ttf) normal normal 400 normal>) = 10.05\n",
      "DEBUG: findfont: score(<Font 'Khmer OS System' (KhmerOSsys.ttf) normal normal 400 normal>) = 10.05\n",
      "DEBUG: findfont: score(<Font 'KacstScreen' (KacstScreen.ttf) normal normal 500 normal>) = 10.145\n",
      "DEBUG: findfont: score(<Font 'Yrsa' (Yrsa-Light.ttf) normal normal 300 normal>) = 10.145\n",
      "DEBUG: findfont: score(<Font 'Kinnari' (Kinnari-Oblique.ttf) oblique normal 400 normal>) = 11.05\n",
      "DEBUG: findfont: score(<Font 'Tlwg Mono' (TlwgMono-Oblique.ttf) oblique normal 400 normal>) = 11.05\n",
      "DEBUG: findfont: score(<Font 'Kinnari' (Kinnari-BoldItalic.ttf) italic normal 700 normal>) = 11.335\n",
      "DEBUG: findfont: score(<Font 'FreeSerif' (FreeSerifItalic.ttf) italic normal 400 normal>) = 11.05\n",
      "DEBUG: findfont: score(<Font 'Rasa' (Rasa-SemiBold.ttf) normal normal 600 normal>) = 10.24\n",
      "DEBUG: findfont: score(<Font 'Verdana' (Verdana_Bold_Italic.ttf) italic normal 700 normal>) = 4.971363636363637\n",
      "DEBUG: findfont: score(<Font 'Yrsa' (Yrsa-Medium.ttf) normal normal 500 normal>) = 10.145\n",
      "DEBUG: findfont: score(<Font 'Liberation Serif' (LiberationSerif-Italic.ttf) italic normal 400 normal>) = 11.05\n",
      "DEBUG: findfont: score(<Font 'Phetsarath OT' (Phetsarath_OT.ttf) normal normal 400 normal>) = 10.05\n",
      "DEBUG: findfont: score(<Font 'FreeMono' (FreeMonoBoldOblique.ttf) oblique normal 700 normal>) = 11.335\n",
      "DEBUG: findfont: score(<Font 'KacstTitleL' (KacstTitleL.ttf) normal normal 400 normal>) = 10.05\n",
      "DEBUG: findfont: score(<Font 'Tlwg Typist' (TlwgTypist-Bold.ttf) normal normal 700 normal>) = 10.335\n",
      "DEBUG: findfont: score(<Font 'FreeMono' (FreeMonoOblique.ttf) oblique normal 400 normal>) = 11.05\n",
      "DEBUG: findfont: score(<Font 'Waree' (Waree.ttf) normal normal 400 normal>) = 10.05\n",
      "DEBUG: findfont: score(<Font 'Yrsa' (Yrsa-Regular.ttf) normal normal 400 normal>) = 10.05\n",
      "DEBUG: findfont: score(<Font 'Liberation Serif' (LiberationSerif-Bold.ttf) normal normal 700 normal>) = 10.335\n",
      "DEBUG: findfont: score(<Font 'Padauk' (Padauk-Regular.ttf) normal normal 400 normal>) = 10.05\n",
      "DEBUG: findfont: score(<Font 'Ubuntu' (Ubuntu-MI.ttf) italic normal 500 normal>) = 11.145\n",
      "DEBUG: findfont: score(<Font 'Nimbus Mono PS' (NimbusMonoPS-Regular.otf) normal normal 400 normal>) = 10.05\n",
      "DEBUG: findfont: score(<Font 'Garuda' (Garuda-Bold.ttf) normal normal 700 normal>) = 10.335\n",
      "DEBUG: findfont: score(<Font 'padmaa' (padmaa-Medium-0.5.ttf) normal normal 500 normal>) = 10.145\n",
      "DEBUG: findfont: score(<Font 'D050000L' (D050000L.otf) normal normal 400 normal>) = 10.05\n",
      "DEBUG: findfont: score(<Font 'Tlwg Mono' (TlwgMono-Bold.ttf) normal normal 700 normal>) = 10.335\n",
      "DEBUG: findfont: score(<Font 'Liberation Sans' (LiberationSans-Bold.ttf) normal normal 700 normal>) = 10.335\n",
      "DEBUG: findfont: score(<Font 'Tlwg Typist' (TlwgTypist.ttf) normal normal 400 normal>) = 10.05\n",
      "DEBUG: findfont: score(<Font 'Lohit Kannada' (Lohit-Kannada.ttf) normal normal 400 normal>) = 10.05\n",
      "DEBUG: findfont: score(<Font 'Courier New' (courbd.ttf) normal normal 700 normal>) = 10.335\n",
      "DEBUG: findfont: score(<Font 'Padauk Book' (PadaukBook-Regular.ttf) normal normal 400 normal>) = 10.05\n",
      "DEBUG: findfont: score(<Font 'Comic Sans MS' (Comic_Sans_MS_Bold.ttf) normal normal 700 normal>) = 10.335\n",
      "DEBUG: findfont: score(<Font 'Kinnari' (Kinnari.ttf) normal normal 400 normal>) = 10.05\n",
      "DEBUG: findfont: score(<Font 'KacstLetter' (KacstLetter.ttf) normal normal 500 normal>) = 10.145\n",
      "DEBUG: findfont: score(<Font 'Times New Roman' (times.ttf) normal normal 400 normal>) = 10.05\n",
      "DEBUG: findfont: score(<Font 'Norasi' (Norasi.ttf) normal normal 400 normal>) = 10.05\n",
      "DEBUG: findfont: score(<Font 'Rasa' (Rasa-Medium.ttf) normal normal 500 normal>) = 10.145\n",
      "DEBUG: findfont: score(<Font 'Tibetan Machine Uni' (TibetanMachineUni.ttf) normal normal 400 normal>) = 10.05\n",
      "DEBUG: findfont: score(<Font 'Liberation Mono' (LiberationMono-Italic.ttf) italic normal 400 normal>) = 11.05\n",
      "DEBUG: findfont: score(<Font 'Uroob' (Uroob-Regular.ttf) normal normal 400 normal>) = 10.05\n",
      "DEBUG: findfont: score(<Font 'Purisa' (Purisa-Oblique.ttf) oblique normal 400 normal>) = 11.05\n",
      "DEBUG: findfont: score(<Font 'Tlwg Typo' (TlwgTypo-Oblique.ttf) oblique normal 400 normal>) = 11.05\n",
      "DEBUG: findfont: score(<Font 'Georgia' (georgia.ttf) normal normal 400 normal>) = 10.05\n",
      "DEBUG: findfont: score(<Font 'Droid Sans Fallback' (DroidSansFallbackFull.ttf) normal normal 400 normal>) = 10.05\n",
      "DEBUG: findfont: score(<Font 'KacstNaskh' (KacstNaskh.ttf) normal normal 500 normal>) = 10.145\n",
      "DEBUG: findfont: score(<Font 'Vemana2000' (vemana2000.ttf) normal normal 400 normal>) = 10.05\n",
      "DEBUG: findfont: score(<Font 'C059' (C059-Italic.otf) italic normal 400 normal>) = 11.05\n",
      "DEBUG: findfont: score(<Font 'Yrsa' (Yrsa-SemiBold.ttf) normal normal 600 normal>) = 10.24\n",
      "DEBUG: findfont: score(<Font 'Times New Roman' (Times_New_Roman_Italic.ttf) italic normal 400 normal>) = 11.05\n",
      "DEBUG: findfont: score(<Font 'Comic Sans MS' (comicbd.ttf) normal normal 700 normal>) = 10.335\n",
      "DEBUG: findfont: score(<Font 'Courier New' (courbi.ttf) italic normal 700 normal>) = 11.335\n",
      "DEBUG: findfont: score(<Font 'Times New Roman' (timesbi.ttf) italic normal 700 normal>) = 11.335\n",
      "DEBUG: findfont: score(<Font 'Times New Roman' (timesi.ttf) italic normal 400 normal>) = 11.05\n",
      "DEBUG: findfont: score(<Font 'Liberation Mono' (LiberationMono-Regular.ttf) normal normal 400 normal>) = 10.05\n",
      "DEBUG: findfont: score(<Font 'Nimbus Roman' (NimbusRoman-BoldItalic.otf) italic normal 700 normal>) = 11.335\n",
      "DEBUG: findfont: score(<Font 'Ubuntu' (Ubuntu-RI.ttf) italic normal 400 normal>) = 11.05\n",
      "DEBUG: findfont: score(<Font 'Laksaman' (Laksaman.ttf) normal normal 400 normal>) = 10.05\n",
      "DEBUG: findfont: score(<Font 'Ubuntu' (Ubuntu-BI.ttf) italic normal 700 normal>) = 11.335\n",
      "DEBUG: findfont: score(<Font 'Norasi' (Norasi-Bold.ttf) normal normal 700 normal>) = 10.335\n",
      "DEBUG: findfont: score(<Font 'P052' (P052-Italic.otf) italic normal 400 normal>) = 11.05\n",
      "DEBUG: findfont: score(<Font 'KacstOne' (KacstOne-Bold.ttf) normal normal 700 normal>) = 10.335\n",
      "DEBUG: findfont: score(<Font 'Rachana' (Rachana-Bold.ttf) normal normal 700 normal>) = 10.335\n",
      "DEBUG: findfont: score(<Font 'Samanata' (samanata.ttf) normal normal 400 normal>) = 10.05\n",
      "DEBUG: findfont: score(<Font 'Norasi' (Norasi-Italic.ttf) italic normal 400 normal>) = 11.05\n",
      "DEBUG: findfont: score(<Font 'Sarai' (Sarai.ttf) normal normal 400 normal>) = 10.05\n",
      "DEBUG: findfont: score(<Font 'Nimbus Sans' (NimbusSans-Italic.otf) italic normal 400 normal>) = 11.05\n",
      "DEBUG: findfont: score(<Font 'LKLUG' (lklug.ttf) normal normal 400 normal>) = 10.05\n",
      "DEBUG: findfont: score(<Font 'Liberation Mono' (LiberationMono-Regular.ttf) normal normal 400 normal>) = 10.05\n"
     ]
    },
    {
     "name": "stderr",
     "output_type": "stream",
     "text": [
      "DEBUG: findfont: score(<Font 'Trebuchet MS' (Trebuchet_MS.ttf) normal normal 400 normal>) = 10.05\n",
      "DEBUG: findfont: score(<Font 'Times New Roman' (timesbd.ttf) normal normal 700 normal>) = 10.335\n",
      "DEBUG: findfont: score(<Font 'DejaVu Sans' (DejaVuSans-Bold.ttf) normal normal 700 normal>) = 0.33499999999999996\n",
      "DEBUG: findfont: score(<Font 'FreeSans' (FreeSansBold.ttf) normal normal 600 normal>) = 10.24\n",
      "DEBUG: findfont: score(<Font 'Courier New' (Courier_New_Italic.ttf) italic normal 400 normal>) = 11.05\n",
      "DEBUG: findfont: score(<Font 'Waree' (Waree-Oblique.ttf) oblique normal 400 normal>) = 11.05\n",
      "DEBUG: findfont: score(<Font 'Arial' (Arial_Bold_Italic.ttf) italic normal 700 normal>) = 7.698636363636363\n",
      "DEBUG: findfont: score(<Font 'Ubuntu' (Ubuntu-LI.ttf) italic normal 300 normal>) = 11.145\n",
      "DEBUG: findfont: score(<Font 'Nimbus Mono PS' (NimbusMonoPS-BoldItalic.otf) italic normal 700 normal>) = 11.335\n",
      "DEBUG: findfont: score(<Font 'Lohit Telugu' (Lohit-Telugu.ttf) normal normal 400 normal>) = 10.05\n",
      "DEBUG: findfont: score(<Font 'Rekha' (Rekha.ttf) normal normal 500 normal>) = 10.145\n",
      "DEBUG: findfont: score(<Font 'Norasi' (Norasi-Oblique.ttf) oblique normal 400 normal>) = 11.05\n",
      "DEBUG: findfont: score(<Font 'Manjari' (Manjari-Regular.otf) normal normal 400 normal>) = 10.05\n",
      "DEBUG: findfont: score(<Font 'Ubuntu Mono' (UbuntuMono-BI.ttf) italic normal 700 normal>) = 11.335\n",
      "DEBUG: findfont: score(<Font 'Gayathri' (Gayathri-Regular.otf) normal normal 400 normal>) = 10.05\n",
      "DEBUG: findfont: score(<Font 'Noto Sans CJK JP' (NotoSansCJK-Bold.ttc) normal normal 700 normal>) = 10.335\n",
      "DEBUG: findfont: score(<Font 'Gargi' (Gargi.ttf) normal normal 400 normal>) = 10.05\n",
      "DEBUG: findfont: score(<Font 'KacstDigital' (KacstDigital.ttf) normal normal 500 normal>) = 10.145\n",
      "DEBUG: findfont: score(<Font 'Georgia' (Georgia.ttf) normal normal 400 normal>) = 10.05\n",
      "DEBUG: findfont: score(<Font 'Gayathri' (Gayathri-Thin.otf) normal normal 100 normal>) = 10.335\n",
      "DEBUG: findfont: score(<Font 'DejaVu Serif' (DejaVuSerif-Bold.ttf) normal normal 700 normal>) = 10.335\n",
      "DEBUG: findfont: score(<Font 'URW Gothic' (URWGothic-Book.otf) normal normal 400 normal>) = 10.05\n",
      "DEBUG: findfont: score(<Font 'Ubuntu' (Ubuntu-L.ttf) normal normal 300 normal>) = 10.145\n",
      "DEBUG: findfont: score(<Font 'Standard Symbols PS' (StandardSymbolsPS.otf) normal normal 400 normal>) = 10.05\n",
      "DEBUG: findfont: score(<Font 'Nimbus Mono PS' (NimbusMonoPS-Italic.otf) italic normal 400 normal>) = 11.05\n",
      "DEBUG: findfont: score(<Font 'Kalapi' (Kalapi.ttf) normal normal 400 normal>) = 10.05\n",
      "DEBUG: findfont: score(<Font 'Liberation Serif' (LiberationSerif-BoldItalic.ttf) italic normal 700 normal>) = 11.335\n",
      "DEBUG: findfont: score(<Font 'Tlwg Typo' (TlwgTypo-Bold.ttf) normal normal 700 normal>) = 10.335\n",
      "DEBUG: findfont: score(<Font 'KacstOne' (KacstOne.ttf) normal normal 400 normal>) = 10.05\n",
      "DEBUG: findfont: score(<Font 'Verdana' (Verdana_Bold.ttf) normal normal 700 normal>) = 3.9713636363636367\n",
      "DEBUG: findfont: score(<Font 'Noto Mono' (NotoMono-Regular.ttf) normal normal 400 normal>) = 10.05\n",
      "DEBUG: findfont: score(<Font 'Courier New' (cour.ttf) normal normal 400 normal>) = 10.05\n",
      "DEBUG: findfont: score(<Font 'Georgia' (Georgia_Bold.ttf) normal normal 700 normal>) = 10.335\n",
      "DEBUG: findfont: score(<Font 'AnjaliOldLipi' (AnjaliOldLipi-Regular.ttf) normal normal 400 normal>) = 10.05\n",
      "DEBUG: findfont: score(<Font 'URW Bookman' (URWBookman-Light.otf) normal normal 300 normal>) = 10.145\n",
      "DEBUG: findfont: score(<Font 'Verdana' (Verdana_Italic.ttf) italic normal 400 normal>) = 4.6863636363636365\n",
      "DEBUG: findfont: score(<Font 'Georgia' (Georgia_Italic.ttf) italic normal 400 normal>) = 11.05\n",
      "DEBUG: findfont: score(<Font 'Ubuntu Mono' (UbuntuMono-B.ttf) normal normal 700 normal>) = 10.335\n",
      "DEBUG: findfont: score(<Font 'Tlwg Typewriter' (TlwgTypewriter.ttf) normal normal 400 normal>) = 10.05\n",
      "DEBUG: findfont: score(<Font 'Nimbus Roman' (NimbusRoman-Regular.otf) normal normal 400 normal>) = 10.05\n",
      "DEBUG: findfont: score(<Font 'Tlwg Typewriter' (TlwgTypewriter-BoldOblique.ttf) oblique normal 700 normal>) = 11.335\n",
      "DEBUG: findfont: score(<Font 'KacstPoster' (KacstPoster.ttf) normal normal 500 normal>) = 10.145\n",
      "DEBUG: findfont: score(<Font 'Kinnari' (Kinnari-Italic.ttf) italic normal 400 normal>) = 11.05\n",
      "DEBUG: findfont: score(<Font 'Samyak Gujarati' (Samyak-Gujarati.ttf) normal normal 500 normal>) = 10.145\n",
      "DEBUG: findfont: score(<Font 'C059' (C059-BdIta.otf) italic normal 700 normal>) = 11.335\n",
      "DEBUG: findfont: score(<Font 'Noto Sans CJK JP' (NotoSansCJK-Regular.ttc) normal normal 400 normal>) = 10.05\n",
      "DEBUG: findfont: score(<Font 'Sawasdee' (Sawasdee.ttf) normal normal 400 normal>) = 10.05\n",
      "DEBUG: findfont: score(<Font 'Loma' (Loma-Bold.ttf) normal normal 700 normal>) = 10.335\n",
      "DEBUG: findfont: score(<Font 'Sawasdee' (Sawasdee-Oblique.ttf) oblique normal 400 normal>) = 11.05\n",
      "DEBUG: findfont: score(<Font 'Sawasdee' (Sawasdee-BoldOblique.ttf) oblique normal 700 normal>) = 11.335\n",
      "DEBUG: findfont: score(<Font 'mry_KacstQurn' (mry_KacstQurn.ttf) normal normal 400 normal>) = 10.05\n",
      "DEBUG: findfont: score(<Font 'FreeMono' (FreeMonoBold.ttf) normal normal 700 normal>) = 10.335\n",
      "DEBUG: findfont: score(<Font 'URW Gothic' (URWGothic-DemiOblique.otf) oblique normal 600 normal>) = 11.24\n",
      "DEBUG: findfont: score(<Font 'Georgia' (Georgia_Bold_Italic.ttf) italic normal 700 normal>) = 11.335\n",
      "DEBUG: findfont: score(<Font 'C059' (C059-Bold.otf) normal normal 700 normal>) = 10.335\n",
      "DEBUG: findfont: score(<Font 'Nimbus Roman' (NimbusRoman-Bold.otf) normal normal 700 normal>) = 10.335\n",
      "DEBUG: findfont: score(<Font 'Trebuchet MS' (trebucbd.ttf) normal normal 700 normal>) = 10.335\n",
      "DEBUG: findfont: score(<Font 'Keraleeyam' (Keraleeyam-Regular.ttf) normal normal 400 normal>) = 10.05\n",
      "DEBUG: findfont: score(<Font 'Tlwg Typist' (TlwgTypist-Oblique.ttf) oblique normal 400 normal>) = 11.05\n",
      "DEBUG: findfont: score(<Font 'Arial Black' (ariblk.ttf) normal normal 400 normal>) = 10.05\n",
      "DEBUG: findfont: score(<Font 'Mitra Mono' (mitra.ttf) normal normal 400 normal>) = 10.05\n",
      "DEBUG: findfont: score(<Font 'Likhan' (LikhanNormal.ttf) normal normal 500 normal>) = 10.145\n",
      "DEBUG: findfont: score(<Font 'Laksaman' (Laksaman-Bold.ttf) normal normal 700 normal>) = 10.335\n",
      "DEBUG: findfont: score(<Font 'Khmer OS' (KhmerOS.ttf) normal normal 400 normal>) = 10.05\n",
      "DEBUG: findfont: score(<Font 'Umpush' (Umpush-Light.ttf) normal normal 300 normal>) = 10.145\n",
      "DEBUG: findfont: score(<Font 'Sahadeva' (sahadeva.ttf) normal normal 400 normal>) = 10.05\n",
      "DEBUG: findfont: score(<Font 'Noto Serif CJK JP' (NotoSerifCJK-Bold.ttc) normal normal 700 normal>) = 10.335\n",
      "DEBUG: findfont: score(<Font 'Arial' (Arial.ttf) normal normal 400 normal>) = 6.413636363636363\n",
      "DEBUG: findfont: score(<Font 'Garuda' (Garuda-BoldOblique.ttf) oblique normal 700 normal>) = 11.335\n",
      "DEBUG: findfont: score(<Font 'Lohit Malayalam' (Lohit-Malayalam.ttf) normal normal 400 normal>) = 10.05\n",
      "DEBUG: findfont: score(<Font 'Lohit Tamil' (Lohit-Tamil.ttf) normal normal 400 normal>) = 10.05\n",
      "DEBUG: findfont: score(<Font 'Arial' (Arial_Bold.ttf) normal normal 700 normal>) = 6.698636363636363\n",
      "DEBUG: findfont: score(<Font 'Lohit Tamil Classical' (Lohit-Tamil-Classical.ttf) normal normal 400 normal>) = 10.05\n",
      "DEBUG: findfont: score(<Font 'Liberation Serif' (LiberationSerif-Regular.ttf) normal normal 400 normal>) = 10.05\n",
      "DEBUG: findfont: score(<Font 'OpenSymbol' (opens___.ttf) normal normal 400 normal>) = 10.05\n",
      "DEBUG: findfont: score(<Font 'URW Bookman' (URWBookman-DemiItalic.otf) italic normal 600 normal>) = 11.24\n",
      "DEBUG: findfont: score(<Font 'Liberation Sans' (LiberationSans-Italic.ttf) italic normal 400 normal>) = 11.05\n",
      "DEBUG: findfont: score(<Font 'Chilanka' (Chilanka-Regular.otf) normal normal 400 normal>) = 10.05\n",
      "DEBUG: findfont: score(<Font 'Nimbus Sans' (NimbusSans-Regular.otf) normal normal 400 normal>) = 10.05\n",
      "DEBUG: findfont: score(<Font 'Gayathri' (Gayathri-Bold.otf) normal normal 700 normal>) = 10.335\n",
      "DEBUG: findfont: score(<Font 'DejaVu Serif' (DejaVuSerif.ttf) normal normal 400 normal>) = 10.05\n",
      "DEBUG: findfont: score(<Font 'Lohit Gujarati' (Lohit-Gujarati.ttf) normal normal 400 normal>) = 10.05\n",
      "DEBUG: findfont: score(<Font 'Courier New' (couri.ttf) italic normal 400 normal>) = 11.05\n"
     ]
    },
    {
     "name": "stderr",
     "output_type": "stream",
     "text": [
      "DEBUG: findfont: score(<Font 'Nimbus Sans' (NimbusSans-Bold.otf) normal normal 700 normal>) = 10.335\n",
      "DEBUG: findfont: score(<Font 'KacstArt' (KacstArt.ttf) normal normal 500 normal>) = 10.145\n",
      "DEBUG: findfont: score(<Font 'Samyak Tamil' (Samyak-Tamil.ttf) normal normal 500 normal>) = 10.145\n",
      "DEBUG: findfont: score(<Font 'P052' (P052-Roman.otf) normal normal 400 normal>) = 10.05\n",
      "DEBUG: findfont: score(<Font 'Pothana2000' (Pothana2000.ttf) normal normal 400 normal>) = 10.05\n",
      "DEBUG: findfont: score(<Font 'Tlwg Typewriter' (TlwgTypewriter-Oblique.ttf) oblique normal 400 normal>) = 11.05\n",
      "DEBUG: findfont: score(<Font 'Kalimati' (kalimati.ttf) normal normal 400 normal>) = 10.05\n",
      "DEBUG: findfont: score(<Font 'Samyak Devanagari' (Samyak-Devanagari.ttf) normal normal 500 normal>) = 10.145\n",
      "DEBUG: findfont: score(<Font 'Suruma' (Suruma.ttf) normal normal 500 normal>) = 10.145\n",
      "DEBUG: findfont: score(<Font 'Arial' (arialbi.ttf) italic normal 700 normal>) = 7.698636363636363\n",
      "DEBUG: findfont: score(<Font 'Comic Sans MS' (Comic_Sans_MS.ttf) normal normal 400 normal>) = 10.05\n",
      "DEBUG: findfont: score(<Font 'DejaVu Sans Mono' (DejaVuSansMono.ttf) normal normal 400 normal>) = 10.05\n",
      "DEBUG: findfont: score(<Font 'Courier New' (Courier_New.ttf) normal normal 400 normal>) = 10.05\n",
      "DEBUG: findfont: score(<Font 'Andale Mono' (Andale_Mono.ttf) normal normal 400 normal>) = 10.05\n",
      "DEBUG: findfont: score(<Font 'Times New Roman' (Times_New_Roman.ttf) normal normal 400 normal>) = 10.05\n",
      "DEBUG: findfont: score(<Font 'Andale Mono' (andalemo.ttf) normal normal 400 normal>) = 10.05\n",
      "DEBUG: findfont: score(<Font 'Liberation Sans' (LiberationSans-BoldItalic.ttf) italic normal 700 normal>) = 11.335\n",
      "DEBUG: findfont: score(<Font 'KacstPen' (KacstPen.ttf) normal normal 500 normal>) = 10.145\n",
      "DEBUG: findfont: score(<Font 'Trebuchet MS' (trebuc.ttf) normal normal 400 normal>) = 10.05\n",
      "DEBUG: findfont: score(<Font 'Umpush' (Umpush-BoldOblique.ttf) oblique normal 700 normal>) = 11.335\n",
      "DEBUG: findfont: score(<Font 'Webdings' (Webdings.ttf) normal normal 400 normal>) = 10.05\n",
      "DEBUG: findfont: score(<Font 'Nimbus Sans Narrow' (NimbusSansNarrow-Regular.otf) normal normal 400 condensed>) = 10.25\n",
      "DEBUG: findfont: score(<Font 'Liberation Sans Narrow' (LiberationSansNarrow-BoldItalic.ttf) italic normal 700 condensed>) = 11.535\n",
      "DEBUG: findfont: score(<Font 'Umpush' (Umpush-Oblique.ttf) oblique normal 400 normal>) = 11.05\n",
      "DEBUG: findfont: score(<Font 'Liberation Sans Narrow' (LiberationSansNarrow-Regular.ttf) normal normal 400 condensed>) = 10.25\n",
      "DEBUG: findfont: score(<Font 'Georgia' (georgiab.ttf) normal normal 700 normal>) = 10.335\n",
      "DEBUG: findfont: score(<Font 'Liberation Mono' (LiberationMono-Bold.ttf) normal normal 700 normal>) = 10.335\n",
      "DEBUG: findfont: score(<Font 'FreeSerif' (FreeSerifBoldItalic.ttf) italic normal 700 normal>) = 11.335\n",
      "DEBUG: findfont: score(<Font 'Webdings' (webdings.ttf) normal normal 400 normal>) = 10.05\n",
      "DEBUG: findfont: score(<Font 'Arial Black' (Arial_Black.ttf) normal normal 400 normal>) = 10.05\n",
      "DEBUG: findfont: score(<Font 'Liberation Sans Narrow' (LiberationSansNarrow-Bold.ttf) normal normal 700 condensed>) = 10.535\n",
      "DEBUG: findfont: score(<Font 'KacstTitle' (KacstTitle.ttf) normal normal 500 normal>) = 10.145\n",
      "DEBUG: findfont: score(<Font 'Nimbus Sans' (NimbusSans-BoldItalic.otf) italic normal 700 normal>) = 11.335\n",
      "DEBUG: findfont: score(<Font 'Tlwg Typewriter' (TlwgTypewriter-Bold.ttf) normal normal 700 normal>) = 10.335\n",
      "DEBUG: findfont: score(<Font 'Ubuntu' (Ubuntu-Th.ttf) normal normal 250 normal>) = 10.1925\n",
      "DEBUG: findfont: score(<Font 'aakar' (aakar-medium.ttf) normal normal 500 normal>) = 10.145\n",
      "DEBUG: findfont: score(<Font 'KacstDecorative' (KacstDecorative.ttf) normal normal 500 normal>) = 10.145\n",
      "DEBUG: findfont: score(<Font 'Meera' (Meera-Regular.ttf) normal normal 400 normal>) = 10.05\n",
      "DEBUG: findfont: score(<Font 'DejaVu Sans' (DejaVuSans.ttf) normal normal 400 normal>) = 0.05\n",
      "DEBUG: findfont: score(<Font 'Arial' (Arial_Italic.ttf) italic normal 400 normal>) = 7.413636363636363\n",
      "DEBUG: findfont: score(<Font 'FreeSerif' (FreeSerifBold.ttf) normal normal 700 normal>) = 10.335\n",
      "DEBUG: findfont: score(<Font 'Rasa' (Rasa-Light.ttf) normal normal 300 normal>) = 10.145\n",
      "DEBUG: findfont: score(<Font 'Trebuchet MS' (Trebuchet_MS_Italic.ttf) italic normal 400 normal>) = 11.05\n",
      "DEBUG: findfont: score(<Font 'P052' (P052-Bold.otf) normal normal 700 normal>) = 10.335\n",
      "DEBUG: findfont: score(<Font 'Purisa' (Purisa-Bold.ttf) normal normal 700 normal>) = 10.335\n",
      "DEBUG: findfont: score(<Font 'Purisa' (Purisa-BoldOblique.ttf) oblique normal 700 normal>) = 11.335\n",
      "DEBUG: findfont: score(<Font 'Lohit Bengali' (Lohit-Bengali.ttf) normal normal 400 normal>) = 10.05\n",
      "DEBUG: findfont: score(<Font 'Liberation Mono' (LiberationMono-BoldItalic.ttf) italic normal 700 normal>) = 11.335\n",
      "DEBUG: findfont: score(<Font 'Tlwg Typo' (TlwgTypo.ttf) normal normal 400 normal>) = 10.05\n",
      "DEBUG: findfont: score(<Font 'URW Bookman' (URWBookman-Demi.otf) normal normal 600 normal>) = 10.24\n",
      "DEBUG: findfont: score(<Font 'Courier New' (Courier_New_Bold.ttf) normal normal 700 normal>) = 10.335\n",
      "DEBUG: findfont: score(<Font 'Manjari' (Manjari-Bold.otf) normal normal 700 normal>) = 10.335\n",
      "DEBUG: findfont: score(<Font 'C059' (C059-Roman.otf) normal normal 400 normal>) = 10.05\n",
      "DEBUG: findfont: score(<Font 'KacstQurn' (KacstQurn.ttf) normal normal 400 normal>) = 10.05\n",
      "DEBUG: findfont: score(<Font 'padmaa-Bold.1.1' (padmaa-Bold.1.1.ttf) normal normal 700 normal>) = 10.335\n",
      "DEBUG: findfont: score(<Font 'Padauk' (Padauk-Bold.ttf) normal normal 700 normal>) = 10.335\n",
      "DEBUG: findfont: score(<Font 'Ubuntu Mono' (UbuntuMono-RI.ttf) italic normal 400 normal>) = 11.05\n",
      "DEBUG: findfont: score(<Font 'Ubuntu Condensed' (Ubuntu-C.ttf) normal normal 400 condensed>) = 10.25\n",
      "DEBUG: findfont: score(<Font 'Liberation Sans' (LiberationSans-Bold.ttf) normal normal 700 normal>) = 10.335\n",
      "DEBUG: findfont: score(<Font 'Verdana' (verdanai.ttf) italic normal 400 normal>) = 4.6863636363636365\n",
      "DEBUG: findfont: score(<Font 'FreeSans' (FreeSansOblique.ttf) oblique normal 400 normal>) = 11.05\n",
      "DEBUG: findfont: score(<Font 'Purisa' (Purisa.ttf) normal normal 400 normal>) = 10.05\n",
      "DEBUG: findfont: score(<Font 'Ubuntu Mono' (UbuntuMono-R.ttf) normal normal 400 normal>) = 10.05\n",
      "DEBUG: findfont: score(<Font 'Trebuchet MS' (trebucit.ttf) italic normal 400 normal>) = 11.05\n",
      "DEBUG: findfont: score(<Font 'Nakula' (nakula.ttf) normal normal 400 normal>) = 10.05\n",
      "DEBUG: findfont: score(<Font 'Ubuntu' (Ubuntu-R.ttf) normal normal 400 normal>) = 10.05\n",
      "DEBUG: findfont: score(<Font 'Trebuchet MS' (trebucbi.ttf) italic normal 700 normal>) = 11.335\n",
      "DEBUG: findfont: score(<Font 'Georgia' (georgiai.ttf) italic normal 400 normal>) = 11.05\n",
      "DEBUG: findfont: score(<Font 'padmaa' (padmaa.ttf) normal normal 500 normal>) = 10.145\n",
      "DEBUG: findfont: score(<Font 'Navilu' (Navilu.ttf) normal normal 400 normal>) = 10.05\n",
      "DEBUG: findfont: score(<Font 'URW Gothic' (URWGothic-BookOblique.otf) oblique normal 400 normal>) = 11.05\n",
      "DEBUG: findfont: score(<Font 'Georgia' (georgiaz.ttf) italic normal 700 normal>) = 11.335\n",
      "DEBUG: findfont: score(<Font 'FreeSans' (FreeSans.ttf) normal normal 400 normal>) = 10.05\n",
      "DEBUG: findfont: score(<Font 'KacstFarsi' (KacstFarsi.ttf) normal normal 500 normal>) = 10.145\n",
      "DEBUG: findfont: score(<Font 'Abyssinica SIL' (AbyssinicaSIL-Regular.ttf) normal normal 400 normal>) = 10.05\n",
      "DEBUG: findfont: score(<Font 'Comic Sans MS' (comic.ttf) normal normal 400 normal>) = 10.05\n",
      "DEBUG: findfont: score(<Font 'Liberation Serif' (LiberationSerif-BoldItalic.ttf) italic normal 700 normal>) = 11.335\n",
      "DEBUG: findfont: score(<Font 'Ani' (ani.ttf) normal normal 400 normal>) = 10.05\n",
      "DEBUG: findfont: score(<Font 'Liberation Sans Narrow' (LiberationSansNarrow-Italic.ttf) italic normal 400 condensed>) = 11.25\n",
      "DEBUG: findfont: score(<Font 'Umpush' (Umpush.ttf) normal normal 400 normal>) = 10.05\n",
      "DEBUG: findfont: score(<Font 'Liberation Sans' (LiberationSans-Regular.ttf) normal normal 400 normal>) = 10.05\n",
      "DEBUG: findfont: score(<Font 'Z003' (Z003-MediumItalic.otf) italic normal 500 normal>) = 11.145\n",
      "DEBUG: findfont: score(<Font 'Arial' (arialbd.ttf) normal normal 700 normal>) = 6.698636363636363\n",
      "DEBUG: findfont: score(<Font 'URW Gothic' (URWGothic-Demi.otf) normal normal 600 normal>) = 10.24\n"
     ]
    },
    {
     "name": "stderr",
     "output_type": "stream",
     "text": [
      "DEBUG: findfont: score(<Font 'Mukti Narrow' (MuktiNarrow.ttf) normal normal 400 normal>) = 10.05\n",
      "DEBUG: findfont: score(<Font 'FreeSerif' (FreeSerif.ttf) normal normal 400 normal>) = 10.05\n",
      "DEBUG: findfont: score(<Font 'Tlwg Mono' (TlwgMono.ttf) normal normal 400 normal>) = 10.05\n",
      "DEBUG: findfont: score(<Font 'Noto Serif CJK JP' (NotoSerifCJK-Regular.ttc) normal normal 400 normal>) = 10.05\n",
      "DEBUG: findfont: score(<Font 'Impact' (Impact.ttf) normal normal 400 normal>) = 10.05\n",
      "DEBUG: findfont: score(<Font 'RaghuMalayalamSans' (RaghuMalayalamSans-Regular.ttf) normal normal 400 normal>) = 10.05\n",
      "DEBUG: findfont: score(<Font 'Nimbus Sans Narrow' (NimbusSansNarrow-Bold.otf) normal normal 700 condensed>) = 10.535\n",
      "DEBUG: findfont: score(<Font 'Laksaman' (Laksaman-Italic.ttf) italic normal 400 normal>) = 11.05\n",
      "DEBUG: findfont: score(<Font 'P052' (P052-BoldItalic.otf) italic normal 700 normal>) = 11.335\n",
      "DEBUG: findfont: score(<Font 'Norasi' (Norasi-BoldOblique.ttf) oblique normal 700 normal>) = 11.335\n",
      "DEBUG: findfont: score(<Font 'Umpush' (Umpush-LightOblique.ttf) oblique normal 300 normal>) = 11.145\n",
      "DEBUG: findfont: score(<Font 'Norasi' (Norasi-BoldItalic.ttf) italic normal 700 normal>) = 11.335\n",
      "DEBUG: findfont: score(<Font 'Lohit Gurmukhi' (Lohit-Gurmukhi.ttf) normal normal 400 normal>) = 10.05\n",
      "DEBUG: findfont: score(<Font 'Liberation Sans' (LiberationSans-Regular.ttf) normal normal 400 normal>) = 10.05\n",
      "DEBUG: findfont: score(<Font 'Courier New' (Courier_New_Bold_Italic.ttf) italic normal 700 normal>) = 11.335\n",
      "DEBUG: findfont: score(<Font 'Umpush' (Umpush-Bold.ttf) normal normal 700 normal>) = 10.335\n",
      "DEBUG: findfont: score(<Font 'Rasa' (Rasa-Bold.ttf) normal normal 700 normal>) = 10.335\n",
      "DEBUG: findfont: score(<Font 'Lohit Assamese' (Lohit-Assamese.ttf) normal normal 400 normal>) = 10.05\n",
      "DEBUG: findfont: score(<Font 'Verdana' (verdana.ttf) normal normal 400 normal>) = 3.6863636363636365\n",
      "DEBUG: findfont: score(<Font 'Tlwg Typist' (TlwgTypist-BoldOblique.ttf) oblique normal 700 normal>) = 11.335\n",
      "DEBUG: findfont: score(<Font 'Kinnari' (Kinnari-BoldOblique.ttf) oblique normal 700 normal>) = 11.335\n",
      "DEBUG: findfont: score(<Font 'Garuda' (Garuda-Oblique.ttf) oblique normal 400 normal>) = 11.05\n",
      "DEBUG: findfont: score(<Font 'Trebuchet MS' (Trebuchet_MS_Bold.ttf) normal normal 700 normal>) = 10.335\n",
      "DEBUG: findfont: score(<Font 'Trebuchet MS' (Trebuchet_MS_Bold_Italic.ttf) italic normal 700 normal>) = 11.335\n",
      "DEBUG: findfont: Matching sans\\-serif:style=normal:variant=normal:weight=normal:stretch=normal:size=10.0 to DejaVu Sans ('/home/jbossios/.local/lib/python3.8/site-packages/matplotlib/mpl-data/fonts/ttf/DejaVuSans.ttf') with score of 0.050000.\n"
     ]
    },
    {
     "data": {
      "image/png": "[encoded data removed]",
      "text/plain": [
       "<Figure size 432x288 with 1 Axes>"
      ]
     },
     "metadata": {
      "needs_background": "light"
     },
     "output_type": "display_data"
    }
   ],
   "source": [
    "import matplotlib.pyplot as plt\n",
    "\n",
    "# Geneate 100000 random numbers b/w 0 and 10\n",
    "n_to_generate = 100000\n",
    "numbers = [randrange(10) for i in range(n_to_generate)]\n",
    "\n",
    "# Plot the distribution of the generated numbers\n",
    "plt.hist(numbers)\n",
    "plt.xlabel('Ranomly-generated number')\n",
    "plt.ylabel('Entries')\n",
    "plt.show()"
   ]
  },
  {
   "cell_type": "markdown",
   "id": "7cba862a",
   "metadata": {},
   "source": [
    "**Note:** For more options (labels/legends, axis range, etc) please check the matplotlib.pyplot documentation: https://matplotlib.org/stable/api/_as_gen/matplotlib.pyplot.html"
   ]
  },
  {
   "cell_type": "markdown",
   "id": "a7ece476",
   "metadata": {},
   "source": [
    "### How to make graphs?"
   ]
  },
  {
   "cell_type": "code",
   "execution_count": 20,
   "id": "2dd6a425",
   "metadata": {},
   "outputs": [
    {
     "data": {
      "image/png": "[encoded data removed]",
      "text/plain": [
       "<Figure size 432x288 with 1 Axes>"
      ]
     },
     "metadata": {
      "needs_background": "light"
     },
     "output_type": "display_data"
    }
   ],
   "source": [
    "# Let's generate (x,y) points\n",
    "x = [0, 1, 2, 3, 4, 5, 6]\n",
    "y = [item * 2 for item in x]\n",
    "\n",
    "# Let's plot y vs x\n",
    "plt.plot(x, y)\n",
    "plt.xlabel('x')\n",
    "plt.ylabel('y')\n",
    "plt.show()"
   ]
  },
  {
   "cell_type": "markdown",
   "id": "a639847a",
   "metadata": {},
   "source": [
    "Note: For more options (labels/legends, axis range, etc) please check the matplotlib.pyplot documentation: https://matplotlib.org/stable/api/_as_gen/matplotlib.pyplot.html"
   ]
  },
  {
   "cell_type": "markdown",
   "id": "5ed5d68e",
   "metadata": {},
   "source": [
    "## <div id='catch-errors'>10. How to catch errors?</div>\n",
    "\n",
    "Unexpected behaviour will eventually happen and might cause errors.\n",
    "\n",
    "In python, these situations are considered as exceptions, each raising different types of errors.\n",
    "\n",
    "But, Python provides a way to handle/catch exceptions.\n",
    "\n",
    "### Example 1\n",
    "\n",
    "Let's say I created a dictionary and then I try to get the value for a given key, but the key doesn't exists (or I don't know if exists). In that case, I can 'try' to get the value and if it 'fails' I show the appropriate error/exception."
   ]
  },
  {
   "cell_type": "markdown",
   "id": "6d260d6d",
   "metadata": {},
   "source": [
    "```\n",
    "my_dict = {'a': 1, 'b': 2, 'c':4}\n",
    "\n",
    "try:\n",
    "    print(f'{my_dict[\"d\"] = }')\n",
    "except KeyError:\n",
    "    raise KeyError(\"The key 'd' doesn't exists\")\n",
    "```"
   ]
  },
  {
   "cell_type": "markdown",
   "id": "879a347f",
   "metadata": {},
   "source": [
    "### Example 2\n",
    "\n",
    "Let's say I want to take the square root of a value (which only works for positive values), I can use ```try``` and raise an error when it receives a negative value."
   ]
  },
  {
   "cell_type": "markdown",
   "id": "de40c588",
   "metadata": {},
   "source": [
    "```\n",
    "from math import sqrt\n",
    "\n",
    "x = -1\n",
    "\n",
    "try:\n",
    "    sqrt(x)\n",
    "except ValueError:\n",
    "    raise ValueError(\"It's not possible to take the square root of a negative value\")\n",
    "```"
   ]
  },
  {
   "cell_type": "markdown",
   "id": "51bb8329",
   "metadata": {},
   "source": [
    "## <div id='open-file'>11. How to open a file?</div>\n",
    "\n",
    "Let's use the ```open()``` built-in function to open a text file:"
   ]
  },
  {
   "cell_type": "code",
   "execution_count": 21,
   "id": "ce718876",
   "metadata": {},
   "outputs": [
    {
     "name": "stdout",
     "output_type": "stream",
     "text": [
      "Content of the \"example_text_file.txt\" file:\n",
      "This is an example text file containing two lines.\n",
      "This is a second line of text.\n"
     ]
    }
   ],
   "source": [
    "# Open the file\n",
    "input_file = open('example_text_file.txt', 'r')\n",
    "\n",
    "# Print its content\n",
    "print('Content of the \"example_text_file.txt\" file:')\n",
    "for line in input_file: # loop over each file and print line's content\n",
    "    print(line.replace('\\n', '')) # remove newline from string\n",
    "\n",
    "# Close the file!\n",
    "input_file.close()"
   ]
  },
  {
   "cell_type": "markdown",
   "id": "772c8251",
   "metadata": {},
   "source": [
    "**Note*** that I had to close the file with the ```close()``` function!"
   ]
  },
  {
   "cell_type": "markdown",
   "id": "94bd6b5a",
   "metadata": {},
   "source": [
    "### How to open a file w/o having to remind myself to close it?\n",
    "\n",
    "Use ```with open()```. Let's repeat the above example:"
   ]
  },
  {
   "cell_type": "code",
   "execution_count": 22,
   "id": "8f2ddf0b",
   "metadata": {},
   "outputs": [
    {
     "name": "stdout",
     "output_type": "stream",
     "text": [
      "Content of the \"example_text_file.txt\" file:\n",
      "This is an example text file containing two lines.\n",
      "This is a second line of text.\n"
     ]
    }
   ],
   "source": [
    "# Open the file\n",
    "with open('example_text_file.txt', 'r') as input_file:\n",
    "\n",
    "    # Print its content\n",
    "    print('Content of the \"example_text_file.txt\" file:')\n",
    "    for line in input_file: # loop over each file and print line's content\n",
    "        print(line.replace('\\n', '')) # remove newline from string"
   ]
  },
  {
   "cell_type": "markdown",
   "id": "9d84b249",
   "metadata": {},
   "source": [
    "**Note:** Now ```input_file``` is closed when I leave the ```with``` block and I don't have to explicitely close it. This happens regardless of how we exit (or why?) the block of code within the ```with``` statement. Any class containing ```__enter__``` and ```__exit__``` methods would work with ```with``` (```__enter__``` is executed at the beginning, while ```__exit__``` is executed when exiting in any way the block of code within the ```with``` statement)."
   ]
  },
  {
   "cell_type": "markdown",
   "id": "7599eded",
   "metadata": {},
   "source": [
    "## <div id='write-file'>12. How to write a file?</div>\n",
    "\n",
    "Let's use the ```open()``` function again but this time to write a text file."
   ]
  },
  {
   "cell_type": "code",
   "execution_count": 23,
   "id": "f0412d6b",
   "metadata": {},
   "outputs": [
    {
     "name": "stdout",
     "output_type": "stream",
     "text": [
      "My custom text file\n"
     ]
    }
   ],
   "source": [
    "with open('output_file.txt', 'w') as output_file:\n",
    "    output_file.write('My custom text file')\n",
    "    \n",
    "# Let's now read it\n",
    "with open('output_file.txt', 'r') as input_file:\n",
    "    for line in input_file:\n",
    "        print(line)"
   ]
  },
  {
   "cell_type": "markdown",
   "id": "06d6d170",
   "metadata": {},
   "source": [
    "## Open a file and raise an appropriate error if file doesn't exists"
   ]
  },
  {
   "cell_type": "code",
   "execution_count": 24,
   "id": "de5bc1c1",
   "metadata": {},
   "outputs": [
    {
     "name": "stdout",
     "output_type": "stream",
     "text": [
      "The 'fake_file.txt' file doesn't exists (who could have guessed that?)\n"
     ]
    }
   ],
   "source": [
    "try:\n",
    "    with open('fake_file.txt', 'r') as fake_file:\n",
    "        for line in fake_file:\n",
    "            print(line)\n",
    "except OSError:\n",
    "    print(\"The 'fake_file.txt' file doesn't exists (who could have guessed that?)\")"
   ]
  },
  {
   "cell_type": "markdown",
   "id": "12fc00b2",
   "metadata": {},
   "source": [
    "## <div id='assert'>13. How to check a condition and raise an error message if not satisfied?</div>\n",
    "\n",
    "Use the ```assert``` statement, this is particularly helpful when debugging.\n",
    "\n",
    "```assert``` takes an expression and an optional message.\n",
    "\n",
    "<u>Syntax:</u>\n",
    "```\n",
    "assert CONDITION, MESSAGE\n",
    "```\n",
    "\n",
    "**Example:**\n",
    "```\n",
    "x = 10\n",
    "assert x < 10, 'x is not smaller than 10'\n",
    "```"
   ]
  },
  {
   "cell_type": "markdown",
   "id": "f58e103a",
   "metadata": {},
   "source": [
    "## <div id='performance'>14. Helpful modules to evaluate/improve performance</div>\n",
    "\n",
    "### <div id='cprofile'>14.A. Profiling and how to know where your code is slower with the ```cProfile``` module</div>\n",
    "\n",
    "Python profilers helps you find which part of your code takes more time to run.\n",
    "\n",
    "We will use the ```Profile()``` function from the ```cProfile``` module for extracting profiling data and use the ```pstats``` module to report it conveniently."
   ]
  },
  {
   "cell_type": "code",
   "execution_count": 25,
   "id": "86cc5deb",
   "metadata": {},
   "outputs": [
    {
     "name": "stdout",
     "output_type": "stream",
     "text": [
      "         4114967 function calls in 1.120 seconds\n",
      "\n",
      "   Ordered by: internal time\n",
      "\n",
      "   ncalls  tottime  percall  cumtime  percall filename:lineno(function)\n",
      "  1002293    0.460    0.000    0.460    0.000 {built-in method builtins.round}\n",
      "  1002293    0.284    0.000    1.057    0.000 /tmp/ipykernel_1396274/1082864362.py:11(gen_from_uniform)\n",
      "  1002293    0.254    0.000    0.312    0.000 /usr/lib/python3.8/random.py:415(uniform)\n",
      "  1002293    0.058    0.000    0.058    0.000 {method 'random' of '_random.Random' objects}\n",
      "        1    0.017    0.017    1.275    1.275 /tmp/ipykernel_1396274/1082864362.py:22(<listcomp>)\n",
      "    20000    0.014    0.000    0.014    0.000 {built-in method builtins.max}\n",
      "    20000    0.011    0.000    0.026    0.000 /usr/lib/python3.8/random.py:200(randrange)\n",
      "    20000    0.010    0.000    0.014    0.000 /usr/lib/python3.8/random.py:250(_randbelow_with_getrandbits)\n",
      "        2    0.004    0.002    0.004    0.002 /tmp/ipykernel_1396274/1082864362.py:9(<dictcomp>)\n",
      "    25785    0.002    0.000    0.002    0.000 {method 'getrandbits' of '_random.Random' objects}\n",
      "        1    0.002    0.002    0.015    0.015 /tmp/ipykernel_1396274/1082864362.py:29(<listcomp>)\n",
      "    20000    0.002    0.000    0.002    0.000 {method 'bit_length' of 'int' objects}\n",
      "        1    0.001    0.001    0.001    0.001 /tmp/ipykernel_1396274/1082864362.py:18(<listcomp>)\n",
      "        2    0.000    0.000    0.004    0.002 /tmp/ipykernel_1396274/1082864362.py:7(create_dict)\n",
      "        1    0.000    0.000    1.276    1.276 /tmp/ipykernel_1396274/1082864362.py:15(gen_data)\n",
      "        1    0.000    0.000    0.000    0.000 {method 'disable' of '_lsprof.Profiler' objects}\n",
      "        1    0.000    0.000    0.000    0.000 {method 'enable' of '_lsprof.Profiler' objects}\n",
      "\n",
      "\n"
     ]
    }
   ],
   "source": [
    "import cProfile\n",
    "import pstats\n",
    "from random import uniform\n",
    "from cProfile import Profile\n",
    "from __future__ import annotations # such that I can use tuple as type hint\n",
    "\n",
    "def create_dict(keys: List[int], values: List[List[float]]) -> dict:\n",
    "    \"\"\"Create a dict for a list of keys associate each list from values to each key (coherently)\"\"\"\n",
    "    return {key: value for key, value in zip(keys, values)}\n",
    "\n",
    "def gen_from_uniform(n: int) -> float:\n",
    "    \"\"\"Generate a float number from an uniform(0, n) distribution and return rounded number to 2 decimals\"\"\"\n",
    "    return round(uniform(0, n), 2)\n",
    "\n",
    "def gen_data(n: int) -> tuple(List[int], List[float]):\n",
    "    \"\"\"Generate a list of keys and a list of a list of numbers\"\"\"\n",
    "    # Create list of keys\n",
    "    keys = [i for i in range(n)]\n",
    "    # Create a list of floats for each key\n",
    "    # Each list will contain n elements, where n is randomly generated in the [1, 100] range\n",
    "    # Each item on each list is generated from an uniform[0, 10] distribution\n",
    "    values = [[gen_from_uniform(100) for i in range(randrange(1, 100))] for i in range(n)]\n",
    "    return keys, values\n",
    "\n",
    "with Profile() as p:\n",
    "    p.enable()\n",
    "    keys, values = gen_data(20000)\n",
    "    my_dict_all_values = create_dict(keys, values)\n",
    "    my_dict_max_value = create_dict(keys, [max(item) for item in values])\n",
    "    p.disable()\n",
    "    stats = pstats.Stats(p).sort_stats('tottime')\n",
    "    stats.print_stats() "
   ]
  },
  {
   "cell_type": "markdown",
   "id": "afa904dd",
   "metadata": {},
   "source": [
    "Let's take a look at the above printout:\n",
    "\n",
    "* ```ncalls```: as the name suggests, it's the number of times an operation is call. For example, the function ```gen_from_uniform()``` was called 994163 times.\n",
    "\n",
    "* ```tottime```: is the total time spent on a function alone.\n",
    "\n",
    "* ```cumtime```: is the total time spent on a function plus all other functions that were calle by given function.\n",
    "\n",
    "* ```percall```: is the time (```tottime``` or ```cumtime```) spent by call.\n",
    "\n",
    "* ```filename:lineno(function)```: as the name suggest, it shows the filename, line number and function name."
   ]
  },
  {
   "cell_type": "markdown",
   "id": "a0d7ccd6",
   "metadata": {},
   "source": [
    "**Note:**\n",
    "\n",
    "* ```ramdom.uniform(a, b)``` generates a float number between ```a``` and ```b``` if ```a < b``` and between ```b``` and ```a``` if ```a > b```.\n",
    "\n",
    "* ```__future__``` is a built-in module that is used to import new features that are available in newer Python versions.\n",
    "\n",
    "* You could also sort by cumulative time by passing ```'cumtime'``` to ```sort_stats()```."
   ]
  },
  {
   "cell_type": "markdown",
   "id": "72886fee",
   "metadata": {},
   "source": [
    "### <div id='tracemalloc'>14.B. Track memory usage with the ```tracemalloc``` module</div>\n",
    "\n",
    "Usually, it's not all about how fast a program can run, but also one has to be efficient in terms on memory management. You could have a lot of memory, you could even desperately do memory swapping but the total available memory will always be finite and you might ran out of it. \n",
    "\n",
    "In that case, you would have to understand why you are using so much memory. For that, you can use the ```tracemalloc``` module, which lets you trace allocated memory blocks. It provides the following information:\n",
    "\n",
    "* Traceback where an object was allocated\n",
    "\n",
    "* Statistics on allocated memory blocks per filename and per line number: total size, number and average size of allocated memory blocks\n",
    "\n",
    "* Compute the differences between two snapshots to detect memory leaks\n",
    "\n",
    "**Example 1:**\n",
    "\n",
    "Let's create a big list, take a snapshot of memory allocation with ```tracemalloc.take_snapshot()``` and print the result for the top number 1. This will give you the line number and memory size. Let's use also ```traceback.format()``` to print the object that was created."
   ]
  },
  {
   "cell_type": "code",
   "execution_count": 26,
   "id": "fe62d8d0",
   "metadata": {},
   "outputs": [
    {
     "name": "stdout",
     "output_type": "stream",
     "text": [
      "/tmp/ipykernel_1396274/2869854192.py:5: size=35.0 MiB, count=999744, average=37 B\n",
      "['  File \"/tmp/ipykernel_1396274/2869854192.py\", line 5', '    big_list = [i for i in range(1000000)]']\n"
     ]
    }
   ],
   "source": [
    "import tracemalloc\n",
    "tracemalloc.start()\n",
    "\n",
    "# Create a big list\n",
    "big_list = [i for i in range(1000000)]\n",
    "\n",
    "# Take snapshot\n",
    "snapshot = tracemalloc.take_snapshot()\n",
    "\n",
    "# Print top 1\n",
    "stats = snapshot.statistics(\"lineno\")\n",
    "for stat in stats[:1]:\n",
    "    print(stat)\n",
    "    print(stat.traceback.format())"
   ]
  },
  {
   "cell_type": "markdown",
   "id": "754255d4",
   "metadata": {},
   "source": [
    "As you can see, the output says I added an object (```big_list```) of size 35 MB on line 5.\n",
    "\n",
    "**Example 2:**\n",
    "\n",
    "Let's create another list, take another spanshot and compare snapshots."
   ]
  },
  {
   "cell_type": "code",
   "execution_count": 27,
   "id": "343970d6",
   "metadata": {},
   "outputs": [
    {
     "name": "stdout",
     "output_type": "stream",
     "text": [
      "/tmp/ipykernel_1396274/360274792.py:5: size=32.6 KiB (+32.6 KiB), count=872 (+872), average=38 B\n",
      "/usr/lib/python3.8/tokenize.py:528: size=5264 B (+5264 B), count=94 (+94), average=56 B\n",
      "/home/jbossios/.local/lib/python3.8/site-packages/IPython/core/compilerop.py:101: size=4771 B (+4771 B), count=87 (+87), average=55 B\n",
      "/home/jbossios/.local/lib/python3.8/site-packages/jupyter_client/session.py:97: size=1990 B (+1990 B), count=12 (+12), average=166 B\n",
      "/usr/lib/python3.8/codeop.py:143: size=2333 B (+1720 B), count=29 (+21), average=80 B\n",
      "/usr/lib/python3.8/json/decoder.py:353: size=1553 B (+1553 B), count=18 (+18), average=86 B\n",
      "/usr/lib/python3.8/tracemalloc.py:479: size=1048 B (+1048 B), count=12 (+12), average=87 B\n",
      "/home/jbossios/.local/lib/python3.8/site-packages/traitlets/traitlets.py:621: size=1056 B (+909 B), count=15 (+13), average=70 B\n",
      "/usr/lib/python3.8/tracemalloc.py:472: size=864 B (+864 B), count=12 (+12), average=72 B\n",
      "/usr/lib/python3.8/tracemalloc.py:229: size=816 B (+816 B), count=2 (+2), average=408 B\n"
     ]
    }
   ],
   "source": [
    "import tracemalloc\n",
    "tracemalloc.start()\n",
    "\n",
    "# Create another list\n",
    "another_list = [i*2 for i in range(1000)]\n",
    "\n",
    "snapshot_2 = tracemalloc.take_snapshot()\n",
    "\n",
    "# Show top 10\n",
    "for diff in snapshot_2.compare_to(snapshot,\"lineno\")[:10]:\n",
    "    print(diff)"
   ]
  },
  {
   "cell_type": "markdown",
   "id": "32a6404b",
   "metadata": {},
   "source": [
    "Now, you can see at the top, that I created another object at line 5 of size 32.6 KB, representing an addition of 32.6 KB (shown as ```(+32.6 KiB)```)."
   ]
  },
  {
   "cell_type": "markdown",
   "id": "4a3ab153",
   "metadata": {},
   "source": [
    "### <div id='parallel'>14.C. Parallel processing in Python: the ```Pool``` class</div>\n",
    "\n",
    "When things run in parallel, they are executed simultaneously in multiple processors and it is meant to reduce the overall processing time.\n",
    "\n",
    "There are two types of execution: *synchronous* and *asynchronous*. In a synchronous execution, the processes are completed in the same order in which they were started. This is achieved by *locking* the main program until the respective processes are finished.\n",
    "\n",
    "#### Parallelizing using ```Pool.map()```\n",
    "\n",
    "The Pool class represents a pool of worker processes. It has methods which allows tasks to be offloaded to the worker processes in a few different ways. But here, we will start with the simplest example. Let's say we have a list of numbers and we want to apply a function to each item on the list. We could do a loop and apply the function to each item, one by one (i.e. sequentially, we could even use list comprehension), or we could use ```Pool.map()``` to execute, let's say, in bunches of 4 that will run in parallel. Let's see how that it would look like:"
   ]
  },
  {
   "cell_type": "code",
   "execution_count": 28,
   "id": "a74f11fe",
   "metadata": {},
   "outputs": [
    {
     "name": "stdout",
     "output_type": "stream",
     "text": [
      "Spent time = 0.25286048790439963 s\n"
     ]
    }
   ],
   "source": [
    "from multiprocessing import Pool\n",
    "\n",
    "def my_function(x: int) -> int:\n",
    "    return x*x + x - 1\n",
    "\n",
    "start = time.perf_counter()\n",
    "with Pool(4) as p:\n",
    "    result = p.map(my_function, [i for i in range(200000)])\n",
    "end = time.perf_counter()\n",
    "print(f'Spent time = {end-start} s')"
   ]
  },
  {
   "cell_type": "markdown",
   "id": "db65b26d",
   "metadata": {},
   "source": [
    "This is faster than using list comprehension (but only because the list is huge, otherwise list comprehension would actually be faster):"
   ]
  },
  {
   "cell_type": "code",
   "execution_count": 29,
   "id": "0c71e288",
   "metadata": {},
   "outputs": [
    {
     "name": "stdout",
     "output_type": "stream",
     "text": [
      "Spent time = 1.7113417270593345 s\n"
     ]
    }
   ],
   "source": [
    "start = time.perf_counter()\n",
    "result = [x*x + x - 1 for x in [i for i in range(2000000)]]\n",
    "end = time.perf_counter()\n",
    "print(f'Spent time = {end-start} s')"
   ]
  },
  {
   "cell_type": "markdown",
   "id": "61449169",
   "metadata": {},
   "source": [
    "**Note:** There is a limit to how many processes you can run simultaneously, and that is the number of processors in your computer.\n",
    "\n",
    "**How to know how many processors has your machine?**\n",
    "\n",
    "```\n",
    "import multiprocessing as mp\n",
    "print(f'Number of processors = {mp.cpu_count()}')\n",
    "```"
   ]
  },
  {
   "cell_type": "markdown",
   "id": "eaf21183",
   "metadata": {},
   "source": [
    "#### What about if I want to use a function with two arguments but set the second one to always the same value?\n",
    "\n",
    "Let's say now ```my_function()``` has two arguments, but I want one of them to be always the same.\n",
    "\n",
    "In that case, we can use ```partial()``` from ```functools```:"
   ]
  },
  {
   "cell_type": "code",
   "execution_count": 30,
   "id": "82cd4500",
   "metadata": {},
   "outputs": [
    {
     "name": "stdout",
     "output_type": "stream",
     "text": [
      "result = [0, 4, 10, 18, 28, 40, 54, 70, 88, 108, 130, 154, 180, 208, 238, 270]\n"
     ]
    }
   ],
   "source": [
    "from functools import partial\n",
    "\n",
    "def my_function(x: int, a: int) -> int:\n",
    "    return x*x + x - a\n",
    "\n",
    "with Pool(4) as p:\n",
    "    my_function_a = partial(my_function, a = 2)\n",
    "    result = p.map(my_function_a, [1, 2, 3, 4, 5, 6, 7, 8, 9, 10, 11, 12, 13, 14, 15, 16])\n",
    "\n",
    "print(f'{result = }')"
   ]
  },
  {
   "cell_type": "markdown",
   "id": "99642833",
   "metadata": {},
   "source": [
    "**Note:** arguments that are different b/w each process should go first in ```my_function```! That means I can not switch the order of ```x``` and ```a``` in the definition of ```my_function```."
   ]
  },
  {
   "cell_type": "markdown",
   "id": "181c3f57",
   "metadata": {},
   "source": [
    "# <div id='exercises' align='center'>15. Exercises</div>"
   ]
  },
  {
   "cell_type": "markdown",
   "id": "d12b22bf",
   "metadata": {},
   "source": [
    "## Exercise 1\n",
    "\n",
    "Print the difference between a randomly generated number (generated in the 0-100 range) and 13, if the number is larger than 10 return 1, return 0 otherwise"
   ]
  },
  {
   "cell_type": "markdown",
   "id": "e065092a",
   "metadata": {},
   "source": [
    "**Answer:**"
   ]
  },
  {
   "cell_type": "code",
   "execution_count": 31,
   "id": "cd40d9fe",
   "metadata": {},
   "outputs": [
    {
     "name": "stdout",
     "output_type": "stream",
     "text": [
      "The result of the check for 52 gives 1\n"
     ]
    }
   ],
   "source": [
    "def check_number(x: int) -> int:\n",
    "    if x - 13 > 10:\n",
    "        return 1\n",
    "    else:\n",
    "        return 0\n",
    "\n",
    "from random import randrange\n",
    "\n",
    "random_number = randrange(100)\n",
    "\n",
    "print(f'The result of the check for {random_number} gives {check_number(random_number)}')"
   ]
  },
  {
   "cell_type": "markdown",
   "id": "6c0f177c",
   "metadata": {},
   "source": [
    "## Exercise 2\n",
    "\n",
    "Evaluate and plot the function f(x: int) = x^2 for x values in [0, 1, 2, 3, 4, 5, 6, 7, 8, 9, 10]\n",
    "\n",
    "**Answer:**"
   ]
  },
  {
   "cell_type": "code",
   "execution_count": 32,
   "id": "0b75893c",
   "metadata": {},
   "outputs": [
    {
     "data": {
      "image/png": "[encoded data removed]",
      "text/plain": [
       "<Figure size 432x288 with 1 Axes>"
      ]
     },
     "metadata": {
      "needs_background": "light"
     },
     "output_type": "display_data"
    }
   ],
   "source": [
    "def f(x: int) -> int:\n",
    "    \"\"\"f(x) = x^2\"\"\"\n",
    "    return x**2\n",
    "\n",
    "# Generate x and y values\n",
    "x = [i for i in range(11)]\n",
    "y = [f(item) for item in x]\n",
    "\n",
    "# Plot f(x) vs x\n",
    "plt.plot(x, y)\n",
    "plt.xlabel('x')\n",
    "plt.ylabel('f(x)=x^2')\n",
    "plt.show()"
   ]
  },
  {
   "cell_type": "markdown",
   "id": "b1ab7335",
   "metadata": {},
   "source": [
    "## Exercise 3\n",
    "\n",
    "Generate 100000 numbers from a Gaussian distribution (instructions below) with mu=100 and sigma=10, plot numbers as a histogram and print how much time it took to do everything.\n",
    "\n",
    "**How to generate numbers from a Gaussian distribution?**\n",
    "\n",
    "```\n",
    "from random import gauss\n",
    "random_number = gauss(mu, sigma)\n",
    "```\n",
    "\n",
    "**Answer:**"
   ]
  },
  {
   "cell_type": "code",
   "execution_count": 33,
   "id": "f2238454",
   "metadata": {},
   "outputs": [
    {
     "data": {
      "image/png": "[encoded data removed]",
      "text/plain": [
       "<Figure size 432x288 with 1 Axes>"
      ]
     },
     "metadata": {
      "needs_background": "light"
     },
     "output_type": "display_data"
    },
    {
     "name": "stdout",
     "output_type": "stream",
     "text": [
      "Time spent = 1.101108375005424 s\n"
     ]
    }
   ],
   "source": [
    "from random import gauss\n",
    "\n",
    "start = time.perf_counter()\n",
    "\n",
    "random_numbers = [gauss(100, 10) for i in range(100000)]\n",
    "\n",
    "plt.hist(random_numbers)\n",
    "plt.show()\n",
    "\n",
    "end = time.perf_counter()\n",
    "print(f'Time spent = {end-start} s')"
   ]
  }
 ],
 "metadata": {
  "kernelspec": {
   "display_name": "Python 3 (ipykernel)",
   "language": "python",
   "name": "python3"
  },
  "language_info": {
   "codemirror_mode": {
    "name": "ipython",
    "version": 3
   },
   "file_extension": ".py",
   "mimetype": "text/x-python",
   "name": "python",
   "nbconvert_exporter": "python",
   "pygments_lexer": "ipython3",
   "version": "3.8.10"
  }
 },
 "nbformat": 4,
 "nbformat_minor": 5
}
