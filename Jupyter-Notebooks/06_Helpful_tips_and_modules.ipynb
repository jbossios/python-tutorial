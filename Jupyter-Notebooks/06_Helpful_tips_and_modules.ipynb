{
 "cells": [
  {
   "attachments": {},
   "cell_type": "markdown",
   "id": "fa4d9650",
   "metadata": {},
   "source": [
    "# <div align='center'>Introduction to Python for data analysis: Helpful tips and modules</div>\n",
    "\n",
    "\n",
    "# Contents\n",
    "\n",
    "1. <a href=\"#logging\">Logging</a>\n",
    "2. <a href='#pretty-printing'>Pretty-printing</a>\n",
    "3. <a href='#os-sys'>The os and sys modules</a>\n",
    "4. <a href='#typing'>The typing module</a>\n",
    "5. <a href='#datetime'>The datetime module</a>\n",
    "6. <a href='#defaultdict'>Defaultdict from the collections module</a>\n",
    "7. <a href='#time'>The time module and how to know how much time a process takes</a>\n",
    "8. <a href='#random'>The random module and how to pseudo-random generation</a>\n",
    "9. <a href='#catch-errors'>How to catch errors?</a>\n",
    "10. <a href='#write-file'>How to write a file?</a>\n",
    "11. <a href='#open-file'>How to open a file?</a>\n",
    "12. <a href='#assert'>The assert statement</a>\n",
    "13. <a href='#performance'>Helpful modules to evaluate/improve performance</a>\n",
    "    1. <a href='#cprofile'>Profiling and how to know where your code is slower with the cProfile module</a>\n",
    "    2. <a href='#tracemalloc'>Track memory usage with the tracemalloc module</a>\n",
    "14. <a href='#exercises'>Exercises</a>\n",
    "    1. <a href='#solutions'>Solutions</a>"
   ]
  },
  {
   "attachments": {},
   "cell_type": "markdown",
   "id": "fd08343d",
   "metadata": {},
   "source": [
    "## <div id='logging'>1. Logging</div>\n",
    "\n",
    "```logging``` is a must-use module to improve how you are printing messages. Typically, one needs to diferentiate different kind of messages, those for debugging, those that are meant to be as warnings, those that are errors, and those that are only meant to inform about something. We can do all that easily, while controlling the level of messages we want to show, with the ```logging``` module.\n",
    "\n",
    "**Example:**"
   ]
  },
  {
   "cell_type": "code",
   "execution_count": 166,
   "id": "38c2cc44",
   "metadata": {},
   "outputs": [
    {
     "name": "stderr",
     "output_type": "stream",
     "text": [
      "INFO: This is an example of a message meant to inform about something\n"
     ]
    }
   ],
   "source": [
    "import logging\n",
    "\n",
    "logging.basicConfig(level = 'INFO', format = '%(levelname)s: %(message)s')\n",
    "log = logging.getLogger()\n",
    "\n",
    "log.info('This is an example of a message meant to inform about something')\n"
   ]
  },
  {
   "attachments": {},
   "cell_type": "markdown",
   "id": "e72dff4f",
   "metadata": {},
   "source": [
    "**Most-used levels are:**\n",
    "\n",
    "| Level | Numeric value   |\n",
    "|---|---|\n",
    "| CRITICAL | 50 |\n",
    "| ERROR    | 40 |\n",
    "| WARNING  | 30 |\n",
    "| INFO     | 20 |\n",
    "| DEBUG    | 10 |\n",
    "\n",
    "Let's see with an example which messages are shown by each level:"
   ]
  },
  {
   "cell_type": "code",
   "execution_count": 167,
   "id": "aa62226b",
   "metadata": {},
   "outputs": [
    {
     "name": "stderr",
     "output_type": "stream",
     "text": [
      "CRITICAL: Messages for level = 50:\n",
      "CRITICAL: Messages for level = 40:\n",
      "ERROR: This is an example of an info message\n",
      "CRITICAL: Messages for level = 30:\n",
      "ERROR: This is an example of an info message\n",
      "WARNING: This is an example of an warning message\n",
      "CRITICAL: Messages for level = 20:\n",
      "ERROR: This is an example of an info message\n",
      "WARNING: This is an example of an warning message\n",
      "INFO: This is an example of an info message\n",
      "CRITICAL: Messages for level = 10:\n",
      "ERROR: This is an example of an info message\n",
      "DEBUG: This is an example of a debug message that is shown only if the level is DEBUG\n",
      "WARNING: This is an example of an warning message\n",
      "INFO: This is an example of an info message\n"
     ]
    }
   ],
   "source": [
    "levels = [logging.CRITICAL, logging.ERROR, logging.WARNING, logging.INFO, logging.DEBUG]\n",
    "\n",
    "for level in levels:\n",
    "    log.setLevel(level)\n",
    "    log.critical(f'Messages for level = {level}:')\n",
    "    log.error('This is an example of an info message')\n",
    "    log.debug('This is an example of a debug message that is shown only if the level is DEBUG')\n",
    "    log.warning('This is an example of an warning message')\n",
    "    log.info('This is an example of an info message')\n",
    "\n",
    "log.setLevel(logging.INFO) # do not print DEBUG messages"
   ]
  },
  {
   "attachments": {},
   "cell_type": "markdown",
   "id": "c7ce028c",
   "metadata": {},
   "source": [
    "As you can see, only messages with a value higher or equal to the level set are shown."
   ]
  },
  {
   "attachments": {},
   "cell_type": "markdown",
   "id": "58d7f15b",
   "metadata": {},
   "source": [
    "## <div id='pretty-printing'>2. Pretty-printing</div>\n",
    "\n",
    "\n",
    "The ```pprint()``` function from the ```pprint``` module helps to print more nicely complex data structures, making the output better formatted and much more readable.\n",
    "\n",
    "<u>Example with standard ```print()```:</u>"
   ]
  },
  {
   "cell_type": "code",
   "execution_count": 168,
   "id": "4d307785",
   "metadata": {},
   "outputs": [
    {
     "name": "stdout",
     "output_type": "stream",
     "text": [
      "{0: {'Name': 'Matthias', 'Age': 23, 'Country': 'US'}, 1: {'Name': 'John', 'Age': 45, 'Country': 'US'}, 2: {'Name': 'Lukas', 'Age': 33, 'Country': 'Germany'}, 3: {'Name': 'George', 'Age': 54, 'Country': 'US'}, 4: {'Name': 'Jonathan', 'Age': 32, 'Country': 'Argentina'}, 5: {'Name': 'David', 'Age': 38, 'Country': 'Spain'}}\n"
     ]
    }
   ],
   "source": [
    "Names     = ['Matthias', 'John', 'Lukas', 'George', 'Jonathan', 'David']\n",
    "Ages      = [23, 45, 33, 54, 32, 38]\n",
    "Countries = ['US', 'US', 'Germany', 'US', 'Argentina', 'Spain']\n",
    "\n",
    "Users     = {ID : {'Name': name, 'Age': Ages[ID], 'Country': Countries[ID]} for ID, name in enumerate(Names)}\n",
    "print(Users)"
   ]
  },
  {
   "attachments": {},
   "cell_type": "markdown",
   "id": "06e53507",
   "metadata": {},
   "source": [
    "<u>Example with ```pprint()```:</u>"
   ]
  },
  {
   "cell_type": "code",
   "execution_count": 169,
   "id": "02101d9b",
   "metadata": {},
   "outputs": [
    {
     "name": "stdout",
     "output_type": "stream",
     "text": [
      "{0: {'Name': 'Matthias', 'Age': 23, 'Country': 'US'},\n",
      " 1: {'Name': 'John', 'Age': 45, 'Country': 'US'},\n",
      " 2: {'Name': 'Lukas', 'Age': 33, 'Country': 'Germany'},\n",
      " 3: {'Name': 'George', 'Age': 54, 'Country': 'US'},\n",
      " 4: {'Name': 'Jonathan', 'Age': 32, 'Country': 'Argentina'},\n",
      " 5: {'Name': 'David', 'Age': 38, 'Country': 'Spain'}}\n"
     ]
    }
   ],
   "source": [
    "from pprint import pprint\n",
    "pprint(Users, sort_dicts = False)"
   ]
  },
  {
   "attachments": {},
   "cell_type": "markdown",
   "id": "a428944d",
   "metadata": {},
   "source": [
    "## <div id='os-sys'>3. The ```os``` and ```sys``` modules</div>"
   ]
  },
  {
   "attachments": {},
   "cell_type": "markdown",
   "id": "8c1dbc5f",
   "metadata": {},
   "source": [
    "### Some helpful functions from the ```sys``` module"
   ]
  },
  {
   "attachments": {},
   "cell_type": "markdown",
   "id": "eea8568e",
   "metadata": {},
   "source": [
    "The ```sys``` module provides various functions and variables that are used to manipulate different parts of the Python runtime environment and is part of the Python's standard library.\n",
    "\n",
    "First, let's import the ```sys``` module\n",
    "\n",
    "```\n",
    "import sys\n",
    "```\n",
    "\n",
    "<u>Some useful functions:</u>\n",
    "\n",
    "* Use ```sys.exit([arg])``` to exit the program. The optional argument ```arg`` can be of any type, if it is an integer, zero is considered successful termination, any non-zero value is considered abnormal termination.\n",
    "\n",
    "* Use ```sys.getsizeof(object)``` to get the size of ```object``` in bytes. The object can be of any type.\n",
    "\n",
    "For more information about the above functions or other functions from the ```sys``` module, please look at https://docs.python.org/3/library/sys.html"
   ]
  },
  {
   "attachments": {},
   "cell_type": "markdown",
   "id": "2d859653",
   "metadata": {},
   "source": [
    "### Some helpful functions from the ```os``` module\n",
    "\n",
    "The ```os``` module in Python provides functions for interacting with the operating system and is part of the Python's standard library.\n",
    "\n",
    "First, let's import the ```os``` module\n",
    "\n",
    "```\n",
    "import os\n",
    "```\n",
    "\n",
    "<u>Some useful functions:</u>\n",
    "\n",
    "* Use ```os.listdir()``` to list directories/files on a directory.\n",
    "\n",
    "* Use ```os.path.exists()``` to check if a given path/directory exists\n",
    "\n",
    "* Use ```os.makedirs()``` to create directories. If one wants to create ```'path/folder'``` and path doesn't exists, ```makedirs()``` will create both (path and folder within)\n",
    "\n",
    "* Use ```os.system``` to execute a command (a string) in a subshell\n",
    "\n",
    "For more information about the above functions or other functions from the ```os``` module, please look at\n",
    "https://docs.python.org/3/library/os.html"
   ]
  },
  {
   "attachments": {},
   "cell_type": "markdown",
   "id": "13ed4aed",
   "metadata": {},
   "source": [
    "## <div id='typing'>4. The ```typing``` module</div>\n",
    "\n",
    "### ```Optional``` and ```NoReturn``` for type hints\n",
    "\n",
    "```Optional[str]``` signals that a variable can be ```None``` or of type ```str``` (```str``` can be replaced by any other type)."
   ]
  },
  {
   "cell_type": "code",
   "execution_count": 170,
   "id": "b456f98a",
   "metadata": {},
   "outputs": [
    {
     "name": "stdout",
     "output_type": "stream",
     "text": [
      "Example message\n"
     ]
    }
   ],
   "source": [
    "from typing import Optional, NoReturn\n",
    "\n",
    "def print_message(var: Optional[str]) -> NoReturn:\n",
    "    if var:\n",
    "        print(var)\n",
    "            \n",
    "string_1 = None\n",
    "print_message(string_1)\n",
    "\n",
    "string_2 = ''\n",
    "print_message(string_2)\n",
    "\n",
    "string_3 = 'Example message'\n",
    "print_message(string_3)"
   ]
  },
  {
   "attachments": {},
   "cell_type": "markdown",
   "id": "2d775034",
   "metadata": {},
   "source": [
    "### Type aliases\n",
    "\n",
    "It is possible to make a new type which is an alias of another type, this could be used to simplify the syntax and help the reader.\n",
    "\n",
    "**Example:**"
   ]
  },
  {
   "cell_type": "code",
   "execution_count": 171,
   "id": "72ed5874",
   "metadata": {},
   "outputs": [
    {
     "name": "stdout",
     "output_type": "stream",
     "text": [
      "10\n"
     ]
    }
   ],
   "source": [
    "Vector = list[int]\n",
    "def my_function(vec: Vector) -> int:\n",
    "    return sum(vec)\n",
    "\n",
    "# Return sum of [1, 2, 3, 4]\n",
    "print(my_function([1, 2, 3, 4]))"
   ]
  },
  {
   "attachments": {},
   "cell_type": "markdown",
   "id": "2661d866",
   "metadata": {},
   "source": [
    "**Note 2:** For Python versions before 3.9, you need to do the following instead:\n",
    "\n",
    "```\n",
    "from typing import List\n",
    "Vector = List[int]\n",
    "```"
   ]
  },
  {
   "attachments": {},
   "cell_type": "markdown",
   "id": "3fd8a61a",
   "metadata": {},
   "source": [
    "### ```Union``` for type hints\n",
    "\n",
    "```Union[type_1,type_2]``` can be used to signal that a variable can be of type ```type_1``` or of the type ```type_2```.\n",
    "\n",
    "**Note:** Since Python 3.10, one can achieve the same with ```type_1 | type_2```"
   ]
  },
  {
   "cell_type": "code",
   "execution_count": 172,
   "id": "955699e9",
   "metadata": {},
   "outputs": [
    {
     "name": "stdout",
     "output_type": "stream",
     "text": [
      "4.0\n",
      "3\n"
     ]
    }
   ],
   "source": [
    "from typing import Union\n",
    "\n",
    "Vector = list[Union[int, float]]\n",
    "def sum_numbers(vec: Vector) -> Union[int, float]:\n",
    "    return sum(vec)\n",
    "\n",
    "print(sum_numbers([1.3, 2.7]))\n",
    "print(sum_numbers([1, 2]))"
   ]
  },
  {
   "attachments": {},
   "cell_type": "markdown",
   "id": "a0d6840a",
   "metadata": {},
   "source": [
    "### ```NewType``` for type hints\n",
    "\n",
    "```NewType``` can be used to create a new type.\n",
    "\n",
    "**Example:**"
   ]
  },
  {
   "cell_type": "code",
   "execution_count": 173,
   "id": "937d4c99",
   "metadata": {},
   "outputs": [
    {
     "name": "stdout",
     "output_type": "stream",
     "text": [
      "UserID = 0\n",
      "UserID = 1\n",
      "UserID = 2\n",
      "UserID = 3\n",
      "UserID = 4\n",
      "UserID = 5\n",
      "UserID = 6\n",
      "UserID = 7\n",
      "UserID = 8\n",
      "UserID = 9\n"
     ]
    }
   ],
   "source": [
    "from typing import NewType\n",
    "\n",
    "UserID = NewType('UserID',int)\n",
    "\n",
    "# Create 10 users\n",
    "Users = [UserID(n) for n in range(10)]\n",
    "\n",
    "# print all user ids\n",
    "for id in Users:\n",
    "    print(f'UserID = {id}')"
   ]
  },
  {
   "attachments": {},
   "cell_type": "markdown",
   "id": "82c1d6dc",
   "metadata": {},
   "source": [
    "## <div id='datetime'>5. Get current date and time with the ```datetime``` module</div>"
   ]
  },
  {
   "cell_type": "code",
   "execution_count": 174,
   "id": "6d42822b",
   "metadata": {},
   "outputs": [
    {
     "name": "stdout",
     "output_type": "stream",
     "text": [
      "Current date and time : \n",
      "2024-06-10 10:13:54\n"
     ]
    }
   ],
   "source": [
    "from datetime import datetime\n",
    "now = datetime.now()\n",
    "print (\"Current date and time : \")\n",
    "print (now.strftime(\"%Y-%m-%d %H:%M:%S\"))"
   ]
  },
  {
   "attachments": {},
   "cell_type": "markdown",
   "id": "1573fba7",
   "metadata": {},
   "source": [
    "Let's print the date on different formats"
   ]
  },
  {
   "cell_type": "code",
   "execution_count": 175,
   "id": "9fc117c3",
   "metadata": {},
   "outputs": [
    {
     "name": "stdout",
     "output_type": "stream",
     "text": [
      "Today: 10/06/2024\n",
      "Today: June 10, 2024\n",
      "Today: 06/10/24\n",
      "Today: Jun-10-2024\n"
     ]
    }
   ],
   "source": [
    "# dd/mm/YY\n",
    "dd_mm_yy = now.strftime(\"%d/%m/%Y\")\n",
    "print(f'Today: {dd_mm_yy}')\n",
    "\n",
    "# Textual month day,year\n",
    "m_d_y = now.strftime(\"%B %d, %Y\")\n",
    "print(f'Today: {m_d_y}')\n",
    "\n",
    "# mm/dd/yy\n",
    "mm_dd_yy = now.strftime(\"%m/%d/%y\")\n",
    "print(f'Today: {mm_dd_yy}')\n",
    "\n",
    "# Month abbreviation-day-year\n",
    "a_m_d_y = now.strftime(\"%b-%d-%Y\")\n",
    "print(f'Today: {a_m_d_y}')"
   ]
  },
  {
   "attachments": {},
   "cell_type": "markdown",
   "id": "5887978c",
   "metadata": {},
   "source": [
    "**Note:** Alternatively, if you only need the date, you could replace ```now``` by ```today``` and put the following two lines before using ```today```:\n",
    "\n",
    "```\n",
    "from datetime import date\n",
    "today = date.today()\n",
    "```"
   ]
  },
  {
   "attachments": {},
   "cell_type": "markdown",
   "id": "b781559c",
   "metadata": {},
   "source": [
    "Let's print only the time now:"
   ]
  },
  {
   "cell_type": "code",
   "execution_count": 176,
   "id": "4a1dd5d3",
   "metadata": {},
   "outputs": [
    {
     "name": "stdout",
     "output_type": "stream",
     "text": [
      "current_time = '10:13:54'\n"
     ]
    }
   ],
   "source": [
    "current_time = now.strftime(\"%H:%M:%S\")\n",
    "print(f'{current_time = }')"
   ]
  },
  {
   "attachments": {},
   "cell_type": "markdown",
   "id": "ad19bda8",
   "metadata": {},
   "source": [
    "## <div id='defaultdict'>6. Defaultdict from the collections module</div>\n",
    "\n",
    "Defaultdict is a container present in the module ```collections```.\n",
    "\n",
    "Defaultdict is a sub-class of the dictionary class that returns a dictionary-like object.\n",
    "\n",
    "The functionality of both dictionaries and defaultdict are almost exactly the same except for the fact that ```defaultdict``` never raises a ```KeyError```. It provides a default value for keys that doesn't exist.\n",
    "\n",
    "<u>Syntax:</u>\n",
    "```\n",
    "defaultdict(default_factory)\n",
    "```\n",
    "\n",
    "where ```default_factory``` is a function returning the default value for non-existing keys. If this argument is absent, the dictionary raises a KeyError.\n",
    "\n",
    "**Example:**"
   ]
  },
  {
   "cell_type": "code",
   "execution_count": 177,
   "id": "92ec5bb8",
   "metadata": {},
   "outputs": [
    {
     "name": "stdout",
     "output_type": "stream",
     "text": [
      "my_defaultdict[\"a\"] = 1\n",
      "my_defaultdict[\"b\"] = 2\n",
      "my_defaultdict[\"c\"] = 'Not available'\n"
     ]
    }
   ],
   "source": [
    "from collections import defaultdict\n",
    " \n",
    "def default_value():\n",
    "    return \"Not available\"\n",
    "     \n",
    "my_defaultdict = defaultdict(default_value)\n",
    "my_defaultdict[\"a\"] = 1\n",
    "my_defaultdict[\"b\"] = 2\n",
    " \n",
    "print(f'{my_defaultdict[\"a\"] = }')\n",
    "print(f'{my_defaultdict[\"b\"] = }')\n",
    "print(f'{my_defaultdict[\"c\"] = }')"
   ]
  },
  {
   "attachments": {},
   "cell_type": "markdown",
   "id": "b41c4f5e",
   "metadata": {},
   "source": [
    "## <div id='time'>7. How to know how much time is spent on something?</div>\n",
    "\n",
    "Let's say I want to know how much is spent on looping over 10000 numbers:"
   ]
  },
  {
   "cell_type": "code",
   "execution_count": 178,
   "id": "73f3ea81",
   "metadata": {},
   "outputs": [
    {
     "name": "stdout",
     "output_type": "stream",
     "text": [
      "Time spent looping over 10000 numbers = 0.0033528999992995523 seconds\n"
     ]
    }
   ],
   "source": [
    "import time\n",
    "\n",
    "start = time.perf_counter()\n",
    "for i in range(10000):\n",
    "    pass\n",
    "end = time.perf_counter()\n",
    "print('Time spent looping over 10000 numbers = {} seconds'.format(end-start))"
   ]
  },
  {
   "attachments": {},
   "cell_type": "markdown",
   "id": "1004f75d",
   "metadata": {},
   "source": [
    "Let's use this now to show that using list comprehension is faster than doing a 'traditional' loop."
   ]
  },
  {
   "cell_type": "code",
   "execution_count": 179,
   "id": "8f29fca6",
   "metadata": {},
   "outputs": [
    {
     "name": "stdout",
     "output_type": "stream",
     "text": [
      "Time w/o comprehension = 0.00019009999959962443\n",
      "Time w/ comprehension = 0.00016769999638199806\n"
     ]
    }
   ],
   "source": [
    "def f(x: int) -> int:\n",
    "    return x*x\n",
    "\n",
    "# make a loop and append value to list\n",
    "start_1 = time.perf_counter()\n",
    "list_1 = []\n",
    "for i in range(100):\n",
    "    list_1.append(f(i))\n",
    "end_1 = time.perf_counter()\n",
    "\n",
    "# use now comprehension\n",
    "start_2 = time.perf_counter()\n",
    "list_2 = [f(i) for i in range(100)]\n",
    "end_2 = time.perf_counter()\n",
    "\n",
    "print('Time w/o comprehension = {}'.format(end_1-start_1))\n",
    "print('Time w/ comprehension = {}'.format(end_2-start_2))"
   ]
  },
  {
   "attachments": {},
   "cell_type": "markdown",
   "id": "635c139a",
   "metadata": {},
   "source": [
    "Let's now show that using ```enumerate(list_2)``` is faster than doing ```range(len(list_2))```"
   ]
  },
  {
   "cell_type": "code",
   "execution_count": 180,
   "id": "1ef242c1",
   "metadata": {},
   "outputs": [
    {
     "name": "stdout",
     "output_type": "stream",
     "text": [
      "Time with range(len()) = 0.00011420000373618677\n",
      "Time with enumerate() = 9.88000028883107e-05\n"
     ]
    }
   ],
   "source": [
    "# using range(len())\n",
    "start_1 = time.perf_counter()\n",
    "for i in range(len(list_2)):\n",
    "    pass\n",
    "end_1 = time.perf_counter()\n",
    "\n",
    "# using enumerate()\n",
    "start_2 = time.perf_counter()\n",
    "for i in enumerate(list_2):\n",
    "    pass\n",
    "end_2 = time.perf_counter()\n",
    "\n",
    "print(f'Time with range(len()) = {end_1-start_1}')\n",
    "print(f'Time with enumerate() = {end_2-start_2}')"
   ]
  },
  {
   "attachments": {},
   "cell_type": "markdown",
   "id": "41400361",
   "metadata": {},
   "source": [
    "Finally, let's show the fastest way to create a list containing ```n``` equal lists"
   ]
  },
  {
   "cell_type": "code",
   "execution_count": 181,
   "id": "fdb085d2",
   "metadata": {},
   "outputs": [
    {
     "name": "stdout",
     "output_type": "stream",
     "text": [
      "Time for creating list_1 = 0.0001512000017100945\n",
      "Time for creating list_2 = 9.88000028883107e-05\n"
     ]
    }
   ],
   "source": [
    "base_list = [1, 2, 3, 4]\n",
    "n = 100\n",
    "\n",
    "# slower\n",
    "start_1 = time.perf_counter()\n",
    "list_1 = [base_list for i in range(n)]\n",
    "end_1 = time.perf_counter()\n",
    "\n",
    "# faster\n",
    "start_2 = time.perf_counter()\n",
    "list_2 = [base_list] * n\n",
    "end_2 = time.perf_counter()\n",
    "\n",
    "print(f'Time for creating list_1 = {end_1-start_1}')\n",
    "print(f'Time for creating list_2 = {end_2-start_2}')"
   ]
  },
  {
   "attachments": {},
   "cell_type": "markdown",
   "id": "387d1bff",
   "metadata": {},
   "source": [
    "## <div id='random'>8. Then random module and pseudo-random generation</div>\n",
    "\n",
    "As an example, let's generate a (pseudo-)randomly-generated integer number in the [0,1000] range:"
   ]
  },
  {
   "cell_type": "code",
   "execution_count": 182,
   "id": "f3263e10",
   "metadata": {},
   "outputs": [
    {
     "name": "stdout",
     "output_type": "stream",
     "text": [
      "random_number = 466\n",
      "new_random_number = 341\n"
     ]
    }
   ],
   "source": [
    "from random import randrange\n",
    "\n",
    "random_number = randrange(1000)\n",
    "print(f'{random_number = }')\n",
    "\n",
    "new_random_number = randrange(1000)\n",
    "print(f'{new_random_number = }')"
   ]
  },
  {
   "attachments": {},
   "cell_type": "markdown",
   "id": "b4131b85",
   "metadata": {},
   "source": [
    "Let's generate now float numbers between 0 and 1:"
   ]
  },
  {
   "cell_type": "code",
   "execution_count": 183,
   "id": "743567a8",
   "metadata": {},
   "outputs": [
    {
     "name": "stdout",
     "output_type": "stream",
     "text": [
      "random_float_number = 0.40980531083303773\n",
      "new_random_float_number = 0.18862427648957836\n"
     ]
    }
   ],
   "source": [
    "from random import random\n",
    "random_float_number = random()\n",
    "new_random_float_number = random()\n",
    "print(f'{random_float_number = }')\n",
    "print(f'{new_random_float_number = }')"
   ]
  },
  {
   "cell_type": "markdown",
   "id": "e644e91c",
   "metadata": {},
   "source": [
    "What about if we wish to draw randomly an element from a sequence (string, range, list, tuple)?\n",
    "\n",
    "Let's suppose we have a list of strings (participants) and we wish to randomly select an element (participant) from such a list. We can do that using the ```choice()``` method in the following way:"
   ]
  },
  {
   "cell_type": "code",
   "execution_count": 184,
   "id": "d8a9d3a5",
   "metadata": {},
   "outputs": [
    {
     "name": "stdout",
     "output_type": "stream",
     "text": [
      "random_element_from_list = Maria\n"
     ]
    }
   ],
   "source": [
    "from random import choice\n",
    "\n",
    "participants = ['John', 'Maria', 'Stefano', 'Jeff', 'Mathias', 'Eric']\n",
    "random_choice = choice(participants)\n",
    "print(f'random_element_from_list = {random_choice}')"
   ]
  },
  {
   "attachments": {},
   "cell_type": "markdown",
   "id": "3ce8f4e9",
   "metadata": {},
   "source": [
    "## <div id='catch-errors'>9. How to catch errors?</div>\n",
    "\n",
    "Unexpected behaviour will eventually happen and might cause errors.\n",
    "\n",
    "In python, these situations are considered as exceptions, each raising different types of errors.\n",
    "\n",
    "But, Python provides a way to handle/catch exceptions.\n",
    "\n",
    "### Example 1\n",
    "\n",
    "Let's say I created a dictionary and then I try to get the value for a given key, but the key doesn't exists (or I don't know if exists). In that case, I can 'try' to get the value and if it 'fails' I show the appropriate error/exception."
   ]
  },
  {
   "attachments": {},
   "cell_type": "markdown",
   "id": "f529e5dd",
   "metadata": {},
   "source": [
    "```\n",
    "my_dict = {'a': 1, 'b': 2, 'c':4}\n",
    "\n",
    "try:\n",
    "    print(f'{my_dict[\"d\"] = }')\n",
    "except KeyError:\n",
    "    raise KeyError(\"The key 'd' doesn't exists\")\n",
    "```"
   ]
  },
  {
   "attachments": {},
   "cell_type": "markdown",
   "id": "fe6d8b7c",
   "metadata": {},
   "source": [
    "### Example 2\n",
    "\n",
    "Let's say I want to take the square root of a value (which only works for positive values), I can use ```try``` and raise an error when it receives a negative value."
   ]
  },
  {
   "attachments": {},
   "cell_type": "markdown",
   "id": "89785c99",
   "metadata": {},
   "source": [
    "```\n",
    "from math import sqrt\n",
    "\n",
    "x = -1\n",
    "\n",
    "try:\n",
    "    sqrt(x)\n",
    "except ValueError:\n",
    "    raise ValueError(\"It's not possible to take the square root of a negative value\")\n",
    "```"
   ]
  },
  {
   "cell_type": "markdown",
   "id": "d1422487",
   "metadata": {},
   "source": [
    "## <div id='write-file'>10. How to write a file?</div>\n",
    "\n",
    "Let's use the ```open()``` built-in function to write a text file:"
   ]
  },
  {
   "cell_type": "code",
   "execution_count": 185,
   "id": "fe3bee84",
   "metadata": {},
   "outputs": [],
   "source": [
    "with open('example_text_file.txt', 'w') as output_file:\n",
    "    output_file.write('This is an example text file containing two lines.\\n')\n",
    "    output_file.write('This is a second line of text.')"
   ]
  },
  {
   "cell_type": "markdown",
   "id": "2cae50d8",
   "metadata": {},
   "source": [
    "**Note** that I use ```'w'``` as the second argument to choose the \"Write\" mode. In this mode, if the file deos not exists, it will be created. On the other hand, if the file exists, its content will be replaced by the new content. If you wish to create a file but return an error if the file already exists, use the \"Create\" mode using ```'x'``` instead."
   ]
  },
  {
   "attachments": {},
   "cell_type": "markdown",
   "id": "b38f0e11",
   "metadata": {},
   "source": [
    "## <div id='open-file'>11. How to open a file?</div>\n",
    "\n",
    "Let's use the ```open()``` function again but now to open the file we created:"
   ]
  },
  {
   "cell_type": "code",
   "execution_count": 186,
   "id": "2c411903",
   "metadata": {},
   "outputs": [
    {
     "name": "stdout",
     "output_type": "stream",
     "text": [
      "Content of the \"example_text_file.txt\" file:\n",
      "This is an example text file containing two lines.\n",
      "This is a second line of text.\n"
     ]
    }
   ],
   "source": [
    "# Open the file\n",
    "with open('example_text_file.txt', 'r') as input_file:\n",
    "\n",
    "    # Print its content\n",
    "    print('Content of the \"example_text_file.txt\" file:')\n",
    "    for line in input_file: # loop over each file and print line's content\n",
    "        print(line.replace('\\n', '')) # remove newline from string"
   ]
  },
  {
   "attachments": {},
   "cell_type": "markdown",
   "id": "1a8b0fd4",
   "metadata": {},
   "source": [
    "**Note** that I use ```'r'``` as the second argument to choose the \"Write\" mode.\n",
    "\n",
    "**Note:** Now ```input_file``` is closed when I leave the ```with``` block and I don't have to explicitely close it. This happens regardless of how we exit (or why?) the block of code within the ```with``` statement. Any class containing ```__enter__``` and ```__exit__``` methods would work with ```with``` (```__enter__``` is executed at the beginning, while ```__exit__``` is executed when exiting in any way the block of code within the ```with``` statement)."
   ]
  },
  {
   "attachments": {},
   "cell_type": "markdown",
   "id": "3db3b80c",
   "metadata": {},
   "source": [
    "## Open a file and raise an appropriate error if file doesn't exists"
   ]
  },
  {
   "cell_type": "code",
   "execution_count": 187,
   "id": "f676d293",
   "metadata": {},
   "outputs": [
    {
     "name": "stdout",
     "output_type": "stream",
     "text": [
      "The 'fake_file.txt' file doesn't exists (who could have guessed that?)\n"
     ]
    }
   ],
   "source": [
    "try:\n",
    "    with open('fake_file.txt', 'r') as fake_file:\n",
    "        for line in fake_file:\n",
    "            print(line)\n",
    "except OSError:\n",
    "    print(\"The 'fake_file.txt' file doesn't exists (who could have guessed that?)\")"
   ]
  },
  {
   "attachments": {},
   "cell_type": "markdown",
   "id": "7d3e92ae",
   "metadata": {},
   "source": [
    "## <div id='assert'>12. How to check a condition and raise an error message if not satisfied?</div>\n",
    "\n",
    "Use the ```assert``` statement, this is particularly helpful when debugging.\n",
    "\n",
    "```assert``` takes an expression and an optional message.\n",
    "\n",
    "<u>Syntax:</u>\n",
    "```\n",
    "assert CONDITION, MESSAGE\n",
    "```\n",
    "\n",
    "**Example:**\n",
    "```\n",
    "x = 10\n",
    "assert x < 10, 'x is not smaller than 10'\n",
    "```"
   ]
  },
  {
   "attachments": {},
   "cell_type": "markdown",
   "id": "ce56104a",
   "metadata": {},
   "source": [
    "## <div id='performance'>13. Helpful modules to evaluate/improve performance</div>\n",
    "\n",
    "### <div id='cprofile'>13.A. Profiling and how to know where your code is slower with the ```cProfile``` module</div>\n",
    "\n",
    "Python profilers helps you find which part of your code takes more time to run.\n",
    "\n",
    "We will use the ```Profile()``` function from the ```cProfile``` module for extracting profiling data and use the ```pstats``` module to report it conveniently."
   ]
  },
  {
   "cell_type": "code",
   "execution_count": 188,
   "id": "74070fa9",
   "metadata": {},
   "outputs": [
    {
     "name": "stdout",
     "output_type": "stream",
     "text": [
      "         4147455 function calls in 4.119 seconds\n",
      "\n",
      "   Ordered by: internal time\n",
      "\n",
      "   ncalls  tottime  percall  cumtime  percall filename:lineno(function)\n",
      "   995393    1.460    0.000    1.707    0.000 c:\\Users\\bossi\\AppData\\Local\\Programs\\Python\\Python311\\Lib\\random.py:520(uniform)\n",
      "   995393    1.170    0.000    1.170    0.000 {built-in method builtins.round}\n",
      "   995393    1.002    0.000    3.879    0.000 C:\\Users\\bossi\\AppData\\Local\\Temp\\ipykernel_14284\\3604063383.py:11(gen_from_uniform)\n",
      "   995393    0.247    0.000    0.247    0.000 {method 'random' of '_random.Random' objects}\n",
      "        1    0.094    0.094    4.935    4.935 C:\\Users\\bossi\\AppData\\Local\\Temp\\ipykernel_14284\\3604063383.py:22(<listcomp>)\n",
      "    20000    0.046    0.000    0.103    0.000 c:\\Users\\bossi\\AppData\\Local\\Programs\\Python\\Python311\\Lib\\random.py:284(randrange)\n",
      "    20000    0.042    0.000    0.050    0.000 c:\\Users\\bossi\\AppData\\Local\\Programs\\Python\\Python311\\Lib\\random.py:235(_randbelow_with_getrandbits)\n",
      "        2    0.017    0.009    0.017    0.009 C:\\Users\\bossi\\AppData\\Local\\Temp\\ipykernel_14284\\3604063383.py:9(<dictcomp>)\n",
      "    20000    0.017    0.000    0.017    0.000 {built-in method builtins.max}\n",
      "    60000    0.008    0.000    0.008    0.000 {built-in method _operator.index}\n",
      "        1    0.006    0.006    0.006    0.006 C:\\Users\\bossi\\AppData\\Local\\Temp\\ipykernel_14284\\3604063383.py:18(<listcomp>)\n",
      "    25873    0.004    0.000    0.004    0.000 {method 'getrandbits' of '_random.Random' objects}\n",
      "    20000    0.003    0.000    0.003    0.000 {method 'bit_length' of 'int' objects}\n",
      "        1    0.003    0.003    0.020    0.020 C:\\Users\\bossi\\AppData\\Local\\Temp\\ipykernel_14284\\3604063383.py:29(<listcomp>)\n",
      "        1    0.000    0.000    4.941    4.941 C:\\Users\\bossi\\AppData\\Local\\Temp\\ipykernel_14284\\3604063383.py:15(gen_data)\n",
      "        2    0.000    0.000    0.017    0.009 C:\\Users\\bossi\\AppData\\Local\\Temp\\ipykernel_14284\\3604063383.py:7(create_dict)\n",
      "        1    0.000    0.000    0.000    0.000 {method 'disable' of '_lsprof.Profiler' objects}\n",
      "        1    0.000    0.000    0.000    0.000 {method 'enable' of '_lsprof.Profiler' objects}\n",
      "\n",
      "\n"
     ]
    }
   ],
   "source": [
    "import cProfile\n",
    "import pstats\n",
    "from random import uniform\n",
    "from cProfile import Profile\n",
    "from __future__ import annotations # such that I can use tuple as type hint\n",
    "\n",
    "def create_dict(keys: list[int], values: list[list[float]]) -> dict:\n",
    "    \"\"\"Create a dict for a list of keys associate each list from values to each key (coherently)\"\"\"\n",
    "    return {key: value for key, value in zip(keys, values)}\n",
    "\n",
    "def gen_from_uniform(n: int) -> float:\n",
    "    \"\"\"Generate a float number from an uniform(0, n) distribution and return rounded number to 2 decimals\"\"\"\n",
    "    return round(uniform(0, n), 2)\n",
    "\n",
    "def gen_data(n: int) -> tuple[list[int], list[float]]:\n",
    "    \"\"\"Generate a list of keys and a list of a list of numbers\"\"\"\n",
    "    # Create list of keys\n",
    "    keys = [i for i in range(n)]\n",
    "    # Create a list of floats for each key\n",
    "    # Each list will contain n elements, where n is randomly generated in the [1, 100] range\n",
    "    # Each item on each list is generated from an uniform[0, 10] distribution\n",
    "    values = [[gen_from_uniform(100) for i in range(randrange(1, 100))] for i in range(n)]\n",
    "    return keys, values\n",
    "\n",
    "with Profile() as p:\n",
    "    p.enable()\n",
    "    keys, values = gen_data(20000)\n",
    "    my_dict_all_values = create_dict(keys, values)\n",
    "    my_dict_max_value = create_dict(keys, [max(item) for item in values])\n",
    "    p.disable()\n",
    "    stats = pstats.Stats(p).sort_stats('tottime')\n",
    "    stats.print_stats() "
   ]
  },
  {
   "attachments": {},
   "cell_type": "markdown",
   "id": "31379a53",
   "metadata": {},
   "source": [
    "Let's take a look at the above printout:\n",
    "\n",
    "* ```ncalls```: as the name suggests, it's the number of times an operation is call. For example, the function ```gen_from_uniform()``` was called 994163 times.\n",
    "\n",
    "* ```tottime```: is the total time spent on a function alone.\n",
    "\n",
    "* ```cumtime```: is the total time spent on a function plus all other functions that were calle by given function.\n",
    "\n",
    "* ```percall```: is the time (```tottime``` or ```cumtime```) spent by call.\n",
    "\n",
    "* ```filename:lineno(function)```: as the name suggest, it shows the filename, line number and function name."
   ]
  },
  {
   "attachments": {},
   "cell_type": "markdown",
   "id": "fd5eac90",
   "metadata": {},
   "source": [
    "**Note:**\n",
    "\n",
    "* ```ramdom.uniform(a, b)``` generates a float number between ```a``` and ```b``` if ```a < b``` and between ```b``` and ```a``` if ```a > b```.\n",
    "\n",
    "* ```__future__``` is a built-in module that is used to import new features that are available in newer Python versions.\n",
    "\n",
    "* You could also sort by cumulative time by passing ```'cumtime'``` to ```sort_stats()```."
   ]
  },
  {
   "attachments": {},
   "cell_type": "markdown",
   "id": "0b63ce6a",
   "metadata": {},
   "source": [
    "### <div id='tracemalloc'>13.B. Track memory usage with the ```tracemalloc``` module</div>\n",
    "\n",
    "Usually, it's not all about how fast a program can run, but also one has to be efficient in terms on memory management. You could have a lot of memory, you could even desperately do memory swapping but the total available memory will always be finite and you might ran out of it. \n",
    "\n",
    "In that case, you would have to understand why you are using so much memory. For that, you can use the ```tracemalloc``` module, which lets you trace allocated memory blocks. It provides the following information:\n",
    "\n",
    "* Traceback where an object was allocated\n",
    "\n",
    "* Statistics on allocated memory blocks per filename and per line number: total size, number and average size of allocated memory blocks\n",
    "\n",
    "* Compute the differences between two snapshots to detect memory leaks\n",
    "\n",
    "**Example 1:**\n",
    "\n",
    "Let's create a big list, take a snapshot of memory allocation with ```tracemalloc.take_snapshot()``` and print the result for the top number 1. This will give you the line number and memory size. Let's use also ```traceback.format()``` to print the object that was created."
   ]
  },
  {
   "cell_type": "code",
   "execution_count": 189,
   "id": "d56fb7e5",
   "metadata": {},
   "outputs": [
    {
     "name": "stdout",
     "output_type": "stream",
     "text": [
      "C:\\Users\\bossi\\AppData\\Local\\Temp\\ipykernel_14284\\2869854192.py:5: size=38.6 MiB, count=999745, average=40 B\n",
      "['  File \"C:\\\\Users\\\\bossi\\\\AppData\\\\Local\\\\Temp\\\\ipykernel_14284\\\\2869854192.py\", line 5', '    big_list = [i for i in range(1000000)]']\n"
     ]
    }
   ],
   "source": [
    "import tracemalloc\n",
    "tracemalloc.start()\n",
    "\n",
    "# Create a big list\n",
    "big_list = [i for i in range(1000000)]\n",
    "\n",
    "# Take snapshot\n",
    "snapshot = tracemalloc.take_snapshot()\n",
    "\n",
    "# Print top 1\n",
    "stats = snapshot.statistics(\"lineno\")\n",
    "for stat in stats[:1]:\n",
    "    print(stat)\n",
    "    print(stat.traceback.format())"
   ]
  },
  {
   "attachments": {},
   "cell_type": "markdown",
   "id": "f90085cf",
   "metadata": {},
   "source": [
    "As you can see, the output says I added an object (```big_list```) of size 35 MB on line 5.\n",
    "\n",
    "**Example 2:**\n",
    "\n",
    "Let's create another list, take another spanshot and compare snapshots."
   ]
  },
  {
   "cell_type": "code",
   "execution_count": 190,
   "id": "1a6ef9c3",
   "metadata": {},
   "outputs": [
    {
     "name": "stdout",
     "output_type": "stream",
     "text": [
      "c:\\Users\\bossi\\AppData\\Local\\Programs\\Python\\Python311\\Lib\\tracemalloc.py:505: size=783 KiB (+783 KiB), count=14311 (+14310), average=56 B\n",
      "c:\\Users\\bossi\\AppData\\Local\\Programs\\Python\\Python311\\Lib\\tracemalloc.py:498: size=671 KiB (+671 KiB), count=14312 (+14309), average=48 B\n",
      "c:\\Users\\bossi\\AppData\\Local\\Programs\\Python\\Python311\\Lib\\tracemalloc.py:193: size=577 KiB (+486 KiB), count=12316 (+10360), average=48 B\n",
      "c:\\Users\\bossi\\AppData\\Local\\Programs\\Python\\Python311\\Lib\\tracemalloc.py:115: size=0 B (-155 KiB), count=0 (-1980)\n",
      "c:\\Users\\bossi\\AppData\\Local\\Programs\\Python\\Python311\\Lib\\tracemalloc.py:67: size=124 KiB (+124 KiB), count=1989 (+1989), average=64 B\n",
      "c:\\Users\\bossi\\AppData\\Local\\Programs\\Python\\Python311\\Lib\\tracemalloc.py:558: size=129 KiB (+117 KiB), count=2650 (+2427), average=50 B\n",
      "c:\\Users\\bossi\\AppData\\Local\\Programs\\Python\\Python311\\Lib\\tracemalloc.py:534: size=112 KiB (+112 KiB), count=2 (+2), average=55.9 KiB\n",
      "c:\\Users\\bossi\\AppData\\Local\\Programs\\Python\\Python311\\Lib\\tracemalloc.py:502: size=80.5 KiB (+80.4 KiB), count=2575 (+2574), average=32 B\n",
      "c:\\Users\\bossi\\AppData\\Local\\Programs\\Python\\Python311\\Lib\\site-packages\\matplotlib\\lines.py:359: size=0 B (-78.9 KiB), count=0 (-102)\n",
      "c:\\Users\\bossi\\AppData\\Local\\Programs\\Python\\Python311\\Lib\\site-packages\\matplotlib\\transforms.py:198: size=0 B (-68.6 KiB), count=0 (-753)\n"
     ]
    }
   ],
   "source": [
    "import tracemalloc\n",
    "tracemalloc.start()\n",
    "\n",
    "# Create another list\n",
    "another_list = [i*2 for i in range(1000)]\n",
    "\n",
    "snapshot_2 = tracemalloc.take_snapshot()\n",
    "\n",
    "# Show top 10\n",
    "for diff in snapshot_2.compare_to(snapshot,\"lineno\")[:10]:\n",
    "    print(diff)"
   ]
  },
  {
   "attachments": {},
   "cell_type": "markdown",
   "id": "9d94bccb",
   "metadata": {},
   "source": [
    "Now, you can see at the top, that I created another object at line 5 of size 32.6 KB, representing an addition of 32.6 KB (shown as ```(+32.6 KiB)```)."
   ]
  },
  {
   "attachments": {},
   "cell_type": "markdown",
   "id": "181c3f57",
   "metadata": {},
   "source": [
    "# <div id='exercises' align='center'>14. Exercises</div>"
   ]
  },
  {
   "attachments": {},
   "cell_type": "markdown",
   "id": "d12b22bf",
   "metadata": {},
   "source": [
    "## Exercise 1\n",
    "\n",
    "Print the difference between a randomly generated number (generated in the 0-100 range) and 13, if the number is larger than 10 return 1, return 0 otherwise"
   ]
  },
  {
   "attachments": {},
   "cell_type": "markdown",
   "id": "9b15075e",
   "metadata": {},
   "source": [
    "## Exercise 2\n",
    "\n",
    "Evaluate and plot the function $f(x) = x^2$ for $x$ values in [0, 1, 2, 3, 4, 5, 6, 7, 8, 9, 10]"
   ]
  },
  {
   "attachments": {},
   "cell_type": "markdown",
   "id": "4d599e82",
   "metadata": {},
   "source": [
    "## Exercise 3\n",
    "\n",
    "Generate 100000 numbers from a Gaussian distribution (instructions below) with mu=100 and sigma=10, plot numbers as a histogram and print how much time it took to do everything.\n",
    "\n",
    "**How to generate numbers from a Gaussian distribution?**\n",
    "\n",
    "```\n",
    "from random import gauss\n",
    "random_number = gauss(mu, sigma)\n",
    "```"
   ]
  },
  {
   "attachments": {},
   "cell_type": "markdown",
   "id": "5bf3a2d6",
   "metadata": {},
   "source": [
    "## <div id='solutions' align='center'>14.A Solutions</div>"
   ]
  },
  {
   "attachments": {},
   "cell_type": "markdown",
   "id": "62bfb4ec",
   "metadata": {},
   "source": [
    "### Answer exercise 1"
   ]
  },
  {
   "cell_type": "code",
   "execution_count": 191,
   "id": "cd40d9fe",
   "metadata": {},
   "outputs": [
    {
     "name": "stdout",
     "output_type": "stream",
     "text": [
      "The result of the check for 87 gives 1\n"
     ]
    }
   ],
   "source": [
    "def check_number(x: int) -> int:\n",
    "    if x - 13 > 10:\n",
    "        return 1\n",
    "    else:\n",
    "        return 0\n",
    "\n",
    "from random import randrange\n",
    "\n",
    "random_number = randrange(100)\n",
    "\n",
    "print(f'The result of the check for {random_number} gives {check_number(random_number)}')"
   ]
  },
  {
   "attachments": {},
   "cell_type": "markdown",
   "id": "a86df3ac",
   "metadata": {},
   "source": [
    "### Answer exercise 2"
   ]
  },
  {
   "cell_type": "code",
   "execution_count": 192,
   "id": "aaf3a457",
   "metadata": {},
   "outputs": [
    {
     "data": {
      "image/png": "[encoded data removed]",
      "text/plain": [
       "<Figure size 640x480 with 1 Axes>"
      ]
     },
     "metadata": {},
     "output_type": "display_data"
    }
   ],
   "source": [
    "import matplotlib.pyplot as plt\n",
    "\n",
    "def f(x: int) -> int:\n",
    "    \"\"\"f(x) = x^2\"\"\"\n",
    "    return x**2\n",
    "\n",
    "# Generate x and y values\n",
    "x = [i for i in range(11)]\n",
    "y = [f(item) for item in x]\n",
    "\n",
    "# Plot f(x) vs x\n",
    "plt.plot(x, y)\n",
    "plt.xlabel('x')\n",
    "plt.ylabel('f(x)=x^2')\n",
    "plt.show()"
   ]
  },
  {
   "attachments": {},
   "cell_type": "markdown",
   "id": "6ece5708",
   "metadata": {},
   "source": [
    "### Answer exercise 3"
   ]
  },
  {
   "cell_type": "code",
   "execution_count": 193,
   "id": "4411efa9",
   "metadata": {},
   "outputs": [
    {
     "data": {
      "image/png": "[encoded data removed]",
      "text/plain": [
       "<Figure size 640x480 with 1 Axes>"
      ]
     },
     "metadata": {},
     "output_type": "display_data"
    },
    {
     "name": "stdout",
     "output_type": "stream",
     "text": [
      "Time spent = 2.12092510000366 s\n"
     ]
    }
   ],
   "source": [
    "from random import gauss\n",
    "\n",
    "start = time.perf_counter()\n",
    "\n",
    "random_numbers = [gauss(100, 10) for i in range(100000)]\n",
    "\n",
    "plt.hist(random_numbers)\n",
    "plt.show()\n",
    "\n",
    "end = time.perf_counter()\n",
    "print(f'Time spent = {end-start} s')"
   ]
  },
  {
   "cell_type": "markdown",
   "id": "97f0e4e0",
   "metadata": {},
   "source": [
    "You have reached the end of this course. If you still wish to learn more, there is an extension of this course that is composed of different Python modules targetting aspects not covered on the main course (which can be found in the 'Python-tutorial-extension/' folder: [link](https://github.com/jbossios/python-tutorial/tree/master/Python-tutorial-extension/README.md))."
   ]
  }
 ],
 "metadata": {
  "kernelspec": {
   "display_name": "Python 3 (ipykernel)",
   "language": "python",
   "name": "python3"
  },
  "language_info": {
   "codemirror_mode": {
    "name": "ipython",
    "version": 3
   },
   "file_extension": ".py",
   "mimetype": "text/x-python",
   "name": "python",
   "nbconvert_exporter": "python",
   "pygments_lexer": "ipython3",
   "version": "3.11.6"
  }
 },
 "nbformat": 4,
 "nbformat_minor": 5
}
