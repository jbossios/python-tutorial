{
 "cells": [
  {
   "cell_type": "markdown",
   "id": "6392762d",
   "metadata": {},
   "source": [
    "# <div align='center'>Introduction to Python for data analysis: Functions</div>\n",
    "\n",
    "# Contents\n",
    "\n",
    "1. <a href=\"#functions\">What is a function?</a>\n",
    "2. <a href='#naming'>Naming convention</a>\n",
    "3. <a href='#no-argument-no-return'>Function with no arguments and no return</a>\n",
    "4. <a href='#single-argument-single-return'>Function with a single argument and a single return value</a>\n",
    "5. <a href='#multiple-arguments'>Function with multiple arguments</a>\n",
    "6. <a href='#useful'>Why are functions useful?</a>\n",
    "7. <a href='#commenting'>How to comment what a function does?</a>\n",
    "8. <a href='#annotations'>Function annotations</a>\n",
    "9. <a href='#return-tuple'>How to return several objects as a tuple?</a>\n",
    "10. <a href='#passing'>How objects are passed to functions?</a>\n",
    "11. <a href='#args'>Arbitrary number of arguments</a>\n",
    "12. <a href='#keyword-arguments'>Keyword Arguments</a>\n",
    "13. <a href='#kargs'>Arbitrary Keyword Arguments</a>\n",
    "14. <a href='#optional-argument'>Optional arguments</a>\n",
    "15. <a href='#helpful-functions'>Some helpful built-in functions</a>\n",
    "16. <a href='#lambda-functions'>Lambda functions</a>\n",
    "17. <a href='#map-function'>The map() function</a>\n",
    "18. <a href='#exercises'>Exercises</a>"
   ]
  },
  {
   "cell_type": "markdown",
   "id": "0ea0026b",
   "metadata": {},
   "source": [
    "## <div id='functions'>1. What is a function?</div>\n",
    "\n",
    "A function is a block of code which only runs when it is called.\n",
    "\n",
    "You can pass/provide data to the function, known as arguments or parameters.\n",
    "\n",
    "A function can return data as a result.\n",
    "\n",
    "Functions are helpful for organizing code and to reduce duplication.\n",
    "\n",
    "\n",
    "## <div id='naming'>2. Naming convention</div>\n",
    "\n",
    "The naming convention for functions is the same as for variables (skane_case)"
   ]
  },
  {
   "cell_type": "markdown",
   "id": "81303458",
   "metadata": {},
   "source": [
    "## <div id='no-argument-no-return'>3. Example 1: function with no arguments and no return</div>"
   ]
  },
  {
   "cell_type": "markdown",
   "id": "8e12e6c4",
   "metadata": {},
   "source": [
    "Let's first define the ```print_hello_world()``` function:"
   ]
  },
  {
   "cell_type": "code",
   "execution_count": 1,
   "id": "ae9c7198",
   "metadata": {},
   "outputs": [],
   "source": [
    "def print_hello_world():\n",
    "    print('Hello world!')"
   ]
  },
  {
   "cell_type": "markdown",
   "id": "2feed7e6",
   "metadata": {},
   "source": [
    "Use/call the ```print_hello_world()``` function:"
   ]
  },
  {
   "cell_type": "code",
   "execution_count": 2,
   "id": "665f3c23",
   "metadata": {},
   "outputs": [
    {
     "name": "stdout",
     "output_type": "stream",
     "text": [
      "Hello world!\n"
     ]
    }
   ],
   "source": [
    "print_hello_world()"
   ]
  },
  {
   "cell_type": "markdown",
   "id": "44b905a2",
   "metadata": {},
   "source": [
    "## <div id='single-argument-single-return'>4. Example 2: function with a single argument and a single return value</div>\n",
    "\n",
    "To let a function return a value, use the ```return``` statement:"
   ]
  },
  {
   "cell_type": "code",
   "execution_count": 3,
   "id": "50dc1590",
   "metadata": {},
   "outputs": [],
   "source": [
    "def sum_2(n):\n",
    "    return n + 2"
   ]
  },
  {
   "cell_type": "markdown",
   "id": "d2f5e9f1",
   "metadata": {},
   "source": [
    "Call the ```sum_2``` function:"
   ]
  },
  {
   "cell_type": "code",
   "execution_count": 4,
   "id": "ed4348ac",
   "metadata": {},
   "outputs": [
    {
     "name": "stdout",
     "output_type": "stream",
     "text": [
      "sum_2(2) = 4\n"
     ]
    }
   ],
   "source": [
    "print(f'{sum_2(2) = }')"
   ]
  },
  {
   "cell_type": "markdown",
   "id": "6c2b21ef",
   "metadata": {},
   "source": [
    "The above ```sum_2()``` function would be equal to the following:"
   ]
  },
  {
   "cell_type": "code",
   "execution_count": 5,
   "id": "c6fe265e",
   "metadata": {},
   "outputs": [],
   "source": [
    "def sum_2(n):\n",
    "    result = n + 2\n",
    "    return result"
   ]
  },
  {
   "cell_type": "markdown",
   "id": "a2a5b718",
   "metadata": {},
   "source": [
    "## <div id='multiple-arguments'>5. Example 3: function with multiple arguments</div>"
   ]
  },
  {
   "cell_type": "code",
   "execution_count": 6,
   "id": "acc357e1",
   "metadata": {},
   "outputs": [],
   "source": [
    "def multiply(x,y):\n",
    "    return x*y"
   ]
  },
  {
   "cell_type": "markdown",
   "id": "cfc3a678",
   "metadata": {},
   "source": [
    "Call the ```multiply()``` function:"
   ]
  },
  {
   "cell_type": "code",
   "execution_count": 7,
   "id": "3630ecb8",
   "metadata": {},
   "outputs": [
    {
     "name": "stdout",
     "output_type": "stream",
     "text": [
      "multiply(2,3) = 6\n"
     ]
    }
   ],
   "source": [
    "print(f'{multiply(2,3) = }')"
   ]
  },
  {
   "cell_type": "markdown",
   "id": "2762ddfe",
   "metadata": {},
   "source": [
    "## <div id='useful'>6. Example 4: why are functions useful?</div>\n",
    "\n",
    "Let's imagine I want to make a complex mathematical calculation several times\n",
    "\n",
    "A function allows me to define such calculation only once"
   ]
  },
  {
   "cell_type": "code",
   "execution_count": 8,
   "id": "8f39cd4a",
   "metadata": {},
   "outputs": [],
   "source": [
    "def calc(x, y, string):\n",
    "    if string == 'case1':\n",
    "        return 2 + x + y + x**y\n",
    "    elif string == 'case2':\n",
    "        return x - y + x**y\n",
    "    else:\n",
    "        return y - x"
   ]
  },
  {
   "cell_type": "markdown",
   "id": "fdea7474",
   "metadata": {},
   "source": [
    "Call the ```calc()``` function three times:"
   ]
  },
  {
   "cell_type": "code",
   "execution_count": 9,
   "id": "79ea7031",
   "metadata": {},
   "outputs": [
    {
     "name": "stdout",
     "output_type": "stream",
     "text": [
      "calc(2, 5, \"case1\") = 41\n",
      "calc(2, 5, \"case2\") = 29\n",
      "calc(2, 5, \"case3\") = 3\n"
     ]
    }
   ],
   "source": [
    "print(f'{calc(2, 5, \"case1\") = }') \n",
    "print(f'{calc(2, 5, \"case2\") = }')\n",
    "print(f'{calc(2, 5, \"case3\") = }')"
   ]
  },
  {
   "cell_type": "markdown",
   "id": "a5d942d1",
   "metadata": {},
   "source": [
    "**Note:** I needed to use ```\"\"``` instead of ```''``` for passing a str argument"
   ]
  },
  {
   "cell_type": "markdown",
   "id": "d03a826b",
   "metadata": {},
   "source": [
    "## <div id='commenting'>7. Example 5: comment what a function does</div>"
   ]
  },
  {
   "cell_type": "code",
   "execution_count": 10,
   "id": "75f521c5",
   "metadata": {},
   "outputs": [],
   "source": [
    "def my_func():\n",
    "    \"\"\"This function returns 0\"\"\"\n",
    "    return 0"
   ]
  },
  {
   "cell_type": "markdown",
   "id": "9483db9e",
   "metadata": {},
   "source": [
    "I can print such comment using ```__doc__```:"
   ]
  },
  {
   "cell_type": "code",
   "execution_count": 11,
   "id": "d33b7ae9",
   "metadata": {},
   "outputs": [
    {
     "name": "stdout",
     "output_type": "stream",
     "text": [
      "my_func.__doc__ = 'This function returns 0'\n"
     ]
    }
   ],
   "source": [
    "print(f'{my_func.__doc__ = }')"
   ]
  },
  {
   "cell_type": "markdown",
   "id": "6ecb8ddd",
   "metadata": {},
   "source": [
    "## <div id='annotations'>8. Function annotations</div>\n",
    "\n",
    "One can improve the readability of a function with function annotations.\n",
    "\n",
    "In the following function, I'm saying I need an ```int``` and a ```str``` arguments, and that I will return a dictionary.\n",
    "\n",
    "These are also known as type hints."
   ]
  },
  {
   "cell_type": "code",
   "execution_count": 12,
   "id": "7d52cbd2",
   "metadata": {},
   "outputs": [],
   "source": [
    "def create_dict(x: int, y: str) -> dict:\n",
    "    \"\"\"Example of a function using annotations\"\"\"\n",
    "    return {x : y} # note: I'm using dictionary comprehension here"
   ]
  },
  {
   "cell_type": "markdown",
   "id": "9eb9b228",
   "metadata": {},
   "source": [
    "Call the ```create_dict()``` function:"
   ]
  },
  {
   "cell_type": "code",
   "execution_count": 13,
   "id": "9b529543",
   "metadata": {},
   "outputs": [
    {
     "name": "stdout",
     "output_type": "stream",
     "text": [
      "create_dict(2,\"example\") = {2: 'example'}\n"
     ]
    }
   ],
   "source": [
    "print(f'{create_dict(2,\"example\") = }')"
   ]
  },
  {
   "cell_type": "markdown",
   "id": "f8ff9c3d",
   "metadata": {},
   "source": [
    "**IMPORTANT:** I could have put any type to ```x```, ```y``` and the return (even incorrect ones!). This just helps the reader but is not cheked at any point (they just need to be valid types)."
   ]
  },
  {
   "cell_type": "markdown",
   "id": "32dc72d7",
   "metadata": {},
   "source": [
    "## <div id='return-tuple'>9. Example 6: function returning several objects as a tuple</div>"
   ]
  },
  {
   "cell_type": "code",
   "execution_count": 14,
   "id": "f4ff4c50",
   "metadata": {},
   "outputs": [],
   "source": [
    "def return_multiple_objects(x,y) -> tuple:\n",
    "    return x+2, y+3"
   ]
  },
  {
   "cell_type": "markdown",
   "id": "e6ce9afa",
   "metadata": {},
   "source": [
    "Call the ```return_multiple_objects()``` function:"
   ]
  },
  {
   "cell_type": "code",
   "execution_count": 15,
   "id": "2a835d5e",
   "metadata": {},
   "outputs": [
    {
     "name": "stdout",
     "output_type": "stream",
     "text": [
      "my_tuple = (3, 5)\n",
      "my_tuple[0] = 3\n",
      "my_tuple[1] = 5\n"
     ]
    }
   ],
   "source": [
    "my_tuple = return_multiple_objects(1,2)\n",
    "print(f'{my_tuple = }')    # get the tuple\n",
    "print(f'{my_tuple[0] = }') # get first value of the tuple\n",
    "print(f'{my_tuple[1] = }') # get second value of the tuple"
   ]
  },
  {
   "cell_type": "markdown",
   "id": "57d555d8",
   "metadata": {},
   "source": [
    "I could also retrieve values one by one using what is called \"tuple unpacking\":"
   ]
  },
  {
   "cell_type": "code",
   "execution_count": 16,
   "id": "bbf1b76b",
   "metadata": {},
   "outputs": [
    {
     "name": "stdout",
     "output_type": "stream",
     "text": [
      "a = 3\n",
      "b = 5\n"
     ]
    }
   ],
   "source": [
    "a, b = return_multiple_objects(1,2)\n",
    "print(f'{a = }')\n",
    "print(f'{b = }')"
   ]
  },
  {
   "cell_type": "markdown",
   "id": "d126d3fb",
   "metadata": {},
   "source": [
    "What about if I only care (i.e. will only use) the first return value?"
   ]
  },
  {
   "cell_type": "code",
   "execution_count": 17,
   "id": "fc40ed01",
   "metadata": {},
   "outputs": [],
   "source": [
    "a, _ = return_multiple_objects(1,2) "
   ]
  },
  {
   "cell_type": "markdown",
   "id": "c07ce44c",
   "metadata": {},
   "source": [
    "**Note:** ```_``` tells the reader that I will not use that variable"
   ]
  },
  {
   "cell_type": "markdown",
   "id": "1570366a",
   "metadata": {},
   "source": [
    "## <div id='passing'>10. How objects are passed to functions?</div>\n",
    "\n",
    "### Mutable objects: call by reference"
   ]
  },
  {
   "cell_type": "code",
   "execution_count": 18,
   "id": "ef70ea95",
   "metadata": {},
   "outputs": [],
   "source": [
    "def update_list(x: list):\n",
    "    x += [3]"
   ]
  },
  {
   "cell_type": "code",
   "execution_count": 19,
   "id": "2da21650",
   "metadata": {},
   "outputs": [
    {
     "name": "stdout",
     "output_type": "stream",
     "text": [
      "my_list = [1, 2]\n",
      "my_list = [1, 2, 3]\n"
     ]
    }
   ],
   "source": [
    "my_list = [1,2]\n",
    "print(f'{my_list = }')\n",
    "update_list(my_list)\n",
    "print(f'{my_list = }')"
   ]
  },
  {
   "cell_type": "markdown",
   "id": "5db79ab9",
   "metadata": {},
   "source": [
    "In the example above, since ```my_list``` is mutable is passed by reference to the function and is updated."
   ]
  },
  {
   "cell_type": "markdown",
   "id": "e3101d59",
   "metadata": {},
   "source": [
    "### Immutable objects: pass by value"
   ]
  },
  {
   "cell_type": "code",
   "execution_count": 20,
   "id": "5d6715de",
   "metadata": {},
   "outputs": [],
   "source": [
    "def update_number(x: int):\n",
    "    x += 2"
   ]
  },
  {
   "cell_type": "code",
   "execution_count": 21,
   "id": "7074ae14",
   "metadata": {},
   "outputs": [
    {
     "name": "stdout",
     "output_type": "stream",
     "text": [
      "n = 1\n",
      "n = 1\n"
     ]
    }
   ],
   "source": [
    "n = 1\n",
    "print(f'{n = }')\n",
    "update_number(n)\n",
    "print(f'{n = }')"
   ]
  },
  {
   "cell_type": "markdown",
   "id": "5c4e3a56",
   "metadata": {},
   "source": [
    "In the example above, since ```n``` in immutable, it can not be changed and only its value is passed to the function"
   ]
  },
  {
   "cell_type": "markdown",
   "id": "d07ad259",
   "metadata": {},
   "source": [
    "## <div id='args'>11. Arbitrary number of arguments (```*args```)</div>"
   ]
  },
  {
   "cell_type": "markdown",
   "id": "7d869226",
   "metadata": {},
   "source": [
    "If you need to handle any number of arguments, add a ```*``` before the parameter's name in the function definition.\n",
    "\n",
    "This way the function will receive a tuple of arguments\n",
    "\n",
    "**Example:**"
   ]
  },
  {
   "cell_type": "code",
   "execution_count": 22,
   "id": "129f703b",
   "metadata": {},
   "outputs": [
    {
     "name": "stdout",
     "output_type": "stream",
     "text": [
      "sum_values(1,2,3)   = 6\n",
      "sum_values(1,2,3,4) = 10\n"
     ]
    }
   ],
   "source": [
    "def sum_values(*args):\n",
    "    return sum(args)\n",
    "\n",
    "print(f'{sum_values(1,2,3)   = }')\n",
    "print(f'{sum_values(1,2,3,4) = }')"
   ]
  },
  {
   "cell_type": "markdown",
   "id": "a8f99ad0",
   "metadata": {},
   "source": [
    "## <div id='keyword-arguments'>12. Keyword Arguments</div>\n",
    "\n",
    "You can also send arguments with the ```key = value``` syntax.\n",
    "\n",
    "This way the order of the arguments doesn't matter.\n",
    "\n",
    "**Example:**"
   ]
  },
  {
   "cell_type": "code",
   "execution_count": 43,
   "id": "5aedcbd8",
   "metadata": {},
   "outputs": [
    {
     "name": "stdout",
     "output_type": "stream",
     "text": [
      "The youngest child is Markus\n"
     ]
    }
   ],
   "source": [
    "def my_function(child3, child2, child1):\n",
    "    print('The youngest child is ' + child3)\n",
    "\n",
    "my_function(child1 = 'Lukas', child2 = 'Tobias', child3 = 'Markus') "
   ]
  },
  {
   "cell_type": "markdown",
   "id": "cc0bdd51",
   "metadata": {},
   "source": [
    "**Note:** one could use a dictionary as well (in that case the order of the arguments do matter!):"
   ]
  },
  {
   "cell_type": "code",
   "execution_count": 44,
   "id": "9bdf4cf1",
   "metadata": {},
   "outputs": [
    {
     "name": "stdout",
     "output_type": "stream",
     "text": [
      "The youngest child is Markus\n"
     ]
    }
   ],
   "source": [
    "child_names = {'child1': 'Lukas', 'child2': 'Tobias', 'child3': 'Markus'}\n",
    "\n",
    "def my_function(child1, child2, child3):\n",
    "    print('The youngest child is ' + child3)\n",
    "\n",
    "my_function(**child_names)"
   ]
  },
  {
   "cell_type": "markdown",
   "id": "28138be6",
   "metadata": {},
   "source": [
    "**Note:** ```**child_names``` makes Python interpret the arguments as a dictionary."
   ]
  },
  {
   "cell_type": "markdown",
   "id": "0056e5f7",
   "metadata": {},
   "source": [
    "## <div id='kargs'>13. Arbitrary Keyword Arguments (```**kargs```)</div>"
   ]
  },
  {
   "cell_type": "code",
   "execution_count": 24,
   "id": "7734142c",
   "metadata": {},
   "outputs": [
    {
     "name": "stdout",
     "output_type": "stream",
     "text": [
      "The lastname of Miguel is Fernandez\n"
     ]
    }
   ],
   "source": [
    "def my_function(**kid):\n",
    "    print(f'The lastname of {kid[\"fname\"]} is {kid[\"lname\"]}')\n",
    "\n",
    "my_function(fname = \"Miguel\", lname = \"Fernandez\") "
   ]
  },
  {
   "cell_type": "markdown",
   "id": "ccac64b5",
   "metadata": {},
   "source": [
    "## <div id='optional-argument'>14. Default Parameter Value (i.e. optional argument)</div>\n",
    "\n",
    "In the following example, the argument ```convert``` if it is not provided, will be ```False``` by default"
   ]
  },
  {
   "cell_type": "code",
   "execution_count": 25,
   "id": "abcb1e9c",
   "metadata": {},
   "outputs": [],
   "source": [
    "from math import sqrt\n",
    "def square_root(val: float, convert: bool = False) -> float:\n",
    "    return sqrt(val*0.001) if convert else sqrt(val)"
   ]
  },
  {
   "cell_type": "code",
   "execution_count": 26,
   "id": "ff063157",
   "metadata": {},
   "outputs": [
    {
     "name": "stdout",
     "output_type": "stream",
     "text": [
      "square_root(1000) = 31.622776601683793\n",
      "square_root(1000, True) = 1.0\n"
     ]
    }
   ],
   "source": [
    "print(f'{square_root(1000) = }')\n",
    "print(f'{square_root(1000, True) = }')"
   ]
  },
  {
   "cell_type": "markdown",
   "id": "8dacfdff",
   "metadata": {},
   "source": [
    "## A function can call another function or itself\n",
    "\n",
    "**Example:**"
   ]
  },
  {
   "cell_type": "code",
   "execution_count": 27,
   "id": "45f1f0fa",
   "metadata": {},
   "outputs": [
    {
     "name": "stdout",
     "output_type": "stream",
     "text": [
      "calc(2) = 8\n"
     ]
    }
   ],
   "source": [
    "def f(x: int) -> int:\n",
    "    return x**2\n",
    "\n",
    "def calc(x: int) -> int:\n",
    "    if x:\n",
    "        return x + f(x) + calc(x-1)\n",
    "    else:\n",
    "        return 0\n",
    "\n",
    "print(f'{calc(2) = }')"
   ]
  },
  {
   "cell_type": "markdown",
   "id": "77469f99",
   "metadata": {},
   "source": [
    "## Returning ```NotImplemented```\n",
    "\n",
    "```NotImplemented``` is a built-in constant.\n",
    "\n",
    "<u>Syntax:</u>\n",
    "```\n",
    "def my_function():\n",
    "    return NotImplemented\n",
    "```"
   ]
  },
  {
   "cell_type": "markdown",
   "id": "484280a6",
   "metadata": {},
   "source": [
    "## <div id='helpful-functions'>15. Few examples of helpful built-in functions</div>"
   ]
  },
  {
   "cell_type": "markdown",
   "id": "c1ddb8f0",
   "metadata": {},
   "source": [
    "### Use math module to take the square root of a value"
   ]
  },
  {
   "cell_type": "code",
   "execution_count": 28,
   "id": "d8b8fdee",
   "metadata": {},
   "outputs": [
    {
     "name": "stdout",
     "output_type": "stream",
     "text": [
      "square_of_16 = 4.0\n"
     ]
    }
   ],
   "source": [
    "from math import sqrt\n",
    "square_of_16 = sqrt(16)\n",
    "print(f'{square_of_16 = }')"
   ]
  },
  {
   "cell_type": "markdown",
   "id": "2bc91dfd",
   "metadata": {},
   "source": [
    "### Use copy.deepcopy to copy a dict/list"
   ]
  },
  {
   "cell_type": "code",
   "execution_count": 29,
   "id": "f989f845",
   "metadata": {},
   "outputs": [
    {
     "name": "stdout",
     "output_type": "stream",
     "text": [
      "dict_a = {'a': 1, 'b': 2}\n",
      "id(dict_a) = 140271219973632\n",
      "dict_b = {'a': 1, 'b': 2}\n",
      "id(dict_b) = 140271219973248\n"
     ]
    }
   ],
   "source": [
    "dict_a = {'a':1,'b':2}\n",
    "\n",
    "from copy import deepcopy\n",
    "\n",
    "dict_b = deepcopy(dict_a)\n",
    "\n",
    "print(f'{dict_a = }')\n",
    "print(f'{id(dict_a) = }')\n",
    "print(f'{dict_b = }')\n",
    "print(f'{id(dict_b) = }')"
   ]
  },
  {
   "cell_type": "markdown",
   "id": "45c5c8aa",
   "metadata": {},
   "source": [
    "**Note:**\n",
    "    \n",
    "* ```dict_a``` and ```dict_b``` have the same content but are different objects (```id()``` return different values)\n",
    "\n",
    "* if ```dict_a``` is modified, ```dict_b``` will not be modified as well!\n",
    "\n",
    "* The same can be done with any other mutable object (```list```, etc)"
   ]
  },
  {
   "cell_type": "markdown",
   "id": "99f26717",
   "metadata": {},
   "source": [
    "### Round numbers with ```round()```"
   ]
  },
  {
   "cell_type": "code",
   "execution_count": 30,
   "id": "daf8ef45",
   "metadata": {},
   "outputs": [
    {
     "name": "stdout",
     "output_type": "stream",
     "text": [
      "number = 24.216312413\n"
     ]
    }
   ],
   "source": [
    "number = 24.216312413\n",
    "print(f'{number = }')"
   ]
  },
  {
   "cell_type": "markdown",
   "id": "d0ab6149",
   "metadata": {},
   "source": [
    "Let's say I want the above number to have only two decimal digits"
   ]
  },
  {
   "cell_type": "code",
   "execution_count": 31,
   "id": "90ba8eb3",
   "metadata": {},
   "outputs": [
    {
     "name": "stdout",
     "output_type": "stream",
     "text": [
      "rounded_number = 24.22\n"
     ]
    }
   ],
   "source": [
    "rounded_number = round(number,2)\n",
    "print(f'{rounded_number = }')"
   ]
  },
  {
   "cell_type": "markdown",
   "id": "95738382",
   "metadata": {},
   "source": [
    "## <div id='lambda-functions'>16. Lambda functions</div>\n",
    "\n",
    "Python lambdas are small, anonymous functions, subject to a more restrictive but more concise syntax than regular Python functions.\n",
    "\n",
    "<u>Syntax:</u>\n",
    "\n",
    "```\n",
    "lambda argument : return_value \n",
    "```\n",
    "\n",
    "Let's see how lambda functions work by an example. The following two functions (```get_age()``` and ```get_age_lambda()```) are equivalent:"
   ]
  },
  {
   "cell_type": "code",
   "execution_count": 32,
   "id": "c5b87122",
   "metadata": {},
   "outputs": [
    {
     "name": "stdout",
     "output_type": "stream",
     "text": [
      "35\n",
      "32\n"
     ]
    }
   ],
   "source": [
    "users = {\n",
    "  'Roberta' : {\n",
    "      'Age' : 35,\n",
    "  },\n",
    "  'Florencia' : {\n",
    "      'Age' : 32,\n",
    "  }\n",
    "}\n",
    "\n",
    "def get_age(user: dict) -> int:\n",
    "    return user['Age']\n",
    "\n",
    "print(get_age(users['Roberta']))\n",
    "\n",
    "get_age_lambda = lambda x: x['Age']\n",
    "print(get_age_lambda(users['Florencia']))"
   ]
  },
  {
   "cell_type": "markdown",
   "id": "4a7a4297",
   "metadata": {},
   "source": [
    "### Lambda function with multiple arguments\n",
    "\n",
    "Arguments are separated by a comma (```,```)"
   ]
  },
  {
   "cell_type": "code",
   "execution_count": 33,
   "id": "276e20ef",
   "metadata": {},
   "outputs": [
    {
     "name": "stdout",
     "output_type": "stream",
     "text": [
      "Jonathan, Bossio\n"
     ]
    }
   ],
   "source": [
    "full_name = lambda fname, lname: f'{lname}, {fname}'\n",
    "print(full_name('Bossio', 'Jonathan'))"
   ]
  },
  {
   "cell_type": "markdown",
   "id": "2b11e05a",
   "metadata": {},
   "source": [
    "### Real world example: sort a dictionary"
   ]
  },
  {
   "cell_type": "code",
   "execution_count": 34,
   "id": "ad6138cb",
   "metadata": {},
   "outputs": [
    {
     "name": "stdout",
     "output_type": "stream",
     "text": [
      "Unordered database: [{'Name': 'Pedro', 'Age': 32}, {'Name': 'Maria', 'Age': 27}, {'Name': 'Caterina', 'Age': 22}]\n",
      "Ordered database:   [{'Name': 'Caterina', 'Age': 22}, {'Name': 'Maria', 'Age': 27}, {'Name': 'Pedro', 'Age': 32}]\n"
     ]
    }
   ],
   "source": [
    "database = [\n",
    "    {'Name': 'Pedro',    'Age': 32},\n",
    "    {'Name': 'Maria',    'Age': 27},\n",
    "    {'Name': 'Caterina', 'Age': 22},\n",
    "]\n",
    "database_sorted = sorted(database, key = lambda x: x['Age']) # key must be a function (here a lambda function)\n",
    "print(f'Unordered database: {database}')\n",
    "print(f'Ordered database:   {database_sorted}')"
   ]
  },
  {
   "cell_type": "markdown",
   "id": "0f0e4599",
   "metadata": {},
   "source": [
    "**Note:**\n",
    "\n",
    "The ```sorted()``` function returns a sorted list of the provided iterable object.\n",
    "\n",
    "You can specify ascending or descending order. Strings are sorted alphabetically, and numbers are sorted numerically.\n",
    "\n",
    "<u>Syntax:</u>:\n",
    "```\n",
    " sorted(iterable, key=key, reverse=reverse) \n",
    "```"
   ]
  },
  {
   "cell_type": "markdown",
   "id": "e88160a5",
   "metadata": {},
   "source": [
    "## <div id='map-function'>17. The ```map()``` function</div>\n",
    "\n",
    "The ```map()``` function applies a given function to each item of an iterable (set, list, tuple, etc) and returns an iterator.\n",
    "\n",
    "<u>Syntax:</u>\n",
    "```\n",
    "map(function, iterable, ...)\n",
    "```\n",
    "\n",
    "**Note:** you can pass more than one iterable.\n",
    "\n",
    "**Example:**"
   ]
  },
  {
   "cell_type": "code",
   "execution_count": 35,
   "id": "ed3257cc",
   "metadata": {},
   "outputs": [
    {
     "name": "stdout",
     "output_type": "stream",
     "text": [
      "[1, 4, 9, 16, 25]\n"
     ]
    }
   ],
   "source": [
    "numbers = [1, 2, 3, 4, 5]\n",
    "\n",
    "def square(n: int) -> int:\n",
    "    \"\"\"Return the square of an integer number\"\"\"\n",
    "    return n * n\n",
    "\n",
    "# apply square() to each item of the numbers list and convert to a list\n",
    "squared_numbers = list(map(square, numbers))\n",
    "print(squared_numbers)"
   ]
  },
  {
   "cell_type": "markdown",
   "id": "3f02ca18",
   "metadata": {},
   "source": [
    "# <div id='exercises' align='center'>18. Exercises</div>\n",
    "\n",
    "Extra points if you:\n",
    "1. Comment what the function does\n",
    "2. Use type annotations"
   ]
  },
  {
   "cell_type": "markdown",
   "id": "ee199db4",
   "metadata": {},
   "source": [
    "## Exercise 1\n",
    "\n",
    "Create a function that takes a list of positive and negative integer values and returns a list of only those that are positive.\n",
    "\n",
    "**Answer:**"
   ]
  },
  {
   "cell_type": "code",
   "execution_count": 36,
   "id": "061a5053",
   "metadata": {},
   "outputs": [
    {
     "name": "stdout",
     "output_type": "stream",
     "text": [
      "my_list = [-3, -2, 1, 4, 6]\n",
      "my_list_positives = [1, 4, 6]\n"
     ]
    }
   ],
   "source": [
    "def take_positives(input_list: list) -> list:\n",
    "    \"\"\"Return a list with only positive numbers from input_list\"\"\"\n",
    "    return [item for item in input_list if item >= 0]\n",
    "\n",
    "my_list = [-3, -2, 1, 4, 6]\n",
    "my_list_positives = take_positives(my_list)\n",
    "print(f'{my_list = }')\n",
    "print(f'{my_list_positives = }')"
   ]
  },
  {
   "cell_type": "markdown",
   "id": "91874763",
   "metadata": {},
   "source": [
    "## Exercise 2\n",
    "\n",
    "Creat a function that evaluates the following function but returned value should have upto two decimals:\n",
    "\n",
    "if x >= 0:\n",
    "\n",
    " f(x) = 5 * (x-2) / 2\n",
    " \n",
    "if x <0:\n",
    "\n",
    " f(x) = 3 * (x-2)\n",
    " \n",
    "**Answer:**"
   ]
  },
  {
   "cell_type": "code",
   "execution_count": 37,
   "id": "f88dcee9",
   "metadata": {},
   "outputs": [
    {
     "name": "stdout",
     "output_type": "stream",
     "text": [
      "f(5.1) = 7.75\n",
      "f(-3.2) = -15.6\n"
     ]
    }
   ],
   "source": [
    "def f(x: float) -> float:\n",
    "    \"\"\"Returns 5(x-2)/2 if x>=0 and 3(x-2) if x<0, in both cases result is rounded to two decimals\"\"\"\n",
    "    if x >= 0:\n",
    "        return round(5 * (x-2) / 2, 2)\n",
    "    else:\n",
    "        return round(3 * (x-2), 2)\n",
    "\n",
    "print(f'{f(5.1) = }')\n",
    "print(f'{f(-3.2) = }')"
   ]
  },
  {
   "cell_type": "markdown",
   "id": "683e1def",
   "metadata": {},
   "source": [
    "## Exercise 3\n",
    "\n",
    "Create a function that creates a dictionary using the first argument as the key, and any other argument is put into a list associated to that key. If no argument is provided, an empty dictionary should be returned.\n",
    "\n",
    "**Answer:**"
   ]
  },
  {
   "cell_type": "code",
   "execution_count": 38,
   "id": "2a2a231d",
   "metadata": {},
   "outputs": [
    {
     "name": "stdout",
     "output_type": "stream",
     "text": [
      "my_dict_1 = {'a': [2, 3]}\n",
      "my_dict_2 = {'a': [2]}\n",
      "my_dict_3 = {'a': []}\n"
     ]
    }
   ],
   "source": [
    "def create_dict(*args) -> dict:\n",
    "    \"\"\"Create dictionary using first argument as key,\n",
    "    the rest of the arguments are put into a list and associated to such key\"\"\"\n",
    "    if len(args):\n",
    "        if len(args) > 1:\n",
    "            return {args[0]: [arg for arg in args[1:]]}\n",
    "        else:\n",
    "            return {args[0]: []}\n",
    "    return {}\n",
    "\n",
    "my_dict_1 = create_dict('a', 2, 3)\n",
    "print(f'{my_dict_1 = }')\n",
    "\n",
    "my_dict_2 = create_dict('a', 2)\n",
    "print(f'{my_dict_2 = }')\n",
    "\n",
    "my_dict_3 = create_dict('a')\n",
    "print(f'{my_dict_3 = }')"
   ]
  }
 ],
 "metadata": {
  "kernelspec": {
   "display_name": "Python 3 (ipykernel)",
   "language": "python",
   "name": "python3"
  },
  "language_info": {
   "codemirror_mode": {
    "name": "ipython",
    "version": 3
   },
   "file_extension": ".py",
   "mimetype": "text/x-python",
   "name": "python",
   "nbconvert_exporter": "python",
   "pygments_lexer": "ipython3",
   "version": "3.8.10"
  }
 },
 "nbformat": 4,
 "nbformat_minor": 5
}
