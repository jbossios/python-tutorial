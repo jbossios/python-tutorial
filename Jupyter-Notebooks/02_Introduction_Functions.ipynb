{
 "cells": [
  {
   "cell_type": "markdown",
   "id": "28ace8e2",
   "metadata": {},
   "source": [
    "# <div align='center'>Introduction to Python: Functions</div>"
   ]
  },
  {
   "cell_type": "markdown",
   "id": "0ea0026b",
   "metadata": {},
   "source": [
    "## What is a function?\n",
    "\n",
    "A function is a block of code which only runs when it is called.\n",
    "\n",
    "You can pass/provide data to the function, known as arguments or parameters.\n",
    "\n",
    "A function can return data as a result.\n",
    "\n",
    "Functions are helpful for organizing code and to reduce duplication.\n",
    "\n",
    "\n",
    "## Naming convention\n",
    "\n",
    "The naming convention for functions is the same as for variables (skane_case)"
   ]
  },
  {
   "cell_type": "markdown",
   "id": "81303458",
   "metadata": {},
   "source": [
    "## Example 1: function with no arguments and no return"
   ]
  },
  {
   "cell_type": "markdown",
   "id": "8e12e6c4",
   "metadata": {},
   "source": [
    "Let's first define the ```print_hello_world()``` function:"
   ]
  },
  {
   "cell_type": "code",
   "execution_count": 1,
   "id": "ae9c7198",
   "metadata": {},
   "outputs": [],
   "source": [
    "def print_hello_world():\n",
    "    print('Hello world!')"
   ]
  },
  {
   "cell_type": "markdown",
   "id": "2feed7e6",
   "metadata": {},
   "source": [
    "Use/call the ```print_hello_world()``` function:"
   ]
  },
  {
   "cell_type": "code",
   "execution_count": 2,
   "id": "665f3c23",
   "metadata": {},
   "outputs": [
    {
     "name": "stdout",
     "output_type": "stream",
     "text": [
      "Hello world!\n"
     ]
    }
   ],
   "source": [
    "print_hello_world()"
   ]
  },
  {
   "cell_type": "markdown",
   "id": "44b905a2",
   "metadata": {},
   "source": [
    "## Example 2: function with a single argument and a single return value\n",
    "\n",
    "To let a function return a value, use the ```return``` statement:"
   ]
  },
  {
   "cell_type": "code",
   "execution_count": 3,
   "id": "50dc1590",
   "metadata": {},
   "outputs": [],
   "source": [
    "def sum_2(n):\n",
    "    return n + 2"
   ]
  },
  {
   "cell_type": "markdown",
   "id": "d2f5e9f1",
   "metadata": {},
   "source": [
    "Call the ```sum_2``` function:"
   ]
  },
  {
   "cell_type": "code",
   "execution_count": 4,
   "id": "ed4348ac",
   "metadata": {},
   "outputs": [
    {
     "name": "stdout",
     "output_type": "stream",
     "text": [
      "sum_2(2) = 4\n"
     ]
    }
   ],
   "source": [
    "print(f'{sum_2(2) = }')"
   ]
  },
  {
   "cell_type": "markdown",
   "id": "6c2b21ef",
   "metadata": {},
   "source": [
    "The above ```sum_2()``` function would be equal to the following:"
   ]
  },
  {
   "cell_type": "code",
   "execution_count": 5,
   "id": "c6fe265e",
   "metadata": {},
   "outputs": [],
   "source": [
    "def sum_2(n):\n",
    "    result = n + 2\n",
    "    return result"
   ]
  },
  {
   "cell_type": "markdown",
   "id": "a2a5b718",
   "metadata": {},
   "source": [
    "## Example 3: function with multiple arguments"
   ]
  },
  {
   "cell_type": "code",
   "execution_count": 6,
   "id": "acc357e1",
   "metadata": {},
   "outputs": [],
   "source": [
    "def multiply(x,y):\n",
    "    return x*y"
   ]
  },
  {
   "cell_type": "markdown",
   "id": "cfc3a678",
   "metadata": {},
   "source": [
    "Call the ```multiply()``` function:"
   ]
  },
  {
   "cell_type": "code",
   "execution_count": 7,
   "id": "3630ecb8",
   "metadata": {},
   "outputs": [
    {
     "name": "stdout",
     "output_type": "stream",
     "text": [
      "multiply(2,3) = 6\n"
     ]
    }
   ],
   "source": [
    "print(f'{multiply(2,3) = }')"
   ]
  },
  {
   "cell_type": "markdown",
   "id": "2762ddfe",
   "metadata": {},
   "source": [
    "## Example 4: why are functions useful?\n",
    "\n",
    "Let's imagine I want to make a complex mathematical calculation several times\n",
    "\n",
    "A function allows me to define such calculation only once"
   ]
  },
  {
   "cell_type": "code",
   "execution_count": 8,
   "id": "8f39cd4a",
   "metadata": {},
   "outputs": [],
   "source": [
    "def calc(x, y, string):\n",
    "    if string == 'case1':\n",
    "        return 2 + x + y + x**y\n",
    "    elif string == 'case2':\n",
    "        return x - y + x**y\n",
    "    else:\n",
    "        return y - x"
   ]
  },
  {
   "cell_type": "markdown",
   "id": "fdea7474",
   "metadata": {},
   "source": [
    "Call the ```calc()``` function three times:"
   ]
  },
  {
   "cell_type": "code",
   "execution_count": 9,
   "id": "79ea7031",
   "metadata": {},
   "outputs": [
    {
     "name": "stdout",
     "output_type": "stream",
     "text": [
      "calc(2, 5, \"case1\") = 41\n",
      "calc(2, 5, \"case2\") = 29\n",
      "calc(2, 5, \"case3\") = 3\n"
     ]
    }
   ],
   "source": [
    "print(f'{calc(2, 5, \"case1\") = }') \n",
    "print(f'{calc(2, 5, \"case2\") = }')\n",
    "print(f'{calc(2, 5, \"case3\") = }')"
   ]
  },
  {
   "cell_type": "markdown",
   "id": "a5d942d1",
   "metadata": {},
   "source": [
    "**Note:** I needed to use ```\"\"``` instead of ```''``` for passing a str argument"
   ]
  },
  {
   "cell_type": "markdown",
   "id": "d03a826b",
   "metadata": {},
   "source": [
    "## Example 5: comment what a function does"
   ]
  },
  {
   "cell_type": "code",
   "execution_count": 10,
   "id": "75f521c5",
   "metadata": {},
   "outputs": [],
   "source": [
    "def my_func():\n",
    "    \"\"\"This function returns 0\"\"\"\n",
    "    return 0"
   ]
  },
  {
   "cell_type": "markdown",
   "id": "9483db9e",
   "metadata": {},
   "source": [
    "I can print such comment using ```__doc__```:"
   ]
  },
  {
   "cell_type": "code",
   "execution_count": 11,
   "id": "d33b7ae9",
   "metadata": {},
   "outputs": [
    {
     "name": "stdout",
     "output_type": "stream",
     "text": [
      "my_func.__doc__ = 'This function returns 0'\n"
     ]
    }
   ],
   "source": [
    "print(f'{my_func.__doc__ = }')"
   ]
  },
  {
   "cell_type": "markdown",
   "id": "6ecb8ddd",
   "metadata": {},
   "source": [
    "## Function annotations\n",
    "\n",
    "One can improve the readability of a function with function annotations.\n",
    "\n",
    "In the following function, I'm saying I need an ```int``` and a ```str``` arguments, and that I will return a dictionary.\n",
    "\n",
    "These are also known as type hints."
   ]
  },
  {
   "cell_type": "code",
   "execution_count": 12,
   "id": "7d52cbd2",
   "metadata": {},
   "outputs": [],
   "source": [
    "def create_dict(x: int, y: str) -> dict:\n",
    "    \"\"\"Example of a function using annotations\"\"\"\n",
    "    return {x : y} # note: I'm using dictionary comprehension here"
   ]
  },
  {
   "cell_type": "markdown",
   "id": "9eb9b228",
   "metadata": {},
   "source": [
    "Call the ```create_dict()``` function:"
   ]
  },
  {
   "cell_type": "code",
   "execution_count": 13,
   "id": "9b529543",
   "metadata": {},
   "outputs": [
    {
     "name": "stdout",
     "output_type": "stream",
     "text": [
      "create_dict(2,\"example\") = {2: 'example'}\n"
     ]
    }
   ],
   "source": [
    "print(f'{create_dict(2,\"example\") = }')"
   ]
  },
  {
   "cell_type": "markdown",
   "id": "f8ff9c3d",
   "metadata": {},
   "source": [
    "**IMPORTANT:** I could have put any type to ```x```, ```y``` and the return (even incorrect ones!). This just helps the reader but is not cheked at any point (they just need to be valid types)."
   ]
  },
  {
   "cell_type": "markdown",
   "id": "32dc72d7",
   "metadata": {},
   "source": [
    "## Example 6: function returning several objects as a tuple"
   ]
  },
  {
   "cell_type": "code",
   "execution_count": 14,
   "id": "f4ff4c50",
   "metadata": {},
   "outputs": [],
   "source": [
    "def return_multiple_objects(x,y) -> tuple:\n",
    "    return x+2, y+3"
   ]
  },
  {
   "cell_type": "markdown",
   "id": "e6ce9afa",
   "metadata": {},
   "source": [
    "Call the ```return_multiple_objects()``` function:"
   ]
  },
  {
   "cell_type": "code",
   "execution_count": 15,
   "id": "2a835d5e",
   "metadata": {},
   "outputs": [
    {
     "name": "stdout",
     "output_type": "stream",
     "text": [
      "my_tuple = (3, 5)\n",
      "my_tuple[0] = 3\n",
      "my_tuple[1] = 5\n"
     ]
    }
   ],
   "source": [
    "my_tuple = return_multiple_objects(1,2)\n",
    "print(f'{my_tuple = }')    # get the tuple\n",
    "print(f'{my_tuple[0] = }') # get first value of the tuple\n",
    "print(f'{my_tuple[1] = }') # get second value of the tuple"
   ]
  },
  {
   "cell_type": "markdown",
   "id": "57d555d8",
   "metadata": {},
   "source": [
    "I could also retrieve values one by one using what is called \"tuple unpacking\":"
   ]
  },
  {
   "cell_type": "code",
   "execution_count": 16,
   "id": "bbf1b76b",
   "metadata": {},
   "outputs": [
    {
     "name": "stdout",
     "output_type": "stream",
     "text": [
      "a = 3\n",
      "b = 5\n"
     ]
    }
   ],
   "source": [
    "a, b = return_multiple_objects(1,2)\n",
    "print(f'{a = }')\n",
    "print(f'{b = }')"
   ]
  },
  {
   "cell_type": "markdown",
   "id": "d126d3fb",
   "metadata": {},
   "source": [
    "What about if I only care (i.e. will only use) the first return value?"
   ]
  },
  {
   "cell_type": "code",
   "execution_count": 17,
   "id": "fc40ed01",
   "metadata": {},
   "outputs": [],
   "source": [
    "a, _ = return_multiple_objects(1,2) "
   ]
  },
  {
   "cell_type": "markdown",
   "id": "c07ce44c",
   "metadata": {},
   "source": [
    "**Note:** ```_``` tells the reader that I will not use that variable"
   ]
  },
  {
   "cell_type": "markdown",
   "id": "1570366a",
   "metadata": {},
   "source": [
    "## How objects are passed to functions?\n",
    "\n",
    "### Mutable objects: call by reference"
   ]
  },
  {
   "cell_type": "code",
   "execution_count": 18,
   "id": "ef70ea95",
   "metadata": {},
   "outputs": [],
   "source": [
    "def update_list(x: list):\n",
    "    x += [3]"
   ]
  },
  {
   "cell_type": "code",
   "execution_count": 19,
   "id": "2da21650",
   "metadata": {},
   "outputs": [
    {
     "name": "stdout",
     "output_type": "stream",
     "text": [
      "my_list = [1, 2]\n",
      "my_list = [1, 2, 3]\n"
     ]
    }
   ],
   "source": [
    "my_list = [1,2]\n",
    "print(f'{my_list = }')\n",
    "update_list(my_list)\n",
    "print(f'{my_list = }')"
   ]
  },
  {
   "cell_type": "markdown",
   "id": "5db79ab9",
   "metadata": {},
   "source": [
    "In the example above, since ```my_list``` is mutable is passed by reference to the function and is updated."
   ]
  },
  {
   "cell_type": "markdown",
   "id": "e3101d59",
   "metadata": {},
   "source": [
    "### Immutable objects: pass by value"
   ]
  },
  {
   "cell_type": "code",
   "execution_count": 20,
   "id": "5d6715de",
   "metadata": {},
   "outputs": [],
   "source": [
    "def update_number(x: int):\n",
    "    x += 2"
   ]
  },
  {
   "cell_type": "code",
   "execution_count": 21,
   "id": "7074ae14",
   "metadata": {},
   "outputs": [
    {
     "name": "stdout",
     "output_type": "stream",
     "text": [
      "n = 1\n",
      "n = 1\n"
     ]
    }
   ],
   "source": [
    "n = 1\n",
    "print(f'{n = }')\n",
    "update_number(n)\n",
    "print(f'{n = }')"
   ]
  },
  {
   "cell_type": "markdown",
   "id": "5c4e3a56",
   "metadata": {},
   "source": [
    "In the example above, since ```n``` in immutable, it can not be changed and only its value is passed to the function"
   ]
  },
  {
   "cell_type": "markdown",
   "id": "d07ad259",
   "metadata": {},
   "source": [
    "## Arbitary number of arguments (```*args```)"
   ]
  },
  {
   "cell_type": "markdown",
   "id": "7d869226",
   "metadata": {},
   "source": [
    "If you need to handle any number of arguments, add a ```*``` before the parameter's name in the function definition.\n",
    "\n",
    "This way the function will receive a tuple of arguments\n",
    "\n",
    "**Example:**"
   ]
  },
  {
   "cell_type": "code",
   "execution_count": 22,
   "id": "129f703b",
   "metadata": {},
   "outputs": [
    {
     "name": "stdout",
     "output_type": "stream",
     "text": [
      "sum_values(1,2,3)   = 6\n",
      "sum_values(1,2,3,4) = 10\n"
     ]
    }
   ],
   "source": [
    "def sum_values(*args):\n",
    "    return sum(args)\n",
    "\n",
    "print(f'{sum_values(1,2,3)   = }')\n",
    "print(f'{sum_values(1,2,3,4) = }')"
   ]
  },
  {
   "cell_type": "markdown",
   "id": "a8f99ad0",
   "metadata": {},
   "source": [
    "## Keyword Arguments\n",
    "\n",
    "You can also send arguments with the ```key = value``` syntax.\n",
    "\n",
    "This way the order of the arguments doesn't matter.\n",
    "\n",
    "**Example:**"
   ]
  },
  {
   "cell_type": "code",
   "execution_count": 23,
   "id": "5aedcbd8",
   "metadata": {},
   "outputs": [
    {
     "name": "stdout",
     "output_type": "stream",
     "text": [
      "The youngest child is Markus\n"
     ]
    }
   ],
   "source": [
    "def my_function(child3, child2, child1):\n",
    "    print('The youngest child is ' + child3)\n",
    "\n",
    "my_function(child1 = 'Lukas', child2 = 'Tobias', child3 = 'Markus') "
   ]
  },
  {
   "cell_type": "markdown",
   "id": "0056e5f7",
   "metadata": {},
   "source": [
    "## Arbitrary Keyword Arguments (```**kargs```)"
   ]
  },
  {
   "cell_type": "code",
   "execution_count": 24,
   "id": "7734142c",
   "metadata": {},
   "outputs": [
    {
     "name": "stdout",
     "output_type": "stream",
     "text": [
      "The lastname of Miguel is Fernandez\n"
     ]
    }
   ],
   "source": [
    "def my_function(**kid):\n",
    "    print(f'The lastname of {kid[\"fname\"]} is {kid[\"lname\"]}')\n",
    "\n",
    "my_function(fname = \"Miguel\", lname = \"Fernandez\") "
   ]
  },
  {
   "cell_type": "markdown",
   "id": "ccac64b5",
   "metadata": {},
   "source": [
    "# Default Parameter Value (i.e. optional argument)\n",
    "\n",
    "In the following example, the argument ```convert``` if it is not provided, will be ```False``` by default"
   ]
  },
  {
   "cell_type": "code",
   "execution_count": 25,
   "id": "abcb1e9c",
   "metadata": {},
   "outputs": [],
   "source": [
    "from math import sqrt\n",
    "def square_root(val: float, convert: bool = False) -> float:\n",
    "    return sqrt(val*0.001) if convert else sqrt(val)"
   ]
  },
  {
   "cell_type": "code",
   "execution_count": 26,
   "id": "ff063157",
   "metadata": {},
   "outputs": [
    {
     "name": "stdout",
     "output_type": "stream",
     "text": [
      "square_root(1000) = 31.622776601683793\n",
      "square_root(1000, True) = 1.0\n"
     ]
    }
   ],
   "source": [
    "print(f'{square_root(1000) = }')\n",
    "print(f'{square_root(1000, True) = }')"
   ]
  },
  {
   "cell_type": "markdown",
   "id": "8dacfdff",
   "metadata": {},
   "source": [
    "## A function can call another function or itself\n",
    "\n",
    "**Example:**"
   ]
  },
  {
   "cell_type": "code",
   "execution_count": 27,
   "id": "45f1f0fa",
   "metadata": {},
   "outputs": [
    {
     "name": "stdout",
     "output_type": "stream",
     "text": [
      "calc(2) = 8\n"
     ]
    }
   ],
   "source": [
    "def f(x: int) -> int:\n",
    "    return x**2\n",
    "\n",
    "def calc(x: int) -> int:\n",
    "    if x:\n",
    "        return x + f(x) + calc(x-1)\n",
    "    else:\n",
    "        return 0\n",
    "\n",
    "print(f'{calc(2) = }')"
   ]
  },
  {
   "cell_type": "markdown",
   "id": "77469f99",
   "metadata": {},
   "source": [
    "## Returning ```NotImplemented```\n",
    "\n",
    "```NotImplemented``` is a built-in constant.\n",
    "\n",
    "<u>Syntax:</u>\n",
    "```\n",
    "def my_function():\n",
    "    return NotImplemented\n",
    "```"
   ]
  },
  {
   "cell_type": "markdown",
   "id": "484280a6",
   "metadata": {},
   "source": [
    "## Few examples of helpful buil-in functions"
   ]
  },
  {
   "cell_type": "markdown",
   "id": "c1ddb8f0",
   "metadata": {},
   "source": [
    "### Use math module to take the square root of a value"
   ]
  },
  {
   "cell_type": "code",
   "execution_count": 28,
   "id": "d8b8fdee",
   "metadata": {},
   "outputs": [
    {
     "name": "stdout",
     "output_type": "stream",
     "text": [
      "square_of_16 = 4.0\n"
     ]
    }
   ],
   "source": [
    "from math import sqrt\n",
    "square_of_16 = sqrt(16)\n",
    "print(f'{square_of_16 = }')"
   ]
  },
  {
   "cell_type": "markdown",
   "id": "2bc91dfd",
   "metadata": {},
   "source": [
    "### Use copy.deepcopy to copy a dict/list"
   ]
  },
  {
   "cell_type": "code",
   "execution_count": 29,
   "id": "f989f845",
   "metadata": {},
   "outputs": [
    {
     "name": "stdout",
     "output_type": "stream",
     "text": [
      "dict_a = {'a': 1, 'b': 2}\n",
      "id(dict_a) = 140319671643328\n",
      "dict_b = {'a': 1, 'b': 2}\n",
      "id(dict_b) = 140319671643200\n"
     ]
    }
   ],
   "source": [
    "dict_a = {'a':1,'b':2}\n",
    "\n",
    "from copy import deepcopy\n",
    "\n",
    "dict_b = deepcopy(dict_a)\n",
    "\n",
    "print(f'{dict_a = }')\n",
    "print(f'{id(dict_a) = }')\n",
    "print(f'{dict_b = }')\n",
    "print(f'{id(dict_b) = }')"
   ]
  },
  {
   "cell_type": "markdown",
   "id": "45c5c8aa",
   "metadata": {},
   "source": [
    "**Note:**\n",
    "    \n",
    "* ```dict_a``` and ```dict_b``` have the same content but are different objects (```id()``` return different values)\n",
    "\n",
    "* if ```dict_a``` is modified, ```dict_b``` will not be modified as well!\n",
    "\n",
    "* The same can be done with any other mutable object (```list```, etc)"
   ]
  },
  {
   "cell_type": "markdown",
   "id": "99f26717",
   "metadata": {},
   "source": [
    "### Round numbers with ```round()```"
   ]
  },
  {
   "cell_type": "code",
   "execution_count": 30,
   "id": "daf8ef45",
   "metadata": {},
   "outputs": [
    {
     "name": "stdout",
     "output_type": "stream",
     "text": [
      "number = 24.216312413\n"
     ]
    }
   ],
   "source": [
    "number = 24.216312413\n",
    "print(f'{number = }')"
   ]
  },
  {
   "cell_type": "markdown",
   "id": "d0ab6149",
   "metadata": {},
   "source": [
    "Let's say I want the above number to have only two decimal digits"
   ]
  },
  {
   "cell_type": "code",
   "execution_count": 31,
   "id": "90ba8eb3",
   "metadata": {},
   "outputs": [
    {
     "name": "stdout",
     "output_type": "stream",
     "text": [
      "rounded_number = 24.22\n"
     ]
    }
   ],
   "source": [
    "rounded_number = round(number,2)\n",
    "print(f'{rounded_number = }')"
   ]
  },
  {
   "cell_type": "markdown",
   "id": "95738382",
   "metadata": {},
   "source": [
    "## Lambda functions\n",
    "\n",
    "Python lambdas are small, anonymous functions, subject to a more restrictive but more concise syntax than regular Python functions.\n",
    "\n",
    "<u>Syntax:</u>\n",
    "\n",
    "```\n",
    "lambda argument : return_value \n",
    "```\n",
    "\n",
    "Let's see how lambda functions work by an example. The following two functions (```get_age()``` and ```get_age_lambda()```) are equivalent:"
   ]
  },
  {
   "cell_type": "code",
   "execution_count": 32,
   "id": "c5b87122",
   "metadata": {},
   "outputs": [
    {
     "name": "stdout",
     "output_type": "stream",
     "text": [
      "35\n",
      "32\n"
     ]
    }
   ],
   "source": [
    "users = {\n",
    "  'Roberta' : {\n",
    "      'Age' : 35,\n",
    "  },\n",
    "  'Florencia' : {\n",
    "      'Age' : 32,\n",
    "  }\n",
    "}\n",
    "\n",
    "def get_age(user: dict) -> int:\n",
    "    return user['Age']\n",
    "\n",
    "print(get_age(users['Roberta']))\n",
    "\n",
    "get_age_lambda = lambda x: x['Age']\n",
    "print(get_age_lambda(users['Florencia']))"
   ]
  },
  {
   "cell_type": "markdown",
   "id": "4a7a4297",
   "metadata": {},
   "source": [
    "### Lambda function with multiple arguments\n",
    "\n",
    "Arguments are separated by a comma (```,```)"
   ]
  },
  {
   "cell_type": "code",
   "execution_count": 33,
   "id": "276e20ef",
   "metadata": {},
   "outputs": [
    {
     "name": "stdout",
     "output_type": "stream",
     "text": [
      "Jonathan, Bossio\n"
     ]
    }
   ],
   "source": [
    "full_name = lambda fname, lname: f'{lname}, {fname}'\n",
    "print(full_name('Bossio', 'Jonathan'))"
   ]
  },
  {
   "cell_type": "markdown",
   "id": "2b11e05a",
   "metadata": {},
   "source": [
    "### Real world example: sort a dictionary"
   ]
  },
  {
   "cell_type": "code",
   "execution_count": 34,
   "id": "ad6138cb",
   "metadata": {},
   "outputs": [
    {
     "name": "stdout",
     "output_type": "stream",
     "text": [
      "Unordered database: [{'Name': 'Pedro', 'Age': 32}, {'Name': 'Maria', 'Age': 27}, {'Name': 'Caterina', 'Age': 22}]\n",
      "Ordered database:   [{'Name': 'Caterina', 'Age': 22}, {'Name': 'Maria', 'Age': 27}, {'Name': 'Pedro', 'Age': 32}]\n"
     ]
    }
   ],
   "source": [
    "database = [\n",
    "    {'Name': 'Pedro',    'Age': 32},\n",
    "    {'Name': 'Maria',    'Age': 27},\n",
    "    {'Name': 'Caterina', 'Age': 22},\n",
    "]\n",
    "database_sorted = sorted(database, key = lambda x: x['Age']) # key must be a function (here a lambda function)\n",
    "print(f'Unordered database: {database}')\n",
    "print(f'Ordered database:   {database_sorted}')"
   ]
  },
  {
   "cell_type": "markdown",
   "id": "0f0e4599",
   "metadata": {},
   "source": [
    "**Note:**\n",
    "\n",
    "The ```sorted()``` function returns a sorted list of the provided iterable object.\n",
    "\n",
    "You can specify ascending or descending order. Strings are sorted alphabetically, and numbers are sorted numerically.\n",
    "\n",
    "<u>Syntax:</u>:\n",
    "```\n",
    " sorted(iterable, key=key, reverse=reverse) \n",
    "```"
   ]
  },
  {
   "cell_type": "markdown",
   "id": "e88160a5",
   "metadata": {},
   "source": [
    "## The ```map()``` function\n",
    "\n",
    "The ```map()``` function applies a given function to each item of an iterable (set, list, tuple, etc) and returns an iterator.\n",
    "\n",
    "<u>Syntax:</u>\n",
    "```\n",
    "map(function, iterable, ...)\n",
    "```\n",
    "\n",
    "**Note:** you can pass more than one iterable.\n",
    "\n",
    "**Example:**"
   ]
  },
  {
   "cell_type": "code",
   "execution_count": 35,
   "id": "ed3257cc",
   "metadata": {},
   "outputs": [
    {
     "name": "stdout",
     "output_type": "stream",
     "text": [
      "[1, 4, 9, 16, 25]\n"
     ]
    }
   ],
   "source": [
    "numbers = [1, 2, 3, 4, 5]\n",
    "\n",
    "def square(n: int) -> int:\n",
    "    \"\"\"Return the square of an integer number\"\"\"\n",
    "    return n * n\n",
    "\n",
    "# apply square() to each item of the numbers list and convert to a list\n",
    "squared_numbers = list(map(square, numbers))\n",
    "print(squared_numbers)"
   ]
  },
  {
   "cell_type": "markdown",
   "id": "3f02ca18",
   "metadata": {},
   "source": [
    "# <div align='center'>Exercises</div>"
   ]
  },
  {
   "cell_type": "code",
   "execution_count": null,
   "id": "b09c02b3",
   "metadata": {},
   "outputs": [],
   "source": []
  }
 ],
 "metadata": {
  "kernelspec": {
   "display_name": "Python 3 (ipykernel)",
   "language": "python",
   "name": "python3"
  },
  "language_info": {
   "codemirror_mode": {
    "name": "ipython",
    "version": 3
   },
   "file_extension": ".py",
   "mimetype": "text/x-python",
   "name": "python",
   "nbconvert_exporter": "python",
   "pygments_lexer": "ipython3",
   "version": "3.8.10"
  }
 },
 "nbformat": 4,
 "nbformat_minor": 5
}
